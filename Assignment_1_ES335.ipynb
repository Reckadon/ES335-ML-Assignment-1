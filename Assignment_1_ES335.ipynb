{
  "cells": [
    {
      "cell_type": "code",
      "execution_count": 15,
      "metadata": {
        "colab": {
          "base_uri": "https://localhost:8080/",
          "height": 408
        },
        "id": "EoIwzWnwWX5P",
        "outputId": "bfc04334-8a35-4203-d1e8-c37b63417091"
      },
      "outputs": [
        {
          "output_type": "error",
          "ename": "AttributeError",
          "evalue": "'dict' object has no attribute 'InlineBackend'",
          "traceback": [
            "\u001b[0;31m---------------------------------------------------------------------------\u001b[0m",
            "\u001b[0;31mAttributeError\u001b[0m                            Traceback (most recent call last)",
            "\u001b[0;32m<ipython-input-15-4f4293747cec>\u001b[0m in \u001b[0;36m<cell line: 4>\u001b[0;34m()\u001b[0m\n\u001b[1;32m      2\u001b[0m \u001b[0;32mimport\u001b[0m \u001b[0mpandas\u001b[0m \u001b[0;32mas\u001b[0m \u001b[0mpd\u001b[0m\u001b[0;34m\u001b[0m\u001b[0;34m\u001b[0m\u001b[0m\n\u001b[1;32m      3\u001b[0m \u001b[0;32mimport\u001b[0m \u001b[0mmatplotlib\u001b[0m\u001b[0;34m.\u001b[0m\u001b[0mpyplot\u001b[0m \u001b[0;32mas\u001b[0m \u001b[0mplt\u001b[0m\u001b[0;34m\u001b[0m\u001b[0;34m\u001b[0m\u001b[0m\n\u001b[0;32m----> 4\u001b[0;31m \u001b[0mget_ipython\u001b[0m\u001b[0;34m(\u001b[0m\u001b[0;34m)\u001b[0m\u001b[0;34m.\u001b[0m\u001b[0mrun_line_magic\u001b[0m\u001b[0;34m(\u001b[0m\u001b[0;34m'config'\u001b[0m\u001b[0;34m,\u001b[0m \u001b[0;34m\"InlineBackend.figure_format = 'retina'\"\u001b[0m\u001b[0;34m)\u001b[0m\u001b[0;34m\u001b[0m\u001b[0;34m\u001b[0m\u001b[0m\n\u001b[0m\u001b[1;32m      5\u001b[0m \u001b[0mget_ipython\u001b[0m\u001b[0;34m(\u001b[0m\u001b[0;34m)\u001b[0m\u001b[0;34m.\u001b[0m\u001b[0mrun_line_magic\u001b[0m\u001b[0;34m(\u001b[0m\u001b[0;34m'matplotlib'\u001b[0m\u001b[0;34m,\u001b[0m \u001b[0;34m'inline'\u001b[0m\u001b[0;34m)\u001b[0m\u001b[0;34m\u001b[0m\u001b[0;34m\u001b[0m\u001b[0m\n",
            "\u001b[0;32m/usr/local/lib/python3.10/dist-packages/IPython/core/interactiveshell.py\u001b[0m in \u001b[0;36mrun_line_magic\u001b[0;34m(self, magic_name, line, _stack_depth)\u001b[0m\n\u001b[1;32m   2416\u001b[0m                 \u001b[0mkwargs\u001b[0m\u001b[0;34m[\u001b[0m\u001b[0;34m'local_ns'\u001b[0m\u001b[0;34m]\u001b[0m \u001b[0;34m=\u001b[0m \u001b[0mself\u001b[0m\u001b[0;34m.\u001b[0m\u001b[0mget_local_scope\u001b[0m\u001b[0;34m(\u001b[0m\u001b[0mstack_depth\u001b[0m\u001b[0;34m)\u001b[0m\u001b[0;34m\u001b[0m\u001b[0;34m\u001b[0m\u001b[0m\n\u001b[1;32m   2417\u001b[0m             \u001b[0;32mwith\u001b[0m \u001b[0mself\u001b[0m\u001b[0;34m.\u001b[0m\u001b[0mbuiltin_trap\u001b[0m\u001b[0;34m:\u001b[0m\u001b[0;34m\u001b[0m\u001b[0;34m\u001b[0m\u001b[0m\n\u001b[0;32m-> 2418\u001b[0;31m                 \u001b[0mresult\u001b[0m \u001b[0;34m=\u001b[0m \u001b[0mfn\u001b[0m\u001b[0;34m(\u001b[0m\u001b[0;34m*\u001b[0m\u001b[0margs\u001b[0m\u001b[0;34m,\u001b[0m \u001b[0;34m**\u001b[0m\u001b[0mkwargs\u001b[0m\u001b[0;34m)\u001b[0m\u001b[0;34m\u001b[0m\u001b[0;34m\u001b[0m\u001b[0m\n\u001b[0m\u001b[1;32m   2419\u001b[0m             \u001b[0;32mreturn\u001b[0m \u001b[0mresult\u001b[0m\u001b[0;34m\u001b[0m\u001b[0;34m\u001b[0m\u001b[0m\n\u001b[1;32m   2420\u001b[0m \u001b[0;34m\u001b[0m\u001b[0m\n",
            "\u001b[0;32m<decorator-gen-41>\u001b[0m in \u001b[0;36mconfig\u001b[0;34m(self, s)\u001b[0m\n",
            "\u001b[0;32m/usr/local/lib/python3.10/dist-packages/IPython/core/magic.py\u001b[0m in \u001b[0;36m<lambda>\u001b[0;34m(f, *a, **k)\u001b[0m\n\u001b[1;32m    185\u001b[0m     \u001b[0;31m# but it's overkill for just that one bit of state.\u001b[0m\u001b[0;34m\u001b[0m\u001b[0;34m\u001b[0m\u001b[0m\n\u001b[1;32m    186\u001b[0m     \u001b[0;32mdef\u001b[0m \u001b[0mmagic_deco\u001b[0m\u001b[0;34m(\u001b[0m\u001b[0marg\u001b[0m\u001b[0;34m)\u001b[0m\u001b[0;34m:\u001b[0m\u001b[0;34m\u001b[0m\u001b[0;34m\u001b[0m\u001b[0m\n\u001b[0;32m--> 187\u001b[0;31m         \u001b[0mcall\u001b[0m \u001b[0;34m=\u001b[0m \u001b[0;32mlambda\u001b[0m \u001b[0mf\u001b[0m\u001b[0;34m,\u001b[0m \u001b[0;34m*\u001b[0m\u001b[0ma\u001b[0m\u001b[0;34m,\u001b[0m \u001b[0;34m**\u001b[0m\u001b[0mk\u001b[0m\u001b[0;34m:\u001b[0m \u001b[0mf\u001b[0m\u001b[0;34m(\u001b[0m\u001b[0;34m*\u001b[0m\u001b[0ma\u001b[0m\u001b[0;34m,\u001b[0m \u001b[0;34m**\u001b[0m\u001b[0mk\u001b[0m\u001b[0;34m)\u001b[0m\u001b[0;34m\u001b[0m\u001b[0;34m\u001b[0m\u001b[0m\n\u001b[0m\u001b[1;32m    188\u001b[0m \u001b[0;34m\u001b[0m\u001b[0m\n\u001b[1;32m    189\u001b[0m         \u001b[0;32mif\u001b[0m \u001b[0mcallable\u001b[0m\u001b[0;34m(\u001b[0m\u001b[0marg\u001b[0m\u001b[0;34m)\u001b[0m\u001b[0;34m:\u001b[0m\u001b[0;34m\u001b[0m\u001b[0;34m\u001b[0m\u001b[0m\n",
            "\u001b[0;32m/usr/local/lib/python3.10/dist-packages/IPython/core/magics/config.py\u001b[0m in \u001b[0;36mconfig\u001b[0;34m(self, s)\u001b[0m\n\u001b[1;32m    150\u001b[0m         \u001b[0;31m# unquoted args to eval in user_ns\u001b[0m\u001b[0;34m\u001b[0m\u001b[0;34m\u001b[0m\u001b[0m\n\u001b[1;32m    151\u001b[0m         \u001b[0mcfg\u001b[0m \u001b[0;34m=\u001b[0m \u001b[0mConfig\u001b[0m\u001b[0;34m(\u001b[0m\u001b[0;34m)\u001b[0m\u001b[0;34m\u001b[0m\u001b[0;34m\u001b[0m\u001b[0m\n\u001b[0;32m--> 152\u001b[0;31m         \u001b[0mexec\u001b[0m\u001b[0;34m(\u001b[0m\u001b[0;34m\"cfg.\"\u001b[0m\u001b[0;34m+\u001b[0m\u001b[0mline\u001b[0m\u001b[0;34m,\u001b[0m \u001b[0mlocals\u001b[0m\u001b[0;34m(\u001b[0m\u001b[0;34m)\u001b[0m\u001b[0;34m,\u001b[0m \u001b[0mself\u001b[0m\u001b[0;34m.\u001b[0m\u001b[0mshell\u001b[0m\u001b[0;34m.\u001b[0m\u001b[0muser_ns\u001b[0m\u001b[0;34m)\u001b[0m\u001b[0;34m\u001b[0m\u001b[0;34m\u001b[0m\u001b[0m\n\u001b[0m\u001b[1;32m    153\u001b[0m \u001b[0;34m\u001b[0m\u001b[0m\n\u001b[1;32m    154\u001b[0m         \u001b[0;32mfor\u001b[0m \u001b[0mconfigurable\u001b[0m \u001b[0;32min\u001b[0m \u001b[0mconfigurables\u001b[0m\u001b[0;34m:\u001b[0m\u001b[0;34m\u001b[0m\u001b[0;34m\u001b[0m\u001b[0m\n",
            "\u001b[0;32m<string>\u001b[0m in \u001b[0;36m<module>\u001b[0;34m\u001b[0m\n",
            "\u001b[0;31mAttributeError\u001b[0m: 'dict' object has no attribute 'InlineBackend'"
          ]
        }
      ],
      "source": [
        "import numpy as np\n",
        "import pandas as pd\n",
        "import matplotlib.pyplot as plt\n",
        "# %config InlineBackend.figure_format = 'retina'\n",
        "# %matplotlib inline"
      ]
    },
    {
      "cell_type": "code",
      "execution_count": 3,
      "metadata": {
        "id": "Ay4-LPEkW4Cu",
        "colab": {
          "base_uri": "https://localhost:8080/"
        },
        "outputId": "16224014-6de5-4786-fd02-20eda98af281"
      },
      "outputs": [
        {
          "output_type": "stream",
          "name": "stdout",
          "text": [
            "Mounted at /content/drive\n"
          ]
        }
      ],
      "source": [
        "from google.colab import drive\n",
        "drive.mount('/content/drive')"
      ]
    },
    {
      "cell_type": "code",
      "execution_count": 5,
      "metadata": {
        "id": "fPxjIe7sdmZg",
        "colab": {
          "base_uri": "https://localhost:8080/"
        },
        "outputId": "a5814eb7-f865-4fad-f86c-aee8d1a1d78a"
      },
      "outputs": [
        {
          "output_type": "stream",
          "name": "stdout",
          "text": [
            "Done Combining the training data\n",
            "Done Combining the testing data\n",
            "Done Combining the data\n"
          ]
        }
      ],
      "source": [
        "#=-=-=-=-=-=-=-=-=-=-=-=-=-=-=-=-=-=-=-=-=-=-=-=-=-=-=-=-=-=-=-=-=-=-=-=-=-=-=-=-=-=-=-=-=-=-=-=-=-=-=-=-=-=-=-=-=-=\n",
        "#\n",
        "#                                   ES335- Machine Learning- Assignment 1\n",
        "#\n",
        "# This script combines the data from the UCI HAR Dataset into a more usable format.\n",
        "# The data is combined into a single csv file for each subject and activity.\n",
        "# The data is then stored in the Combined folder.\n",
        "#\n",
        "#=-=-=-=-=-=-=-=-=-=-=-=-=-=-=-=-=-=-=-=-=-=-=-=-=-=-=-=-=-=-=-=-=-=-=-=-=-=-=-=-=-=-=-=-=-=-=-=-=-=-=-=-=-=-=-=-=-=\n",
        "\n",
        "# Library imports\n",
        "import pandas as pd\n",
        "import numpy as np\n",
        "import os\n",
        "\n",
        "# Give the path of the test and train folder of UCI HAR Dataset\n",
        "train_path = \"./UCI HAR Dataset/train\"\n",
        "test_path = \"./UCI HAR Dataset/test\"\n",
        "\n",
        "# Dictionary of activities. Provided by the dataset.\n",
        "ACTIVITIES = {\n",
        "    1: 'WALKING'            ,\n",
        "    2: 'WALKING_UPSTAIRS'   ,\n",
        "    3: 'WALKING_DOWNSTAIRS' ,\n",
        "    4: 'SITTING'            ,\n",
        "    5: 'STANDING'           ,\n",
        "    6: 'LAYING'             ,\n",
        "}\n",
        "\n",
        "#=-=-=-=-=-=-=-=-=-=-=-=-=-=-=-=-=-=-=-==-=-=-=-=-=-=-=-=-=-=-=-=-=-=-=-=-=-=-=-=-=-=-=-=-=-=-=-=-=-=-=-=-=-=-=-=-=-=\n",
        "                                        # Combining Traing Data\n",
        "#=-=-=-=-=-=-=-=-=-=-=-=-=-=-=-=-=-=-=-==-=-=-=-=-=-=-=-=-=-=-=-=-=-=-=-=-=-=-=-=-=-=-=-=-=-=-=-=-=-=-=-=-=-=-=-=-=-=\n",
        "\n",
        "# Load all the accelerometer data\n",
        "total_acc_x = pd.read_csv(\"/content/drive/MyDrive/es335/UCI HAR Dataset/train/Inertial Signals/total_acc_x_train.txt\",delim_whitespace=True,header=None)\n",
        "total_acc_y = pd.read_csv(\"/content/drive/MyDrive/es335/UCI HAR Dataset/train/Inertial Signals/total_acc_y_train.txt\",delim_whitespace=True,header=None)\n",
        "total_acc_z = pd.read_csv(\"/content/drive/MyDrive/es335/UCI HAR Dataset/train/Inertial Signals/total_acc_z_train.txt\",delim_whitespace=True,header=None)\n",
        "\n",
        "\n",
        "# Read the subject IDs\n",
        "subject_train = pd.read_csv(\"/content/drive/MyDrive/es335/UCI HAR Dataset/train/subject_train.txt\",delim_whitespace=True,header=None)\n",
        "\n",
        "# Read the labels\n",
        "y = pd.read_csv(\"/content/drive/MyDrive/es335/UCI HAR Dataset/train/y_train.txt\",delim_whitespace=True,header=None)\n",
        "\n",
        "\n",
        "# Toggle through all the subjects.\n",
        "for subject in np.unique(subject_train.values):\n",
        "\n",
        "    sub_idxs = np.where( subject_train.iloc[:,0] == subject )[0]\n",
        "    labels = y.loc[sub_idxs]\n",
        "\n",
        "    # Toggle through all the labels.\n",
        "    for label in np.unique(labels.values):\n",
        "\n",
        "        # make the folder directory if it does not exist\n",
        "        if not os.path.exists(os.path.join(\"Combined\",\"Train\",ACTIVITIES[label])):\n",
        "            os.makedirs(os.path.join(\"Combined\",\"Train\",ACTIVITIES[label]))\n",
        "\n",
        "        label_idxs = labels[labels.iloc[:,0] == label].index\n",
        "\n",
        "        accx = []\n",
        "        accy = []\n",
        "        accz = []\n",
        "\n",
        "        for idx in label_idxs:\n",
        "            if accx is not None:\n",
        "                accx = np.hstack((accx,total_acc_x.loc[idx][64:]))\n",
        "                accy = np.hstack((accy,total_acc_y.loc[idx][64:]))\n",
        "                accz = np.hstack((accz,total_acc_z.loc[idx][64:]))\n",
        "\n",
        "            else:\n",
        "                accx = total_acc_x.loc[idx]\n",
        "                accy = total_acc_y.loc[idx]\n",
        "                accz = total_acc_z.loc[idx]\n",
        "\n",
        "        # saving the data into csv file\n",
        "        data = pd.DataFrame({'accx':accx,'accy':accy,'accz':accz})\n",
        "        save_path = os.path.join(\"Combined\",\"Train\",ACTIVITIES[label],f\"Subject_{subject}.csv\")\n",
        "        data.to_csv(save_path,index=False)\n",
        "\n",
        "print(\"Done Combining the training data\")\n",
        "\n",
        "\n",
        "#=-=-=-=-=-=-=-=-=-=-=-=-=-=-=-=-=-=-=-==-=-=-=-=-=-=-=-=-=-=-=-=-=-=-=-=-=-=-=-=-=-=-=-=-=-=-=-=-=-=-=-=-=-=-=-=-=-=\n",
        "                                        # Combining Test Data\n",
        "#=-=-=-=-=-=-=-=-=-=-=-=-=-=-=-=-=-=-=-==-=-=-=-=-=-=-=-=-=-=-=-=-=-=-=-=-=-=-=-=-=-=-=-=-=-=-=-=-=-=-=-=-=-=-=-=-=-=\n",
        "\n",
        "# Load all the accelerometer data\n",
        "total_acc_x = pd.read_csv(\"/content/drive/MyDrive/es335/UCI HAR Dataset/test/Inertial Signals/total_acc_x_test.txt\",delim_whitespace=True,header=None)\n",
        "total_acc_y = pd.read_csv(\"/content/drive/MyDrive/es335/UCI HAR Dataset/test/Inertial Signals/total_acc_y_test.txt\",delim_whitespace=True,header=None)\n",
        "total_acc_z = pd.read_csv(\"/content/drive/MyDrive/es335/UCI HAR Dataset/test/Inertial Signals/total_acc_z_test.txt\",delim_whitespace=True,header=None)\n",
        "\n",
        "# Read the subject IDs\n",
        "subject_test = pd.read_csv(\"/content/drive/MyDrive/es335/UCI HAR Dataset/test/subject_test.txt\",delim_whitespace=True,header=None)\n",
        "\n",
        "# Read the labels\n",
        "y = pd.read_csv(\"/content/drive/MyDrive/es335/UCI HAR Dataset/test/y_test.txt\",delim_whitespace=True,header=None)\n",
        "\n",
        "# Toggle through all the subjects.\n",
        "for subject in np.unique(subject_test.values):\n",
        "\n",
        "        sub_idxs = np.where( subject_test.iloc[:,0] == subject )[0]\n",
        "        labels = y.loc[sub_idxs]\n",
        "\n",
        "        # Toggle through all the labels.\n",
        "        for label in np.unique(labels.values):\n",
        "\n",
        "            if not os.path.exists(os.path.join(\"Combined\",\"Test\",ACTIVITIES[label])):\n",
        "                os.makedirs(os.path.join(\"Combined\",\"Test\",ACTIVITIES[label]))\n",
        "\n",
        "            label_idxs = labels[labels.iloc[:,0] == label].index\n",
        "\n",
        "            accx = []\n",
        "            accy = []\n",
        "            accz = []\n",
        "            for idx in label_idxs:\n",
        "                if accx is not None:\n",
        "                    accx = np.hstack((accx,total_acc_x.loc[idx][64:]))\n",
        "                    accy = np.hstack((accy,total_acc_y.loc[idx][64:]))\n",
        "                    accz = np.hstack((accz,total_acc_z.loc[idx][64:]))\n",
        "\n",
        "                else:\n",
        "                    accx = total_acc_x.loc[idx]\n",
        "                    accy = total_acc_y.loc[idx]\n",
        "                    accz = total_acc_z.loc[idx]\n",
        "\n",
        "            # saving the data into csv file\n",
        "            data = pd.DataFrame({'accx':accx,'accy':accy,'accz':accz})\n",
        "            save_path = os.path.join(\"Combined\",\"Test\",ACTIVITIES[label],f\"Subject_{subject}.csv\")\n",
        "            data.to_csv(save_path,index=False)\n",
        "\n",
        "print(\"Done Combining the testing data\")\n",
        "print(\"Done Combining the data\")\n",
        "\n",
        "#-=-=-=-=-=-=-=-=-=-=-=-=-=-=-=-=-=-=-=-=-=-=-=-=-=-=-=-=-=-=-=-=-=-=-=-=-=-=-=-=-=-=-=-=-=-=-=-=-=-=-=-=-=-=-=-=-=-="
      ]
    },
    {
      "cell_type": "code",
      "execution_count": 6,
      "metadata": {
        "id": "vN4lhAL2gsOf",
        "colab": {
          "base_uri": "https://localhost:8080/"
        },
        "outputId": "0ca31bae-99ef-4c00-cd0b-6d6b98e9f7a8"
      },
      "outputs": [
        {
          "output_type": "stream",
          "name": "stdout",
          "text": [
            "Training data shape:  (126, 500, 3)\n",
            "Testing data shape:  (54, 500, 3)\n",
            "[[[ 8.585207e-01 -1.691920e-01 -5.418912e-01]\n",
            "  [ 8.510593e-01 -1.394993e-01 -5.303037e-01]\n",
            "  [ 7.828881e-01 -7.881496e-02 -5.214045e-01]\n",
            "  ...\n",
            "  [ 7.826689e-01 -6.230751e-02 -4.189453e-01]\n",
            "  [ 8.427363e-01 -3.418587e-02 -4.236492e-01]\n",
            "  [ 9.367675e-01 -1.732876e-02 -4.193231e-01]]\n",
            "\n",
            " [[ 1.881076e-01  7.867169e-01  5.719042e-01]\n",
            "  [ 1.900625e-01  7.862243e-01  5.730728e-01]\n",
            "  [ 1.908120e-01  7.869899e-01  5.735939e-01]\n",
            "  ...\n",
            "  [ 1.889231e-01  7.885494e-01  5.731266e-01]\n",
            "  [ 1.886773e-01  7.865748e-01  5.768984e-01]\n",
            "  [ 1.875778e-01  7.836999e-01  5.770575e-01]]\n",
            "\n",
            " [[ 1.002935e+00 -2.017236e-02  2.438025e-01]\n",
            "  [ 1.003082e+00 -2.190931e-02  2.449161e-01]\n",
            "  [ 1.001252e+00 -3.188507e-02  2.529151e-01]\n",
            "  ...\n",
            "  [ 1.009394e+00 -8.841017e-03  1.803807e-01]\n",
            "  [ 1.007835e+00 -3.991682e-05  1.880249e-01]\n",
            "  [ 1.006568e+00  1.196499e-02  1.907496e-01]]\n",
            "\n",
            " ...\n",
            "\n",
            " [[-4.483281e-02  9.778022e-01  2.398303e-01]\n",
            "  [-4.580035e-02  9.769460e-01  2.367172e-01]\n",
            "  [-3.597800e-02  9.755256e-01  2.341782e-01]\n",
            "  ...\n",
            "  [-4.487014e-02  9.790270e-01  2.329912e-01]\n",
            "  [-4.611356e-02  9.803367e-01  2.345767e-01]\n",
            "  [-4.566146e-02  9.807139e-01  2.339141e-01]]\n",
            "\n",
            " [[ 1.479893e+00 -4.783501e-01 -1.348317e-01]\n",
            "  [ 1.417838e+00 -5.264301e-01 -2.401967e-02]\n",
            "  [ 1.126610e+00 -4.468493e-01 -5.762023e-02]\n",
            "  ...\n",
            "  [ 8.351439e-01 -1.607123e-01 -1.592067e-01]\n",
            "  [ 7.713394e-01 -1.248221e-01 -1.388356e-01]\n",
            "  [ 7.175624e-01 -1.262066e-01 -1.470366e-01]]\n",
            "\n",
            " [[ 7.979317e-01 -1.221163e-02  9.162777e-02]\n",
            "  [ 8.188847e-01 -3.446374e-02  1.260191e-01]\n",
            "  [ 8.596575e-01 -1.066391e-01  1.495217e-01]\n",
            "  ...\n",
            "  [ 6.203014e-01 -9.291196e-02 -6.009200e-02]\n",
            "  [ 6.485299e-01 -8.041238e-02 -8.921608e-02]\n",
            "  [ 5.717820e-01 -1.674816e-03 -1.046096e-01]]]\n",
            "[2 6 5 2 2 2 1 1 5 4 1 4 1 1 6 2 3 1 1 4 3 3 5 6 5 1 3 6 4 5 5 2 5 1 1 6 4\n",
            " 3 3 3 3 4 6 3 4 1 2 2 6 5 5 3 6 6 4 3 4 2 4 5 5 5 5 4 6 6 4 5 3 4 3 1 4 4\n",
            " 3 1 5 2 3 6 1 4 2 2 5 2 1 3 6 6 2 5 6 1 3 5 2 3 4 4 2 5 1 1 1 3 4 5 6 1 3\n",
            " 6 5 4 2 2 6 2 6 6 3 1 4 6 2 2]\n",
            "0.8585207\n"
          ]
        }
      ],
      "source": [
        "#=-=-=-=-=-=-=-=-=-=-=-=-=-=-=-=-=-=-=-=-=-=-=-=-=-=-=-=-=-=-=-=-=-=-=-=-=-=-=-=-=-=-=-=-=-=-=-=-=-=-=-=-=-=-=-=-=-=\n",
        "#\n",
        "#                                   ES335- Machine Learning- Assignment 1\n",
        "#\n",
        "# This file is used to create the dataset for the mini-project. The dataset is created by reading the data from\n",
        "# the Combined folder. The data is then split into training, testing, and validation sets. This split is supposed\n",
        "# to be used for all the modeling purposes.\n",
        "#\n",
        "#=-=-=-=-=-=-=-=-=-=-=-=-=-=-=-=-=-=-=-=-=-=-=-=-=-=-=-=-=-=-=-=-=-=-=-=-=-=-=-=-=-=-=-=-=-=-=-=-=-=-=-=-=-=-=-=-=-=\n",
        "\n",
        "# Library imports\n",
        "from sklearn.model_selection import train_test_split\n",
        "import pandas as pd\n",
        "import numpy as np\n",
        "import os\n",
        "\n",
        "# Constants\n",
        "time = 10\n",
        "offset = 100\n",
        "folders = [\"LAYING\",\"SITTING\",\"STANDING\",\"WALKING\",\"WALKING_DOWNSTAIRS\",\"WALKING_UPSTAIRS\"]\n",
        "classes = {\"WALKING\":1,\"WALKING_UPSTAIRS\":2,\"WALKING_DOWNSTAIRS\":3,\"SITTING\":4,\"STANDING\":5,\"LAYING\":6}\n",
        "\n",
        "combined_dir = os.path.join(\"Combined\")\n",
        "\n",
        "#=-=-=-=-=-=-=-=-=-=-=-=-=-=-=-=-=-=-=-==-=-=-=-=-=-=-=-=-=-=-=-=-=-=-=-=-=-=-=-=-=-=-=-=-=-=-=-=-=-=-=-=-=-=-=-=-=-=\n",
        "                                                # Train Dataset\n",
        "#=-=-=-=-=-=-=-=-=-=-=-=-=-=-=-=-=-=-=-==-=-=-=-=-=-=-=-=-=-=-=-=-=-=-=-=-=-=-=-=-=-=-=-=-=-=-=-=-=-=-=-=-=-=-=-=-=-=\n",
        "\n",
        "X_train=[]\n",
        "y_train=[]\n",
        "dataset_dir = os.path.join(combined_dir,\"Train\")\n",
        "\n",
        "for folder in folders:\n",
        "    files = os.listdir(os.path.join(dataset_dir,folder))\n",
        "\n",
        "    for file in files:\n",
        "\n",
        "        df = pd.read_csv(os.path.join(dataset_dir,folder,file),sep=\",\",header=0)\n",
        "        df = df[offset:offset+time*50]\n",
        "        X_train.append(df.values)\n",
        "        y_train.append(classes[folder])\n",
        "\n",
        "X_train = np.array(X_train)\n",
        "y_train = np.array(y_train)\n",
        "\n",
        "\n",
        "#=-=-=-=-=-=-=-=-=-=-=-=-=-=-=-=-=-=-=-==-=-=-=-=-=-=-=-=-=-=-=-=-=-=-=-=-=-=-=-=-=-=-=-=-=-=-=-=-=-=-=-=-=-=-=-=-=-=\n",
        "                                                # Test Dataset\n",
        "#=-=-=-=-=-=-=-=-=-=-=-=-=-=-=-=-=-=-=-==-=-=-=-=-=-=-=-=-=-=-=-=-=-=-=-=-=-=-=-=-=-=-=-=-=-=-=-=-=-=-=-=-=-=-=-=-=-=\n",
        "\n",
        "X_test=[]\n",
        "y_test=[]\n",
        "dataset_dir = os.path.join(combined_dir,\"Test\")\n",
        "\n",
        "for folder in folders:\n",
        "    files = os.listdir(os.path.join(dataset_dir,folder))\n",
        "    for file in files:\n",
        "\n",
        "        df = pd.read_csv(os.path.join(dataset_dir,folder,file),sep=\",\",header=0)\n",
        "        df = df[offset:offset+time*50]\n",
        "        X_test.append(df.values)\n",
        "        y_test.append(classes[folder])\n",
        "\n",
        "X_test = np.array(X_test)\n",
        "y_test = np.array(y_test)\n",
        "\n",
        "#=-=-=-=-=-=-=-=-=-=-=-=-=-=-=-=-=-=-=-==-=-=-=-=-=-=-=-=-=-=-=-=-=-=-=-=-=-=-=-=-=-=-=-=-=-=-=-=-=-=-=-=-=-=-=-=-=-=\n",
        "                                                # Final Dataset\n",
        "#=-=-=-=-=-=-=-=-=-=-=-=-=-=-=-=-=-=-=-==-=-=-=-=-=-=-=-=-=-=-=-=-=-=-=-=-=-=-=-=-=-=-=-=-=-=-=-=-=-=-=-=-=-=-=-=-=-=\n",
        "\n",
        "# USE THE BELOW GIVEN DATA FOR TRAINING and TESTING purposes\n",
        "\n",
        "# concatenate the training and testing data\n",
        "X = np.concatenate((X_train,X_test))\n",
        "y = np.concatenate((y_train,y_test))\n",
        "\n",
        "# split the data into training and testing sets. Change the seed value to obtain different random splits.\n",
        "seed = 4\n",
        "X_train,X_test,y_train,y_test = train_test_split(X,y,test_size=0.3,random_state=seed,stratify=y)\n",
        "\n",
        "print(\"Training data shape: \",X_train.shape)\n",
        "print(\"Testing data shape: \",X_test.shape)\n",
        "print(X_train)\n",
        "print(y_train)\n",
        "print(X_train[0][0][0])\n",
        "#=-=-=-=-=-=-=-=-=-=-=-=-=-=-=-=-=-=-=-==-=-=-=-=-=-=-=-=-=-=-=-=-=-=-=-=-=-=-=-=-=-=-=-=-=-=-=-=-=-=-=-=-=-=-=-=-=-=\n",
        "\n",
        "\n"
      ]
    },
    {
      "cell_type": "code",
      "execution_count": 7,
      "metadata": {
        "id": "hx7wHgW0io0f",
        "colab": {
          "base_uri": "https://localhost:8080/",
          "height": 1000
        },
        "outputId": "8ff2b8f7-3ce3-4622-f471-c309d52b03c3"
      },
      "outputs": [
        {
          "output_type": "display_data",
          "data": {
            "text/plain": [
              "<Figure size 640x480 with 1 Axes>"
            ],
            "image/png": "[encoded data removed]"
          },
          "metadata": {}
        },
        {
          "output_type": "display_data",
          "data": {
            "text/plain": [
              "<Figure size 640x480 with 1 Axes>"
            ],
            "image/png": "[encoded data removed]"
          },
          "metadata": {}
        },
        {
          "output_type": "display_data",
          "data": {
            "text/plain": [
              "<Figure size 640x480 with 1 Axes>"
            ],
            "image/png": "[encoded data removed]"
          },
          "metadata": {}
        },
        {
          "output_type": "display_data",
          "data": {
            "text/plain": [
              "<Figure size 640x480 with 1 Axes>"
            ],
            "image/png": "[encoded data removed]"
          },
          "metadata": {}
        },
        {
          "output_type": "display_data",
          "data": {
            "text/plain": [
              "<Figure size 640x480 with 1 Axes>"
            ],
            "image/png": "[encoded data removed]"
          },
          "metadata": {}
        },
        {
          "output_type": "display_data",
          "data": {
            "text/plain": [
              "<Figure size 640x480 with 1 Axes>"
            ],
            "image/png": "[encoded data removed]"
          },
          "metadata": {}
        }
      ],
      "source": [
        "uniqueclass = np.unique(y_train)\n",
        "d = {}\n",
        "for i,j in enumerate(y_train):\n",
        "  if j not in d:\n",
        "    data = X_train[i]\n",
        "    plt.plot(data[:,0],label=\"accx\")\n",
        "    plt.plot(data[:,1],label=\"accy\")\n",
        "    plt.plot(data[:,2],label=\"accz\")\n",
        "    plt.title(j)\n",
        "    plt.legend()\n",
        "    plt.show()\n",
        "    d[j] = X_train\n",
        "\n",
        "# classes = {\"WALKING\":1,\"WALKING_UPSTAIRS\":2,\"WALKING_DOWNSTAIRS\":3,\"SITTING\":4,\"STANDING\":5,\"LAYING\":6}"
      ]
    },
    {
      "cell_type": "code",
      "execution_count": 8,
      "metadata": {
        "id": "hzgF_FwPzWYp",
        "colab": {
          "base_uri": "https://localhost:8080/"
        },
        "outputId": "157ad4c4-3c9e-4d4f-eb62-3a96cae3e4e4"
      },
      "outputs": [
        {
          "output_type": "stream",
          "name": "stdout",
          "text": [
            "1.051890384039842\n",
            "1.044489247444974\n",
            "1.0430942699108618\n",
            "1.0127621607929738\n",
            "1.0316159969963348\n",
            "1.0044099342443495\n"
          ]
        }
      ],
      "source": [
        "m = [[],[],[],[],[],[]]\n",
        "for i,j in enumerate(y_train):\n",
        "  c = 0\n",
        "  for g in range(500):\n",
        "    c += np.sqrt(np.sum(X_train[i][g]**2))\n",
        "  m[j-1].append(c/500)\n",
        "\n",
        "for i in range(6):\n",
        "  print(np.mean(m[i]))\n",
        "\n",
        "\n",
        "# NO it is clearly evident from linear acc data as dynamic activities have acc >1.04 while static have <1.04.\n",
        "\n"
      ]
    },
    {
      "cell_type": "code",
      "execution_count": 11,
      "metadata": {
        "id": "nOiy8l0S5BGp",
        "colab": {
          "base_uri": "https://localhost:8080/",
          "height": 472
        },
        "outputId": "c3912377-6170-4aec-f7a6-331d90e49550"
      },
      "outputs": [
        {
          "output_type": "display_data",
          "data": {
            "text/plain": [
              "<Figure size 640x480 with 2 Axes>"
            ],
            "image/png": "[encoded data removed]"
          },
          "metadata": {}
        }
      ],
      "source": [
        "from sklearn.decomposition import PCA\n",
        "from sklearn.preprocessing import StandardScaler\n",
        "\n",
        "d = pd.DataFrame({'Activity':y_train,'accx':X_train[:,0,0],'accy':X_train[:,0,1],'accz':X_train[:,0,2]})\n",
        "totalacc = np.sqrt(np.sum(X_train**2,axis=2))\n",
        "# print(totalacc.shape)\n",
        "s = StandardScaler()\n",
        "tascaled = s.fit_transform(totalacc)\n",
        "pca = PCA(n_components=2)\n",
        "xpca = pca.fit_transform(tascaled)\n",
        "\n",
        "v = [x for x in range(126)]\n",
        "scatter = plt.scatter(xpca[:, 0],xpca[:, 1],c=y_train,cmap='viridis',alpha=0.7)\n",
        "# print(xpca.size)\n",
        "plt.xlabel('Principal Component 1')\n",
        "plt.ylabel('Principal Component 2')\n",
        "plt.title('Scatter Plot of Principal Components')\n",
        "plt.colorbar(scatter)\n",
        "plt.show()\n"
      ]
    },
    {
      "cell_type": "code",
      "execution_count": 12,
      "metadata": {
        "id": "l7XQTJRx9iLh",
        "colab": {
          "base_uri": "https://localhost:8080/"
        },
        "outputId": "819daeee-b29a-45b0-f5e0-e4072a67cb2e"
      },
      "outputs": [
        {
          "output_type": "stream",
          "name": "stdout",
          "text": [
            "Collecting tsfel\n",
            "  Downloading tsfel-0.1.7-py3-none-any.whl.metadata (8.4 kB)\n",
            "Requirement already satisfied: ipython>=7.4.0 in /usr/local/lib/python3.10/dist-packages (from tsfel) (7.34.0)\n",
            "Requirement already satisfied: numpy>=1.18.5 in /usr/local/lib/python3.10/dist-packages (from tsfel) (1.26.4)\n",
            "Requirement already satisfied: pandas>=1.5.3 in /usr/local/lib/python3.10/dist-packages (from tsfel) (2.1.4)\n",
            "Requirement already satisfied: scikit-learn>=0.21.3 in /usr/local/lib/python3.10/dist-packages (from tsfel) (1.3.2)\n",
            "Requirement already satisfied: scipy>=1.7.3 in /usr/local/lib/python3.10/dist-packages (from tsfel) (1.13.1)\n",
            "Requirement already satisfied: setuptools>=47.1.1 in /usr/local/lib/python3.10/dist-packages (from tsfel) (71.0.4)\n",
            "Requirement already satisfied: statsmodels>=0.12.0 in /usr/local/lib/python3.10/dist-packages (from tsfel) (0.14.2)\n",
            "Collecting jedi>=0.16 (from ipython>=7.4.0->tsfel)\n",
            "  Using cached jedi-0.19.1-py2.py3-none-any.whl.metadata (22 kB)\n",
            "Requirement already satisfied: decorator in /usr/local/lib/python3.10/dist-packages (from ipython>=7.4.0->tsfel) (4.4.2)\n",
            "Requirement already satisfied: pickleshare in /usr/local/lib/python3.10/dist-packages (from ipython>=7.4.0->tsfel) (0.7.5)\n",
            "Requirement already satisfied: traitlets>=4.2 in /usr/local/lib/python3.10/dist-packages (from ipython>=7.4.0->tsfel) (5.7.1)\n",
            "Requirement already satisfied: prompt-toolkit!=3.0.0,!=3.0.1,<3.1.0,>=2.0.0 in /usr/local/lib/python3.10/dist-packages (from ipython>=7.4.0->tsfel) (3.0.47)\n",
            "Requirement already satisfied: pygments in /usr/local/lib/python3.10/dist-packages (from ipython>=7.4.0->tsfel) (2.16.1)\n",
            "Requirement already satisfied: backcall in /usr/local/lib/python3.10/dist-packages (from ipython>=7.4.0->tsfel) (0.2.0)\n",
            "Requirement already satisfied: matplotlib-inline in /usr/local/lib/python3.10/dist-packages (from ipython>=7.4.0->tsfel) (0.1.7)\n",
            "Requirement already satisfied: pexpect>4.3 in /usr/local/lib/python3.10/dist-packages (from ipython>=7.4.0->tsfel) (4.9.0)\n",
            "Requirement already satisfied: python-dateutil>=2.8.2 in /usr/local/lib/python3.10/dist-packages (from pandas>=1.5.3->tsfel) (2.8.2)\n",
            "Requirement already satisfied: pytz>=2020.1 in /usr/local/lib/python3.10/dist-packages (from pandas>=1.5.3->tsfel) (2024.1)\n",
            "Requirement already satisfied: tzdata>=2022.1 in /usr/local/lib/python3.10/dist-packages (from pandas>=1.5.3->tsfel) (2024.1)\n",
            "Requirement already satisfied: joblib>=1.1.1 in /usr/local/lib/python3.10/dist-packages (from scikit-learn>=0.21.3->tsfel) (1.4.2)\n",
            "Requirement already satisfied: threadpoolctl>=2.0.0 in /usr/local/lib/python3.10/dist-packages (from scikit-learn>=0.21.3->tsfel) (3.5.0)\n",
            "Requirement already satisfied: patsy>=0.5.6 in /usr/local/lib/python3.10/dist-packages (from statsmodels>=0.12.0->tsfel) (0.5.6)\n",
            "Requirement already satisfied: packaging>=21.3 in /usr/local/lib/python3.10/dist-packages (from statsmodels>=0.12.0->tsfel) (24.1)\n",
            "Requirement already satisfied: parso<0.9.0,>=0.8.3 in /usr/local/lib/python3.10/dist-packages (from jedi>=0.16->ipython>=7.4.0->tsfel) (0.8.4)\n",
            "Requirement already satisfied: six in /usr/local/lib/python3.10/dist-packages (from patsy>=0.5.6->statsmodels>=0.12.0->tsfel) (1.16.0)\n",
            "Requirement already satisfied: ptyprocess>=0.5 in /usr/local/lib/python3.10/dist-packages (from pexpect>4.3->ipython>=7.4.0->tsfel) (0.7.0)\n",
            "Requirement already satisfied: wcwidth in /usr/local/lib/python3.10/dist-packages (from prompt-toolkit!=3.0.0,!=3.0.1,<3.1.0,>=2.0.0->ipython>=7.4.0->tsfel) (0.2.13)\n",
            "Downloading tsfel-0.1.7-py3-none-any.whl (55 kB)\n",
            "\u001b[2K   \u001b[90m━━━━━━━━━━━━━━━━━━━━━━━━━━━━━━━━━━━━━━━━\u001b[0m \u001b[32m55.8/55.8 kB\u001b[0m \u001b[31m2.5 MB/s\u001b[0m eta \u001b[36m0:00:00\u001b[0m\n",
            "\u001b[?25hUsing cached jedi-0.19.1-py2.py3-none-any.whl (1.6 MB)\n",
            "Installing collected packages: jedi, tsfel\n",
            "Successfully installed jedi-0.19.1 tsfel-0.1.7\n"
          ]
        }
      ],
      "source": [
        "!pip install tsfel"
      ]
    },
    {
      "cell_type": "code",
      "execution_count": 13,
      "metadata": {
        "id": "1nF10PLo9y0I",
        "colab": {
          "base_uri": "https://localhost:8080/",
          "height": 1000
        },
        "outputId": "600397db-e8e6-4bdb-bc46-75b94196cf4b"
      },
      "outputs": [
        {
          "output_type": "stream",
          "name": "stdout",
          "text": [
            "*** Feature extraction started ***\n"
          ]
        },
        {
          "output_type": "stream",
          "name": "stderr",
          "text": [
            "<ipython-input-13-9dc92995cd83>:9: UserWarning: Using default sampling frequency set in configuration file.\n",
            "  f = tsfel.time_series_features_extractor(cfg, df)\n"
          ]
        },
        {
          "output_type": "display_data",
          "data": {
            "text/plain": [
              "<IPython.core.display.HTML object>"
            ],
            "text/html": [
              "\n",
              "              <p>\n",
              "                  Progress: 100% Complete\n",
              "              <p/>\n",
              "              <progress\n",
              "                  value='67'\n",
              "                  max='67',\n",
              "                  style='width: 25%',\n",
              "              >\n",
              "                  67\n",
              "              </progress>\n",
              "\n",
              "    "
            ]
          },
          "metadata": {}
        },
        {
          "output_type": "stream",
          "name": "stdout",
          "text": [
            "\n",
            "*** Feature extraction finished ***\n",
            "*** Feature extraction started ***\n"
          ]
        },
        {
          "output_type": "stream",
          "name": "stderr",
          "text": [
            "<ipython-input-13-9dc92995cd83>:9: UserWarning: Using default sampling frequency set in configuration file.\n",
            "  f = tsfel.time_series_features_extractor(cfg, df)\n"
          ]
        },
        {
          "output_type": "display_data",
          "data": {
            "text/plain": [
              "<IPython.core.display.HTML object>"
            ],
            "text/html": [
              "\n",
              "              <p>\n",
              "                  Progress: 100% Complete\n",
              "              <p/>\n",
              "              <progress\n",
              "                  value='67'\n",
              "                  max='67',\n",
              "                  style='width: 25%',\n",
              "              >\n",
              "                  67\n",
              "              </progress>\n",
              "\n",
              "    "
            ]
          },
          "metadata": {}
        },
        {
          "output_type": "stream",
          "name": "stdout",
          "text": [
            "\n",
            "*** Feature extraction finished ***\n",
            "*** Feature extraction started ***\n"
          ]
        },
        {
          "output_type": "stream",
          "name": "stderr",
          "text": [
            "<ipython-input-13-9dc92995cd83>:9: UserWarning: Using default sampling frequency set in configuration file.\n",
            "  f = tsfel.time_series_features_extractor(cfg, df)\n"
          ]
        },
        {
          "output_type": "display_data",
          "data": {
            "text/plain": [
              "<IPython.core.display.HTML object>"
            ],
            "text/html": [
              "\n",
              "              <p>\n",
              "                  Progress: 100% Complete\n",
              "              <p/>\n",
              "              <progress\n",
              "                  value='67'\n",
              "                  max='67',\n",
              "                  style='width: 25%',\n",
              "              >\n",
              "                  67\n",
              "              </progress>\n",
              "\n",
              "    "
            ]
          },
          "metadata": {}
        },
        {
          "output_type": "stream",
          "name": "stdout",
          "text": [
            "\n",
            "*** Feature extraction finished ***\n",
            "*** Feature extraction started ***\n"
          ]
        },
        {
          "output_type": "stream",
          "name": "stderr",
          "text": [
            "<ipython-input-13-9dc92995cd83>:9: UserWarning: Using default sampling frequency set in configuration file.\n",
            "  f = tsfel.time_series_features_extractor(cfg, df)\n"
          ]
        },
        {
          "output_type": "display_data",
          "data": {
            "text/plain": [
              "<IPython.core.display.HTML object>"
            ],
            "text/html": [
              "\n",
              "              <p>\n",
              "                  Progress: 100% Complete\n",
              "              <p/>\n",
              "              <progress\n",
              "                  value='67'\n",
              "                  max='67',\n",
              "                  style='width: 25%',\n",
              "              >\n",
              "                  67\n",
              "              </progress>\n",
              "\n",
              "    "
            ]
          },
          "metadata": {}
        },
        {
          "output_type": "stream",
          "name": "stdout",
          "text": [
            "\n",
            "*** Feature extraction finished ***\n",
            "*** Feature extraction started ***\n"
          ]
        },
        {
          "output_type": "stream",
          "name": "stderr",
          "text": [
            "<ipython-input-13-9dc92995cd83>:9: UserWarning: Using default sampling frequency set in configuration file.\n",
            "  f = tsfel.time_series_features_extractor(cfg, df)\n"
          ]
        },
        {
          "output_type": "display_data",
          "data": {
            "text/plain": [
              "<IPython.core.display.HTML object>"
            ],
            "text/html": [
              "\n",
              "              <p>\n",
              "                  Progress: 100% Complete\n",
              "              <p/>\n",
              "              <progress\n",
              "                  value='67'\n",
              "                  max='67',\n",
              "                  style='width: 25%',\n",
              "              >\n",
              "                  67\n",
              "              </progress>\n",
              "\n",
              "    "
            ]
          },
          "metadata": {}
        },
        {
          "output_type": "stream",
          "name": "stdout",
          "text": [
            "\n",
            "*** Feature extraction finished ***\n",
            "*** Feature extraction started ***\n"
          ]
        },
        {
          "output_type": "stream",
          "name": "stderr",
          "text": [
            "<ipython-input-13-9dc92995cd83>:9: UserWarning: Using default sampling frequency set in configuration file.\n",
            "  f = tsfel.time_series_features_extractor(cfg, df)\n"
          ]
        },
        {
          "output_type": "display_data",
          "data": {
            "text/plain": [
              "<IPython.core.display.HTML object>"
            ],
            "text/html": [
              "\n",
              "              <p>\n",
              "                  Progress: 100% Complete\n",
              "              <p/>\n",
              "              <progress\n",
              "                  value='67'\n",
              "                  max='67',\n",
              "                  style='width: 25%',\n",
              "              >\n",
              "                  67\n",
              "              </progress>\n",
              "\n",
              "    "
            ]
          },
          "metadata": {}
        },
        {
          "output_type": "stream",
          "name": "stdout",
          "text": [
            "\n",
            "*** Feature extraction finished ***\n",
            "*** Feature extraction started ***\n"
          ]
        },
        {
          "output_type": "stream",
          "name": "stderr",
          "text": [
            "<ipython-input-13-9dc92995cd83>:9: UserWarning: Using default sampling frequency set in configuration file.\n",
            "  f = tsfel.time_series_features_extractor(cfg, df)\n"
          ]
        },
        {
          "output_type": "display_data",
          "data": {
            "text/plain": [
              "<IPython.core.display.HTML object>"
            ],
            "text/html": [
              "\n",
              "              <p>\n",
              "                  Progress: 100% Complete\n",
              "              <p/>\n",
              "              <progress\n",
              "                  value='67'\n",
              "                  max='67',\n",
              "                  style='width: 25%',\n",
              "              >\n",
              "                  67\n",
              "              </progress>\n",
              "\n",
              "    "
            ]
          },
          "metadata": {}
        },
        {
          "output_type": "stream",
          "name": "stdout",
          "text": [
            "\n",
            "*** Feature extraction finished ***\n",
            "*** Feature extraction started ***\n"
          ]
        },
        {
          "output_type": "stream",
          "name": "stderr",
          "text": [
            "<ipython-input-13-9dc92995cd83>:9: UserWarning: Using default sampling frequency set in configuration file.\n",
            "  f = tsfel.time_series_features_extractor(cfg, df)\n"
          ]
        },
        {
          "output_type": "display_data",
          "data": {
            "text/plain": [
              "<IPython.core.display.HTML object>"
            ],
            "text/html": [
              "\n",
              "              <p>\n",
              "                  Progress: 100% Complete\n",
              "              <p/>\n",
              "              <progress\n",
              "                  value='67'\n",
              "                  max='67',\n",
              "                  style='width: 25%',\n",
              "              >\n",
              "                  67\n",
              "              </progress>\n",
              "\n",
              "    "
            ]
          },
          "metadata": {}
        },
        {
          "output_type": "stream",
          "name": "stdout",
          "text": [
            "\n",
            "*** Feature extraction finished ***\n",
            "*** Feature extraction started ***\n"
          ]
        },
        {
          "output_type": "stream",
          "name": "stderr",
          "text": [
            "<ipython-input-13-9dc92995cd83>:9: UserWarning: Using default sampling frequency set in configuration file.\n",
            "  f = tsfel.time_series_features_extractor(cfg, df)\n"
          ]
        },
        {
          "output_type": "display_data",
          "data": {
            "text/plain": [
              "<IPython.core.display.HTML object>"
            ],
            "text/html": [
              "\n",
              "              <p>\n",
              "                  Progress: 100% Complete\n",
              "              <p/>\n",
              "              <progress\n",
              "                  value='67'\n",
              "                  max='67',\n",
              "                  style='width: 25%',\n",
              "              >\n",
              "                  67\n",
              "              </progress>\n",
              "\n",
              "    "
            ]
          },
          "metadata": {}
        },
        {
          "output_type": "stream",
          "name": "stdout",
          "text": [
            "\n",
            "*** Feature extraction finished ***\n",
            "*** Feature extraction started ***\n"
          ]
        },
        {
          "output_type": "stream",
          "name": "stderr",
          "text": [
            "<ipython-input-13-9dc92995cd83>:9: UserWarning: Using default sampling frequency set in configuration file.\n",
            "  f = tsfel.time_series_features_extractor(cfg, df)\n"
          ]
        },
        {
          "output_type": "display_data",
          "data": {
            "text/plain": [
              "<IPython.core.display.HTML object>"
            ],
            "text/html": [
              "\n",
              "              <p>\n",
              "                  Progress: 100% Complete\n",
              "              <p/>\n",
              "              <progress\n",
              "                  value='67'\n",
              "                  max='67',\n",
              "                  style='width: 25%',\n",
              "              >\n",
              "                  67\n",
              "              </progress>\n",
              "\n",
              "    "
            ]
          },
          "metadata": {}
        },
        {
          "output_type": "stream",
          "name": "stdout",
          "text": [
            "\n",
            "*** Feature extraction finished ***\n",
            "*** Feature extraction started ***\n"
          ]
        },
        {
          "output_type": "stream",
          "name": "stderr",
          "text": [
            "<ipython-input-13-9dc92995cd83>:9: UserWarning: Using default sampling frequency set in configuration file.\n",
            "  f = tsfel.time_series_features_extractor(cfg, df)\n"
          ]
        },
        {
          "output_type": "display_data",
          "data": {
            "text/plain": [
              "<IPython.core.display.HTML object>"
            ],
            "text/html": [
              "\n",
              "              <p>\n",
              "                  Progress: 100% Complete\n",
              "              <p/>\n",
              "              <progress\n",
              "                  value='67'\n",
              "                  max='67',\n",
              "                  style='width: 25%',\n",
              "              >\n",
              "                  67\n",
              "              </progress>\n",
              "\n",
              "    "
            ]
          },
          "metadata": {}
        },
        {
          "output_type": "stream",
          "name": "stdout",
          "text": [
            "\n",
            "*** Feature extraction finished ***\n",
            "*** Feature extraction started ***\n"
          ]
        },
        {
          "output_type": "stream",
          "name": "stderr",
          "text": [
            "<ipython-input-13-9dc92995cd83>:9: UserWarning: Using default sampling frequency set in configuration file.\n",
            "  f = tsfel.time_series_features_extractor(cfg, df)\n"
          ]
        },
        {
          "output_type": "display_data",
          "data": {
            "text/plain": [
              "<IPython.core.display.HTML object>"
            ],
            "text/html": [
              "\n",
              "              <p>\n",
              "                  Progress: 100% Complete\n",
              "              <p/>\n",
              "              <progress\n",
              "                  value='67'\n",
              "                  max='67',\n",
              "                  style='width: 25%',\n",
              "              >\n",
              "                  67\n",
              "              </progress>\n",
              "\n",
              "    "
            ]
          },
          "metadata": {}
        },
        {
          "output_type": "stream",
          "name": "stdout",
          "text": [
            "\n",
            "*** Feature extraction finished ***\n",
            "*** Feature extraction started ***\n"
          ]
        },
        {
          "output_type": "stream",
          "name": "stderr",
          "text": [
            "<ipython-input-13-9dc92995cd83>:9: UserWarning: Using default sampling frequency set in configuration file.\n",
            "  f = tsfel.time_series_features_extractor(cfg, df)\n"
          ]
        },
        {
          "output_type": "display_data",
          "data": {
            "text/plain": [
              "<IPython.core.display.HTML object>"
            ],
            "text/html": [
              "\n",
              "              <p>\n",
              "                  Progress: 100% Complete\n",
              "              <p/>\n",
              "              <progress\n",
              "                  value='67'\n",
              "                  max='67',\n",
              "                  style='width: 25%',\n",
              "              >\n",
              "                  67\n",
              "              </progress>\n",
              "\n",
              "    "
            ]
          },
          "metadata": {}
        },
        {
          "output_type": "stream",
          "name": "stdout",
          "text": [
            "\n",
            "*** Feature extraction finished ***\n",
            "*** Feature extraction started ***\n"
          ]
        },
        {
          "output_type": "stream",
          "name": "stderr",
          "text": [
            "<ipython-input-13-9dc92995cd83>:9: UserWarning: Using default sampling frequency set in configuration file.\n",
            "  f = tsfel.time_series_features_extractor(cfg, df)\n"
          ]
        },
        {
          "output_type": "display_data",
          "data": {
            "text/plain": [
              "<IPython.core.display.HTML object>"
            ],
            "text/html": [
              "\n",
              "              <p>\n",
              "                  Progress: 100% Complete\n",
              "              <p/>\n",
              "              <progress\n",
              "                  value='67'\n",
              "                  max='67',\n",
              "                  style='width: 25%',\n",
              "              >\n",
              "                  67\n",
              "              </progress>\n",
              "\n",
              "    "
            ]
          },
          "metadata": {}
        },
        {
          "output_type": "stream",
          "name": "stdout",
          "text": [
            "\n",
            "*** Feature extraction finished ***\n",
            "*** Feature extraction started ***\n"
          ]
        },
        {
          "output_type": "stream",
          "name": "stderr",
          "text": [
            "<ipython-input-13-9dc92995cd83>:9: UserWarning: Using default sampling frequency set in configuration file.\n",
            "  f = tsfel.time_series_features_extractor(cfg, df)\n"
          ]
        },
        {
          "output_type": "display_data",
          "data": {
            "text/plain": [
              "<IPython.core.display.HTML object>"
            ],
            "text/html": [
              "\n",
              "              <p>\n",
              "                  Progress: 100% Complete\n",
              "              <p/>\n",
              "              <progress\n",
              "                  value='67'\n",
              "                  max='67',\n",
              "                  style='width: 25%',\n",
              "              >\n",
              "                  67\n",
              "              </progress>\n",
              "\n",
              "    "
            ]
          },
          "metadata": {}
        },
        {
          "output_type": "stream",
          "name": "stdout",
          "text": [
            "\n",
            "*** Feature extraction finished ***\n",
            "*** Feature extraction started ***\n"
          ]
        },
        {
          "output_type": "stream",
          "name": "stderr",
          "text": [
            "<ipython-input-13-9dc92995cd83>:9: UserWarning: Using default sampling frequency set in configuration file.\n",
            "  f = tsfel.time_series_features_extractor(cfg, df)\n"
          ]
        },
        {
          "output_type": "display_data",
          "data": {
            "text/plain": [
              "<IPython.core.display.HTML object>"
            ],
            "text/html": [
              "\n",
              "              <p>\n",
              "                  Progress: 100% Complete\n",
              "              <p/>\n",
              "              <progress\n",
              "                  value='67'\n",
              "                  max='67',\n",
              "                  style='width: 25%',\n",
              "              >\n",
              "                  67\n",
              "              </progress>\n",
              "\n",
              "    "
            ]
          },
          "metadata": {}
        },
        {
          "output_type": "stream",
          "name": "stdout",
          "text": [
            "\n",
            "*** Feature extraction finished ***\n",
            "*** Feature extraction started ***\n"
          ]
        },
        {
          "output_type": "stream",
          "name": "stderr",
          "text": [
            "<ipython-input-13-9dc92995cd83>:9: UserWarning: Using default sampling frequency set in configuration file.\n",
            "  f = tsfel.time_series_features_extractor(cfg, df)\n"
          ]
        },
        {
          "output_type": "display_data",
          "data": {
            "text/plain": [
              "<IPython.core.display.HTML object>"
            ],
            "text/html": [
              "\n",
              "              <p>\n",
              "                  Progress: 100% Complete\n",
              "              <p/>\n",
              "              <progress\n",
              "                  value='67'\n",
              "                  max='67',\n",
              "                  style='width: 25%',\n",
              "              >\n",
              "                  67\n",
              "              </progress>\n",
              "\n",
              "    "
            ]
          },
          "metadata": {}
        },
        {
          "output_type": "stream",
          "name": "stdout",
          "text": [
            "\n",
            "*** Feature extraction finished ***\n",
            "*** Feature extraction started ***\n"
          ]
        },
        {
          "output_type": "stream",
          "name": "stderr",
          "text": [
            "<ipython-input-13-9dc92995cd83>:9: UserWarning: Using default sampling frequency set in configuration file.\n",
            "  f = tsfel.time_series_features_extractor(cfg, df)\n"
          ]
        },
        {
          "output_type": "display_data",
          "data": {
            "text/plain": [
              "<IPython.core.display.HTML object>"
            ],
            "text/html": [
              "\n",
              "              <p>\n",
              "                  Progress: 100% Complete\n",
              "              <p/>\n",
              "              <progress\n",
              "                  value='67'\n",
              "                  max='67',\n",
              "                  style='width: 25%',\n",
              "              >\n",
              "                  67\n",
              "              </progress>\n",
              "\n",
              "    "
            ]
          },
          "metadata": {}
        },
        {
          "output_type": "stream",
          "name": "stdout",
          "text": [
            "\n",
            "*** Feature extraction finished ***\n",
            "*** Feature extraction started ***\n"
          ]
        },
        {
          "output_type": "stream",
          "name": "stderr",
          "text": [
            "<ipython-input-13-9dc92995cd83>:9: UserWarning: Using default sampling frequency set in configuration file.\n",
            "  f = tsfel.time_series_features_extractor(cfg, df)\n"
          ]
        },
        {
          "output_type": "display_data",
          "data": {
            "text/plain": [
              "<IPython.core.display.HTML object>"
            ],
            "text/html": [
              "\n",
              "              <p>\n",
              "                  Progress: 100% Complete\n",
              "              <p/>\n",
              "              <progress\n",
              "                  value='67'\n",
              "                  max='67',\n",
              "                  style='width: 25%',\n",
              "              >\n",
              "                  67\n",
              "              </progress>\n",
              "\n",
              "    "
            ]
          },
          "metadata": {}
        },
        {
          "output_type": "stream",
          "name": "stdout",
          "text": [
            "\n",
            "*** Feature extraction finished ***\n",
            "*** Feature extraction started ***\n"
          ]
        },
        {
          "output_type": "stream",
          "name": "stderr",
          "text": [
            "<ipython-input-13-9dc92995cd83>:9: UserWarning: Using default sampling frequency set in configuration file.\n",
            "  f = tsfel.time_series_features_extractor(cfg, df)\n"
          ]
        },
        {
          "output_type": "display_data",
          "data": {
            "text/plain": [
              "<IPython.core.display.HTML object>"
            ],
            "text/html": [
              "\n",
              "              <p>\n",
              "                  Progress: 100% Complete\n",
              "              <p/>\n",
              "              <progress\n",
              "                  value='67'\n",
              "                  max='67',\n",
              "                  style='width: 25%',\n",
              "              >\n",
              "                  67\n",
              "              </progress>\n",
              "\n",
              "    "
            ]
          },
          "metadata": {}
        },
        {
          "output_type": "stream",
          "name": "stdout",
          "text": [
            "\n",
            "*** Feature extraction finished ***\n",
            "*** Feature extraction started ***\n"
          ]
        },
        {
          "output_type": "stream",
          "name": "stderr",
          "text": [
            "<ipython-input-13-9dc92995cd83>:9: UserWarning: Using default sampling frequency set in configuration file.\n",
            "  f = tsfel.time_series_features_extractor(cfg, df)\n"
          ]
        },
        {
          "output_type": "display_data",
          "data": {
            "text/plain": [
              "<IPython.core.display.HTML object>"
            ],
            "text/html": [
              "\n",
              "              <p>\n",
              "                  Progress: 100% Complete\n",
              "              <p/>\n",
              "              <progress\n",
              "                  value='67'\n",
              "                  max='67',\n",
              "                  style='width: 25%',\n",
              "              >\n",
              "                  67\n",
              "              </progress>\n",
              "\n",
              "    "
            ]
          },
          "metadata": {}
        },
        {
          "output_type": "stream",
          "name": "stdout",
          "text": [
            "\n",
            "*** Feature extraction finished ***\n",
            "*** Feature extraction started ***\n"
          ]
        },
        {
          "output_type": "stream",
          "name": "stderr",
          "text": [
            "<ipython-input-13-9dc92995cd83>:9: UserWarning: Using default sampling frequency set in configuration file.\n",
            "  f = tsfel.time_series_features_extractor(cfg, df)\n"
          ]
        },
        {
          "output_type": "display_data",
          "data": {
            "text/plain": [
              "<IPython.core.display.HTML object>"
            ],
            "text/html": [
              "\n",
              "              <p>\n",
              "                  Progress: 100% Complete\n",
              "              <p/>\n",
              "              <progress\n",
              "                  value='67'\n",
              "                  max='67',\n",
              "                  style='width: 25%',\n",
              "              >\n",
              "                  67\n",
              "              </progress>\n",
              "\n",
              "    "
            ]
          },
          "metadata": {}
        },
        {
          "output_type": "stream",
          "name": "stdout",
          "text": [
            "\n",
            "*** Feature extraction finished ***\n",
            "*** Feature extraction started ***\n"
          ]
        },
        {
          "output_type": "stream",
          "name": "stderr",
          "text": [
            "<ipython-input-13-9dc92995cd83>:9: UserWarning: Using default sampling frequency set in configuration file.\n",
            "  f = tsfel.time_series_features_extractor(cfg, df)\n"
          ]
        },
        {
          "output_type": "display_data",
          "data": {
            "text/plain": [
              "<IPython.core.display.HTML object>"
            ],
            "text/html": [
              "\n",
              "              <p>\n",
              "                  Progress: 100% Complete\n",
              "              <p/>\n",
              "              <progress\n",
              "                  value='67'\n",
              "                  max='67',\n",
              "                  style='width: 25%',\n",
              "              >\n",
              "                  67\n",
              "              </progress>\n",
              "\n",
              "    "
            ]
          },
          "metadata": {}
        },
        {
          "output_type": "stream",
          "name": "stdout",
          "text": [
            "\n",
            "*** Feature extraction finished ***\n",
            "*** Feature extraction started ***\n"
          ]
        },
        {
          "output_type": "stream",
          "name": "stderr",
          "text": [
            "<ipython-input-13-9dc92995cd83>:9: UserWarning: Using default sampling frequency set in configuration file.\n",
            "  f = tsfel.time_series_features_extractor(cfg, df)\n"
          ]
        },
        {
          "output_type": "display_data",
          "data": {
            "text/plain": [
              "<IPython.core.display.HTML object>"
            ],
            "text/html": [
              "\n",
              "              <p>\n",
              "                  Progress: 100% Complete\n",
              "              <p/>\n",
              "              <progress\n",
              "                  value='67'\n",
              "                  max='67',\n",
              "                  style='width: 25%',\n",
              "              >\n",
              "                  67\n",
              "              </progress>\n",
              "\n",
              "    "
            ]
          },
          "metadata": {}
        },
        {
          "output_type": "stream",
          "name": "stdout",
          "text": [
            "\n",
            "*** Feature extraction finished ***\n",
            "*** Feature extraction started ***\n"
          ]
        },
        {
          "output_type": "stream",
          "name": "stderr",
          "text": [
            "<ipython-input-13-9dc92995cd83>:9: UserWarning: Using default sampling frequency set in configuration file.\n",
            "  f = tsfel.time_series_features_extractor(cfg, df)\n"
          ]
        },
        {
          "output_type": "display_data",
          "data": {
            "text/plain": [
              "<IPython.core.display.HTML object>"
            ],
            "text/html": [
              "\n",
              "              <p>\n",
              "                  Progress: 100% Complete\n",
              "              <p/>\n",
              "              <progress\n",
              "                  value='67'\n",
              "                  max='67',\n",
              "                  style='width: 25%',\n",
              "              >\n",
              "                  67\n",
              "              </progress>\n",
              "\n",
              "    "
            ]
          },
          "metadata": {}
        },
        {
          "output_type": "stream",
          "name": "stdout",
          "text": [
            "\n",
            "*** Feature extraction finished ***\n",
            "*** Feature extraction started ***\n"
          ]
        },
        {
          "output_type": "stream",
          "name": "stderr",
          "text": [
            "<ipython-input-13-9dc92995cd83>:9: UserWarning: Using default sampling frequency set in configuration file.\n",
            "  f = tsfel.time_series_features_extractor(cfg, df)\n"
          ]
        },
        {
          "output_type": "display_data",
          "data": {
            "text/plain": [
              "<IPython.core.display.HTML object>"
            ],
            "text/html": [
              "\n",
              "              <p>\n",
              "                  Progress: 100% Complete\n",
              "              <p/>\n",
              "              <progress\n",
              "                  value='67'\n",
              "                  max='67',\n",
              "                  style='width: 25%',\n",
              "              >\n",
              "                  67\n",
              "              </progress>\n",
              "\n",
              "    "
            ]
          },
          "metadata": {}
        },
        {
          "output_type": "stream",
          "name": "stdout",
          "text": [
            "\n",
            "*** Feature extraction finished ***\n",
            "*** Feature extraction started ***\n"
          ]
        },
        {
          "output_type": "stream",
          "name": "stderr",
          "text": [
            "<ipython-input-13-9dc92995cd83>:9: UserWarning: Using default sampling frequency set in configuration file.\n",
            "  f = tsfel.time_series_features_extractor(cfg, df)\n"
          ]
        },
        {
          "output_type": "display_data",
          "data": {
            "text/plain": [
              "<IPython.core.display.HTML object>"
            ],
            "text/html": [
              "\n",
              "              <p>\n",
              "                  Progress: 100% Complete\n",
              "              <p/>\n",
              "              <progress\n",
              "                  value='67'\n",
              "                  max='67',\n",
              "                  style='width: 25%',\n",
              "              >\n",
              "                  67\n",
              "              </progress>\n",
              "\n",
              "    "
            ]
          },
          "metadata": {}
        },
        {
          "output_type": "stream",
          "name": "stdout",
          "text": [
            "\n",
            "*** Feature extraction finished ***\n",
            "*** Feature extraction started ***\n"
          ]
        },
        {
          "output_type": "stream",
          "name": "stderr",
          "text": [
            "<ipython-input-13-9dc92995cd83>:9: UserWarning: Using default sampling frequency set in configuration file.\n",
            "  f = tsfel.time_series_features_extractor(cfg, df)\n"
          ]
        },
        {
          "output_type": "display_data",
          "data": {
            "text/plain": [
              "<IPython.core.display.HTML object>"
            ],
            "text/html": [
              "\n",
              "              <p>\n",
              "                  Progress: 100% Complete\n",
              "              <p/>\n",
              "              <progress\n",
              "                  value='67'\n",
              "                  max='67',\n",
              "                  style='width: 25%',\n",
              "              >\n",
              "                  67\n",
              "              </progress>\n",
              "\n",
              "    "
            ]
          },
          "metadata": {}
        },
        {
          "output_type": "stream",
          "name": "stdout",
          "text": [
            "\n",
            "*** Feature extraction finished ***\n",
            "*** Feature extraction started ***\n"
          ]
        },
        {
          "output_type": "stream",
          "name": "stderr",
          "text": [
            "<ipython-input-13-9dc92995cd83>:9: UserWarning: Using default sampling frequency set in configuration file.\n",
            "  f = tsfel.time_series_features_extractor(cfg, df)\n"
          ]
        },
        {
          "output_type": "display_data",
          "data": {
            "text/plain": [
              "<IPython.core.display.HTML object>"
            ],
            "text/html": [
              "\n",
              "              <p>\n",
              "                  Progress: 100% Complete\n",
              "              <p/>\n",
              "              <progress\n",
              "                  value='67'\n",
              "                  max='67',\n",
              "                  style='width: 25%',\n",
              "              >\n",
              "                  67\n",
              "              </progress>\n",
              "\n",
              "    "
            ]
          },
          "metadata": {}
        },
        {
          "output_type": "stream",
          "name": "stdout",
          "text": [
            "\n",
            "*** Feature extraction finished ***\n",
            "*** Feature extraction started ***\n"
          ]
        },
        {
          "output_type": "stream",
          "name": "stderr",
          "text": [
            "<ipython-input-13-9dc92995cd83>:9: UserWarning: Using default sampling frequency set in configuration file.\n",
            "  f = tsfel.time_series_features_extractor(cfg, df)\n"
          ]
        },
        {
          "output_type": "display_data",
          "data": {
            "text/plain": [
              "<IPython.core.display.HTML object>"
            ],
            "text/html": [
              "\n",
              "              <p>\n",
              "                  Progress: 100% Complete\n",
              "              <p/>\n",
              "              <progress\n",
              "                  value='67'\n",
              "                  max='67',\n",
              "                  style='width: 25%',\n",
              "              >\n",
              "                  67\n",
              "              </progress>\n",
              "\n",
              "    "
            ]
          },
          "metadata": {}
        },
        {
          "output_type": "stream",
          "name": "stdout",
          "text": [
            "\n",
            "*** Feature extraction finished ***\n",
            "*** Feature extraction started ***\n"
          ]
        },
        {
          "output_type": "stream",
          "name": "stderr",
          "text": [
            "<ipython-input-13-9dc92995cd83>:9: UserWarning: Using default sampling frequency set in configuration file.\n",
            "  f = tsfel.time_series_features_extractor(cfg, df)\n"
          ]
        },
        {
          "output_type": "display_data",
          "data": {
            "text/plain": [
              "<IPython.core.display.HTML object>"
            ],
            "text/html": [
              "\n",
              "              <p>\n",
              "                  Progress: 100% Complete\n",
              "              <p/>\n",
              "              <progress\n",
              "                  value='67'\n",
              "                  max='67',\n",
              "                  style='width: 25%',\n",
              "              >\n",
              "                  67\n",
              "              </progress>\n",
              "\n",
              "    "
            ]
          },
          "metadata": {}
        },
        {
          "output_type": "stream",
          "name": "stdout",
          "text": [
            "\n",
            "*** Feature extraction finished ***\n",
            "*** Feature extraction started ***\n"
          ]
        },
        {
          "output_type": "stream",
          "name": "stderr",
          "text": [
            "<ipython-input-13-9dc92995cd83>:9: UserWarning: Using default sampling frequency set in configuration file.\n",
            "  f = tsfel.time_series_features_extractor(cfg, df)\n"
          ]
        },
        {
          "output_type": "display_data",
          "data": {
            "text/plain": [
              "<IPython.core.display.HTML object>"
            ],
            "text/html": [
              "\n",
              "              <p>\n",
              "                  Progress: 100% Complete\n",
              "              <p/>\n",
              "              <progress\n",
              "                  value='67'\n",
              "                  max='67',\n",
              "                  style='width: 25%',\n",
              "              >\n",
              "                  67\n",
              "              </progress>\n",
              "\n",
              "    "
            ]
          },
          "metadata": {}
        },
        {
          "output_type": "stream",
          "name": "stdout",
          "text": [
            "\n",
            "*** Feature extraction finished ***\n",
            "*** Feature extraction started ***\n"
          ]
        },
        {
          "output_type": "stream",
          "name": "stderr",
          "text": [
            "<ipython-input-13-9dc92995cd83>:9: UserWarning: Using default sampling frequency set in configuration file.\n",
            "  f = tsfel.time_series_features_extractor(cfg, df)\n"
          ]
        },
        {
          "output_type": "display_data",
          "data": {
            "text/plain": [
              "<IPython.core.display.HTML object>"
            ],
            "text/html": [
              "\n",
              "              <p>\n",
              "                  Progress: 100% Complete\n",
              "              <p/>\n",
              "              <progress\n",
              "                  value='67'\n",
              "                  max='67',\n",
              "                  style='width: 25%',\n",
              "              >\n",
              "                  67\n",
              "              </progress>\n",
              "\n",
              "    "
            ]
          },
          "metadata": {}
        },
        {
          "output_type": "stream",
          "name": "stdout",
          "text": [
            "\n",
            "*** Feature extraction finished ***\n",
            "*** Feature extraction started ***\n"
          ]
        },
        {
          "output_type": "stream",
          "name": "stderr",
          "text": [
            "<ipython-input-13-9dc92995cd83>:9: UserWarning: Using default sampling frequency set in configuration file.\n",
            "  f = tsfel.time_series_features_extractor(cfg, df)\n"
          ]
        },
        {
          "output_type": "display_data",
          "data": {
            "text/plain": [
              "<IPython.core.display.HTML object>"
            ],
            "text/html": [
              "\n",
              "              <p>\n",
              "                  Progress: 100% Complete\n",
              "              <p/>\n",
              "              <progress\n",
              "                  value='67'\n",
              "                  max='67',\n",
              "                  style='width: 25%',\n",
              "              >\n",
              "                  67\n",
              "              </progress>\n",
              "\n",
              "    "
            ]
          },
          "metadata": {}
        },
        {
          "output_type": "stream",
          "name": "stdout",
          "text": [
            "\n",
            "*** Feature extraction finished ***\n",
            "*** Feature extraction started ***\n"
          ]
        },
        {
          "output_type": "stream",
          "name": "stderr",
          "text": [
            "<ipython-input-13-9dc92995cd83>:9: UserWarning: Using default sampling frequency set in configuration file.\n",
            "  f = tsfel.time_series_features_extractor(cfg, df)\n"
          ]
        },
        {
          "output_type": "display_data",
          "data": {
            "text/plain": [
              "<IPython.core.display.HTML object>"
            ],
            "text/html": [
              "\n",
              "              <p>\n",
              "                  Progress: 100% Complete\n",
              "              <p/>\n",
              "              <progress\n",
              "                  value='67'\n",
              "                  max='67',\n",
              "                  style='width: 25%',\n",
              "              >\n",
              "                  67\n",
              "              </progress>\n",
              "\n",
              "    "
            ]
          },
          "metadata": {}
        },
        {
          "output_type": "stream",
          "name": "stdout",
          "text": [
            "\n",
            "*** Feature extraction finished ***\n",
            "*** Feature extraction started ***\n"
          ]
        },
        {
          "output_type": "stream",
          "name": "stderr",
          "text": [
            "<ipython-input-13-9dc92995cd83>:9: UserWarning: Using default sampling frequency set in configuration file.\n",
            "  f = tsfel.time_series_features_extractor(cfg, df)\n"
          ]
        },
        {
          "output_type": "display_data",
          "data": {
            "text/plain": [
              "<IPython.core.display.HTML object>"
            ],
            "text/html": [
              "\n",
              "              <p>\n",
              "                  Progress: 100% Complete\n",
              "              <p/>\n",
              "              <progress\n",
              "                  value='67'\n",
              "                  max='67',\n",
              "                  style='width: 25%',\n",
              "              >\n",
              "                  67\n",
              "              </progress>\n",
              "\n",
              "    "
            ]
          },
          "metadata": {}
        },
        {
          "output_type": "stream",
          "name": "stdout",
          "text": [
            "\n",
            "*** Feature extraction finished ***\n",
            "*** Feature extraction started ***\n"
          ]
        },
        {
          "output_type": "stream",
          "name": "stderr",
          "text": [
            "<ipython-input-13-9dc92995cd83>:9: UserWarning: Using default sampling frequency set in configuration file.\n",
            "  f = tsfel.time_series_features_extractor(cfg, df)\n"
          ]
        },
        {
          "output_type": "display_data",
          "data": {
            "text/plain": [
              "<IPython.core.display.HTML object>"
            ],
            "text/html": [
              "\n",
              "              <p>\n",
              "                  Progress: 100% Complete\n",
              "              <p/>\n",
              "              <progress\n",
              "                  value='67'\n",
              "                  max='67',\n",
              "                  style='width: 25%',\n",
              "              >\n",
              "                  67\n",
              "              </progress>\n",
              "\n",
              "    "
            ]
          },
          "metadata": {}
        },
        {
          "output_type": "stream",
          "name": "stdout",
          "text": [
            "\n",
            "*** Feature extraction finished ***\n",
            "*** Feature extraction started ***\n"
          ]
        },
        {
          "output_type": "stream",
          "name": "stderr",
          "text": [
            "<ipython-input-13-9dc92995cd83>:9: UserWarning: Using default sampling frequency set in configuration file.\n",
            "  f = tsfel.time_series_features_extractor(cfg, df)\n"
          ]
        },
        {
          "output_type": "display_data",
          "data": {
            "text/plain": [
              "<IPython.core.display.HTML object>"
            ],
            "text/html": [
              "\n",
              "              <p>\n",
              "                  Progress: 100% Complete\n",
              "              <p/>\n",
              "              <progress\n",
              "                  value='67'\n",
              "                  max='67',\n",
              "                  style='width: 25%',\n",
              "              >\n",
              "                  67\n",
              "              </progress>\n",
              "\n",
              "    "
            ]
          },
          "metadata": {}
        },
        {
          "output_type": "stream",
          "name": "stdout",
          "text": [
            "\n",
            "*** Feature extraction finished ***\n",
            "*** Feature extraction started ***\n"
          ]
        },
        {
          "output_type": "stream",
          "name": "stderr",
          "text": [
            "<ipython-input-13-9dc92995cd83>:9: UserWarning: Using default sampling frequency set in configuration file.\n",
            "  f = tsfel.time_series_features_extractor(cfg, df)\n"
          ]
        },
        {
          "output_type": "display_data",
          "data": {
            "text/plain": [
              "<IPython.core.display.HTML object>"
            ],
            "text/html": [
              "\n",
              "              <p>\n",
              "                  Progress: 100% Complete\n",
              "              <p/>\n",
              "              <progress\n",
              "                  value='67'\n",
              "                  max='67',\n",
              "                  style='width: 25%',\n",
              "              >\n",
              "                  67\n",
              "              </progress>\n",
              "\n",
              "    "
            ]
          },
          "metadata": {}
        },
        {
          "output_type": "stream",
          "name": "stdout",
          "text": [
            "\n",
            "*** Feature extraction finished ***\n",
            "*** Feature extraction started ***\n"
          ]
        },
        {
          "output_type": "stream",
          "name": "stderr",
          "text": [
            "<ipython-input-13-9dc92995cd83>:9: UserWarning: Using default sampling frequency set in configuration file.\n",
            "  f = tsfel.time_series_features_extractor(cfg, df)\n"
          ]
        },
        {
          "output_type": "display_data",
          "data": {
            "text/plain": [
              "<IPython.core.display.HTML object>"
            ],
            "text/html": [
              "\n",
              "              <p>\n",
              "                  Progress: 100% Complete\n",
              "              <p/>\n",
              "              <progress\n",
              "                  value='67'\n",
              "                  max='67',\n",
              "                  style='width: 25%',\n",
              "              >\n",
              "                  67\n",
              "              </progress>\n",
              "\n",
              "    "
            ]
          },
          "metadata": {}
        },
        {
          "output_type": "stream",
          "name": "stdout",
          "text": [
            "\n",
            "*** Feature extraction finished ***\n",
            "*** Feature extraction started ***\n"
          ]
        },
        {
          "output_type": "stream",
          "name": "stderr",
          "text": [
            "<ipython-input-13-9dc92995cd83>:9: UserWarning: Using default sampling frequency set in configuration file.\n",
            "  f = tsfel.time_series_features_extractor(cfg, df)\n"
          ]
        },
        {
          "output_type": "display_data",
          "data": {
            "text/plain": [
              "<IPython.core.display.HTML object>"
            ],
            "text/html": [
              "\n",
              "              <p>\n",
              "                  Progress: 100% Complete\n",
              "              <p/>\n",
              "              <progress\n",
              "                  value='67'\n",
              "                  max='67',\n",
              "                  style='width: 25%',\n",
              "              >\n",
              "                  67\n",
              "              </progress>\n",
              "\n",
              "    "
            ]
          },
          "metadata": {}
        },
        {
          "output_type": "stream",
          "name": "stdout",
          "text": [
            "\n",
            "*** Feature extraction finished ***\n",
            "*** Feature extraction started ***\n"
          ]
        },
        {
          "output_type": "stream",
          "name": "stderr",
          "text": [
            "<ipython-input-13-9dc92995cd83>:9: UserWarning: Using default sampling frequency set in configuration file.\n",
            "  f = tsfel.time_series_features_extractor(cfg, df)\n"
          ]
        },
        {
          "output_type": "display_data",
          "data": {
            "text/plain": [
              "<IPython.core.display.HTML object>"
            ],
            "text/html": [
              "\n",
              "              <p>\n",
              "                  Progress: 100% Complete\n",
              "              <p/>\n",
              "              <progress\n",
              "                  value='67'\n",
              "                  max='67',\n",
              "                  style='width: 25%',\n",
              "              >\n",
              "                  67\n",
              "              </progress>\n",
              "\n",
              "    "
            ]
          },
          "metadata": {}
        },
        {
          "output_type": "stream",
          "name": "stdout",
          "text": [
            "\n",
            "*** Feature extraction finished ***\n",
            "*** Feature extraction started ***\n"
          ]
        },
        {
          "output_type": "stream",
          "name": "stderr",
          "text": [
            "<ipython-input-13-9dc92995cd83>:9: UserWarning: Using default sampling frequency set in configuration file.\n",
            "  f = tsfel.time_series_features_extractor(cfg, df)\n"
          ]
        },
        {
          "output_type": "display_data",
          "data": {
            "text/plain": [
              "<IPython.core.display.HTML object>"
            ],
            "text/html": [
              "\n",
              "              <p>\n",
              "                  Progress: 100% Complete\n",
              "              <p/>\n",
              "              <progress\n",
              "                  value='67'\n",
              "                  max='67',\n",
              "                  style='width: 25%',\n",
              "              >\n",
              "                  67\n",
              "              </progress>\n",
              "\n",
              "    "
            ]
          },
          "metadata": {}
        },
        {
          "output_type": "stream",
          "name": "stdout",
          "text": [
            "\n",
            "*** Feature extraction finished ***\n",
            "*** Feature extraction started ***\n"
          ]
        },
        {
          "output_type": "stream",
          "name": "stderr",
          "text": [
            "<ipython-input-13-9dc92995cd83>:9: UserWarning: Using default sampling frequency set in configuration file.\n",
            "  f = tsfel.time_series_features_extractor(cfg, df)\n"
          ]
        },
        {
          "output_type": "display_data",
          "data": {
            "text/plain": [
              "<IPython.core.display.HTML object>"
            ],
            "text/html": [
              "\n",
              "              <p>\n",
              "                  Progress: 100% Complete\n",
              "              <p/>\n",
              "              <progress\n",
              "                  value='67'\n",
              "                  max='67',\n",
              "                  style='width: 25%',\n",
              "              >\n",
              "                  67\n",
              "              </progress>\n",
              "\n",
              "    "
            ]
          },
          "metadata": {}
        },
        {
          "output_type": "stream",
          "name": "stdout",
          "text": [
            "\n",
            "*** Feature extraction finished ***\n",
            "*** Feature extraction started ***\n"
          ]
        },
        {
          "output_type": "stream",
          "name": "stderr",
          "text": [
            "<ipython-input-13-9dc92995cd83>:9: UserWarning: Using default sampling frequency set in configuration file.\n",
            "  f = tsfel.time_series_features_extractor(cfg, df)\n"
          ]
        },
        {
          "output_type": "display_data",
          "data": {
            "text/plain": [
              "<IPython.core.display.HTML object>"
            ],
            "text/html": [
              "\n",
              "              <p>\n",
              "                  Progress: 100% Complete\n",
              "              <p/>\n",
              "              <progress\n",
              "                  value='67'\n",
              "                  max='67',\n",
              "                  style='width: 25%',\n",
              "              >\n",
              "                  67\n",
              "              </progress>\n",
              "\n",
              "    "
            ]
          },
          "metadata": {}
        },
        {
          "output_type": "stream",
          "name": "stdout",
          "text": [
            "\n",
            "*** Feature extraction finished ***\n",
            "*** Feature extraction started ***\n"
          ]
        },
        {
          "output_type": "stream",
          "name": "stderr",
          "text": [
            "<ipython-input-13-9dc92995cd83>:9: UserWarning: Using default sampling frequency set in configuration file.\n",
            "  f = tsfel.time_series_features_extractor(cfg, df)\n"
          ]
        },
        {
          "output_type": "display_data",
          "data": {
            "text/plain": [
              "<IPython.core.display.HTML object>"
            ],
            "text/html": [
              "\n",
              "              <p>\n",
              "                  Progress: 100% Complete\n",
              "              <p/>\n",
              "              <progress\n",
              "                  value='67'\n",
              "                  max='67',\n",
              "                  style='width: 25%',\n",
              "              >\n",
              "                  67\n",
              "              </progress>\n",
              "\n",
              "    "
            ]
          },
          "metadata": {}
        },
        {
          "output_type": "stream",
          "name": "stdout",
          "text": [
            "\n",
            "*** Feature extraction finished ***\n",
            "*** Feature extraction started ***\n"
          ]
        },
        {
          "output_type": "stream",
          "name": "stderr",
          "text": [
            "<ipython-input-13-9dc92995cd83>:9: UserWarning: Using default sampling frequency set in configuration file.\n",
            "  f = tsfel.time_series_features_extractor(cfg, df)\n"
          ]
        },
        {
          "output_type": "display_data",
          "data": {
            "text/plain": [
              "<IPython.core.display.HTML object>"
            ],
            "text/html": [
              "\n",
              "              <p>\n",
              "                  Progress: 100% Complete\n",
              "              <p/>\n",
              "              <progress\n",
              "                  value='67'\n",
              "                  max='67',\n",
              "                  style='width: 25%',\n",
              "              >\n",
              "                  67\n",
              "              </progress>\n",
              "\n",
              "    "
            ]
          },
          "metadata": {}
        },
        {
          "output_type": "stream",
          "name": "stdout",
          "text": [
            "\n",
            "*** Feature extraction finished ***\n",
            "*** Feature extraction started ***\n"
          ]
        },
        {
          "output_type": "stream",
          "name": "stderr",
          "text": [
            "<ipython-input-13-9dc92995cd83>:9: UserWarning: Using default sampling frequency set in configuration file.\n",
            "  f = tsfel.time_series_features_extractor(cfg, df)\n"
          ]
        },
        {
          "output_type": "display_data",
          "data": {
            "text/plain": [
              "<IPython.core.display.HTML object>"
            ],
            "text/html": [
              "\n",
              "              <p>\n",
              "                  Progress: 100% Complete\n",
              "              <p/>\n",
              "              <progress\n",
              "                  value='67'\n",
              "                  max='67',\n",
              "                  style='width: 25%',\n",
              "              >\n",
              "                  67\n",
              "              </progress>\n",
              "\n",
              "    "
            ]
          },
          "metadata": {}
        },
        {
          "output_type": "stream",
          "name": "stdout",
          "text": [
            "\n",
            "*** Feature extraction finished ***\n",
            "*** Feature extraction started ***\n"
          ]
        },
        {
          "output_type": "stream",
          "name": "stderr",
          "text": [
            "<ipython-input-13-9dc92995cd83>:9: UserWarning: Using default sampling frequency set in configuration file.\n",
            "  f = tsfel.time_series_features_extractor(cfg, df)\n"
          ]
        },
        {
          "output_type": "display_data",
          "data": {
            "text/plain": [
              "<IPython.core.display.HTML object>"
            ],
            "text/html": [
              "\n",
              "              <p>\n",
              "                  Progress: 100% Complete\n",
              "              <p/>\n",
              "              <progress\n",
              "                  value='67'\n",
              "                  max='67',\n",
              "                  style='width: 25%',\n",
              "              >\n",
              "                  67\n",
              "              </progress>\n",
              "\n",
              "    "
            ]
          },
          "metadata": {}
        },
        {
          "output_type": "stream",
          "name": "stdout",
          "text": [
            "\n",
            "*** Feature extraction finished ***\n",
            "*** Feature extraction started ***\n"
          ]
        },
        {
          "output_type": "stream",
          "name": "stderr",
          "text": [
            "<ipython-input-13-9dc92995cd83>:9: UserWarning: Using default sampling frequency set in configuration file.\n",
            "  f = tsfel.time_series_features_extractor(cfg, df)\n"
          ]
        },
        {
          "output_type": "display_data",
          "data": {
            "text/plain": [
              "<IPython.core.display.HTML object>"
            ],
            "text/html": [
              "\n",
              "              <p>\n",
              "                  Progress: 100% Complete\n",
              "              <p/>\n",
              "              <progress\n",
              "                  value='67'\n",
              "                  max='67',\n",
              "                  style='width: 25%',\n",
              "              >\n",
              "                  67\n",
              "              </progress>\n",
              "\n",
              "    "
            ]
          },
          "metadata": {}
        },
        {
          "output_type": "stream",
          "name": "stdout",
          "text": [
            "\n",
            "*** Feature extraction finished ***\n",
            "*** Feature extraction started ***\n"
          ]
        },
        {
          "output_type": "stream",
          "name": "stderr",
          "text": [
            "<ipython-input-13-9dc92995cd83>:9: UserWarning: Using default sampling frequency set in configuration file.\n",
            "  f = tsfel.time_series_features_extractor(cfg, df)\n"
          ]
        },
        {
          "output_type": "display_data",
          "data": {
            "text/plain": [
              "<IPython.core.display.HTML object>"
            ],
            "text/html": [
              "\n",
              "              <p>\n",
              "                  Progress: 100% Complete\n",
              "              <p/>\n",
              "              <progress\n",
              "                  value='67'\n",
              "                  max='67',\n",
              "                  style='width: 25%',\n",
              "              >\n",
              "                  67\n",
              "              </progress>\n",
              "\n",
              "    "
            ]
          },
          "metadata": {}
        },
        {
          "output_type": "stream",
          "name": "stdout",
          "text": [
            "\n",
            "*** Feature extraction finished ***\n",
            "*** Feature extraction started ***\n"
          ]
        },
        {
          "output_type": "stream",
          "name": "stderr",
          "text": [
            "<ipython-input-13-9dc92995cd83>:9: UserWarning: Using default sampling frequency set in configuration file.\n",
            "  f = tsfel.time_series_features_extractor(cfg, df)\n"
          ]
        },
        {
          "output_type": "display_data",
          "data": {
            "text/plain": [
              "<IPython.core.display.HTML object>"
            ],
            "text/html": [
              "\n",
              "              <p>\n",
              "                  Progress: 100% Complete\n",
              "              <p/>\n",
              "              <progress\n",
              "                  value='67'\n",
              "                  max='67',\n",
              "                  style='width: 25%',\n",
              "              >\n",
              "                  67\n",
              "              </progress>\n",
              "\n",
              "    "
            ]
          },
          "metadata": {}
        },
        {
          "output_type": "stream",
          "name": "stdout",
          "text": [
            "\n",
            "*** Feature extraction finished ***\n",
            "*** Feature extraction started ***\n"
          ]
        },
        {
          "output_type": "stream",
          "name": "stderr",
          "text": [
            "<ipython-input-13-9dc92995cd83>:9: UserWarning: Using default sampling frequency set in configuration file.\n",
            "  f = tsfel.time_series_features_extractor(cfg, df)\n"
          ]
        },
        {
          "output_type": "display_data",
          "data": {
            "text/plain": [
              "<IPython.core.display.HTML object>"
            ],
            "text/html": [
              "\n",
              "              <p>\n",
              "                  Progress: 100% Complete\n",
              "              <p/>\n",
              "              <progress\n",
              "                  value='67'\n",
              "                  max='67',\n",
              "                  style='width: 25%',\n",
              "              >\n",
              "                  67\n",
              "              </progress>\n",
              "\n",
              "    "
            ]
          },
          "metadata": {}
        },
        {
          "output_type": "stream",
          "name": "stdout",
          "text": [
            "\n",
            "*** Feature extraction finished ***\n",
            "*** Feature extraction started ***\n"
          ]
        },
        {
          "output_type": "stream",
          "name": "stderr",
          "text": [
            "<ipython-input-13-9dc92995cd83>:9: UserWarning: Using default sampling frequency set in configuration file.\n",
            "  f = tsfel.time_series_features_extractor(cfg, df)\n"
          ]
        },
        {
          "output_type": "display_data",
          "data": {
            "text/plain": [
              "<IPython.core.display.HTML object>"
            ],
            "text/html": [
              "\n",
              "              <p>\n",
              "                  Progress: 100% Complete\n",
              "              <p/>\n",
              "              <progress\n",
              "                  value='67'\n",
              "                  max='67',\n",
              "                  style='width: 25%',\n",
              "              >\n",
              "                  67\n",
              "              </progress>\n",
              "\n",
              "    "
            ]
          },
          "metadata": {}
        },
        {
          "output_type": "stream",
          "name": "stdout",
          "text": [
            "\n",
            "*** Feature extraction finished ***\n",
            "*** Feature extraction started ***\n"
          ]
        },
        {
          "output_type": "stream",
          "name": "stderr",
          "text": [
            "<ipython-input-13-9dc92995cd83>:9: UserWarning: Using default sampling frequency set in configuration file.\n",
            "  f = tsfel.time_series_features_extractor(cfg, df)\n"
          ]
        },
        {
          "output_type": "display_data",
          "data": {
            "text/plain": [
              "<IPython.core.display.HTML object>"
            ],
            "text/html": [
              "\n",
              "              <p>\n",
              "                  Progress: 100% Complete\n",
              "              <p/>\n",
              "              <progress\n",
              "                  value='67'\n",
              "                  max='67',\n",
              "                  style='width: 25%',\n",
              "              >\n",
              "                  67\n",
              "              </progress>\n",
              "\n",
              "    "
            ]
          },
          "metadata": {}
        },
        {
          "output_type": "stream",
          "name": "stdout",
          "text": [
            "\n",
            "*** Feature extraction finished ***\n",
            "*** Feature extraction started ***\n"
          ]
        },
        {
          "output_type": "stream",
          "name": "stderr",
          "text": [
            "<ipython-input-13-9dc92995cd83>:9: UserWarning: Using default sampling frequency set in configuration file.\n",
            "  f = tsfel.time_series_features_extractor(cfg, df)\n"
          ]
        },
        {
          "output_type": "display_data",
          "data": {
            "text/plain": [
              "<IPython.core.display.HTML object>"
            ],
            "text/html": [
              "\n",
              "              <p>\n",
              "                  Progress: 100% Complete\n",
              "              <p/>\n",
              "              <progress\n",
              "                  value='67'\n",
              "                  max='67',\n",
              "                  style='width: 25%',\n",
              "              >\n",
              "                  67\n",
              "              </progress>\n",
              "\n",
              "    "
            ]
          },
          "metadata": {}
        },
        {
          "output_type": "stream",
          "name": "stdout",
          "text": [
            "\n",
            "*** Feature extraction finished ***\n",
            "*** Feature extraction started ***\n"
          ]
        },
        {
          "output_type": "stream",
          "name": "stderr",
          "text": [
            "<ipython-input-13-9dc92995cd83>:9: UserWarning: Using default sampling frequency set in configuration file.\n",
            "  f = tsfel.time_series_features_extractor(cfg, df)\n"
          ]
        },
        {
          "output_type": "display_data",
          "data": {
            "text/plain": [
              "<IPython.core.display.HTML object>"
            ],
            "text/html": [
              "\n",
              "              <p>\n",
              "                  Progress: 100% Complete\n",
              "              <p/>\n",
              "              <progress\n",
              "                  value='67'\n",
              "                  max='67',\n",
              "                  style='width: 25%',\n",
              "              >\n",
              "                  67\n",
              "              </progress>\n",
              "\n",
              "    "
            ]
          },
          "metadata": {}
        },
        {
          "output_type": "stream",
          "name": "stdout",
          "text": [
            "\n",
            "*** Feature extraction finished ***\n",
            "*** Feature extraction started ***\n"
          ]
        },
        {
          "output_type": "stream",
          "name": "stderr",
          "text": [
            "<ipython-input-13-9dc92995cd83>:9: UserWarning: Using default sampling frequency set in configuration file.\n",
            "  f = tsfel.time_series_features_extractor(cfg, df)\n"
          ]
        },
        {
          "output_type": "display_data",
          "data": {
            "text/plain": [
              "<IPython.core.display.HTML object>"
            ],
            "text/html": [
              "\n",
              "              <p>\n",
              "                  Progress: 100% Complete\n",
              "              <p/>\n",
              "              <progress\n",
              "                  value='67'\n",
              "                  max='67',\n",
              "                  style='width: 25%',\n",
              "              >\n",
              "                  67\n",
              "              </progress>\n",
              "\n",
              "    "
            ]
          },
          "metadata": {}
        },
        {
          "output_type": "stream",
          "name": "stdout",
          "text": [
            "\n",
            "*** Feature extraction finished ***\n",
            "*** Feature extraction started ***\n"
          ]
        },
        {
          "output_type": "stream",
          "name": "stderr",
          "text": [
            "<ipython-input-13-9dc92995cd83>:9: UserWarning: Using default sampling frequency set in configuration file.\n",
            "  f = tsfel.time_series_features_extractor(cfg, df)\n"
          ]
        },
        {
          "output_type": "display_data",
          "data": {
            "text/plain": [
              "<IPython.core.display.HTML object>"
            ],
            "text/html": [
              "\n",
              "              <p>\n",
              "                  Progress: 100% Complete\n",
              "              <p/>\n",
              "              <progress\n",
              "                  value='67'\n",
              "                  max='67',\n",
              "                  style='width: 25%',\n",
              "              >\n",
              "                  67\n",
              "              </progress>\n",
              "\n",
              "    "
            ]
          },
          "metadata": {}
        },
        {
          "output_type": "stream",
          "name": "stdout",
          "text": [
            "\n",
            "*** Feature extraction finished ***\n",
            "*** Feature extraction started ***\n"
          ]
        },
        {
          "output_type": "stream",
          "name": "stderr",
          "text": [
            "<ipython-input-13-9dc92995cd83>:9: UserWarning: Using default sampling frequency set in configuration file.\n",
            "  f = tsfel.time_series_features_extractor(cfg, df)\n"
          ]
        },
        {
          "output_type": "display_data",
          "data": {
            "text/plain": [
              "<IPython.core.display.HTML object>"
            ],
            "text/html": [
              "\n",
              "              <p>\n",
              "                  Progress: 100% Complete\n",
              "              <p/>\n",
              "              <progress\n",
              "                  value='67'\n",
              "                  max='67',\n",
              "                  style='width: 25%',\n",
              "              >\n",
              "                  67\n",
              "              </progress>\n",
              "\n",
              "    "
            ]
          },
          "metadata": {}
        },
        {
          "output_type": "stream",
          "name": "stdout",
          "text": [
            "\n",
            "*** Feature extraction finished ***\n",
            "*** Feature extraction started ***\n"
          ]
        },
        {
          "output_type": "stream",
          "name": "stderr",
          "text": [
            "<ipython-input-13-9dc92995cd83>:9: UserWarning: Using default sampling frequency set in configuration file.\n",
            "  f = tsfel.time_series_features_extractor(cfg, df)\n"
          ]
        },
        {
          "output_type": "display_data",
          "data": {
            "text/plain": [
              "<IPython.core.display.HTML object>"
            ],
            "text/html": [
              "\n",
              "              <p>\n",
              "                  Progress: 100% Complete\n",
              "              <p/>\n",
              "              <progress\n",
              "                  value='67'\n",
              "                  max='67',\n",
              "                  style='width: 25%',\n",
              "              >\n",
              "                  67\n",
              "              </progress>\n",
              "\n",
              "    "
            ]
          },
          "metadata": {}
        },
        {
          "output_type": "stream",
          "name": "stdout",
          "text": [
            "\n",
            "*** Feature extraction finished ***\n",
            "*** Feature extraction started ***\n"
          ]
        },
        {
          "output_type": "stream",
          "name": "stderr",
          "text": [
            "<ipython-input-13-9dc92995cd83>:9: UserWarning: Using default sampling frequency set in configuration file.\n",
            "  f = tsfel.time_series_features_extractor(cfg, df)\n"
          ]
        },
        {
          "output_type": "display_data",
          "data": {
            "text/plain": [
              "<IPython.core.display.HTML object>"
            ],
            "text/html": [
              "\n",
              "              <p>\n",
              "                  Progress: 100% Complete\n",
              "              <p/>\n",
              "              <progress\n",
              "                  value='67'\n",
              "                  max='67',\n",
              "                  style='width: 25%',\n",
              "              >\n",
              "                  67\n",
              "              </progress>\n",
              "\n",
              "    "
            ]
          },
          "metadata": {}
        },
        {
          "output_type": "stream",
          "name": "stdout",
          "text": [
            "\n",
            "*** Feature extraction finished ***\n",
            "*** Feature extraction started ***\n"
          ]
        },
        {
          "output_type": "stream",
          "name": "stderr",
          "text": [
            "<ipython-input-13-9dc92995cd83>:9: UserWarning: Using default sampling frequency set in configuration file.\n",
            "  f = tsfel.time_series_features_extractor(cfg, df)\n"
          ]
        },
        {
          "output_type": "display_data",
          "data": {
            "text/plain": [
              "<IPython.core.display.HTML object>"
            ],
            "text/html": [
              "\n",
              "              <p>\n",
              "                  Progress: 100% Complete\n",
              "              <p/>\n",
              "              <progress\n",
              "                  value='67'\n",
              "                  max='67',\n",
              "                  style='width: 25%',\n",
              "              >\n",
              "                  67\n",
              "              </progress>\n",
              "\n",
              "    "
            ]
          },
          "metadata": {}
        },
        {
          "output_type": "stream",
          "name": "stdout",
          "text": [
            "\n",
            "*** Feature extraction finished ***\n",
            "*** Feature extraction started ***\n"
          ]
        },
        {
          "output_type": "stream",
          "name": "stderr",
          "text": [
            "<ipython-input-13-9dc92995cd83>:9: UserWarning: Using default sampling frequency set in configuration file.\n",
            "  f = tsfel.time_series_features_extractor(cfg, df)\n"
          ]
        },
        {
          "output_type": "display_data",
          "data": {
            "text/plain": [
              "<IPython.core.display.HTML object>"
            ],
            "text/html": [
              "\n",
              "              <p>\n",
              "                  Progress: 100% Complete\n",
              "              <p/>\n",
              "              <progress\n",
              "                  value='67'\n",
              "                  max='67',\n",
              "                  style='width: 25%',\n",
              "              >\n",
              "                  67\n",
              "              </progress>\n",
              "\n",
              "    "
            ]
          },
          "metadata": {}
        },
        {
          "output_type": "stream",
          "name": "stdout",
          "text": [
            "\n",
            "*** Feature extraction finished ***\n",
            "*** Feature extraction started ***\n"
          ]
        },
        {
          "output_type": "stream",
          "name": "stderr",
          "text": [
            "<ipython-input-13-9dc92995cd83>:9: UserWarning: Using default sampling frequency set in configuration file.\n",
            "  f = tsfel.time_series_features_extractor(cfg, df)\n"
          ]
        },
        {
          "output_type": "display_data",
          "data": {
            "text/plain": [
              "<IPython.core.display.HTML object>"
            ],
            "text/html": [
              "\n",
              "              <p>\n",
              "                  Progress: 100% Complete\n",
              "              <p/>\n",
              "              <progress\n",
              "                  value='67'\n",
              "                  max='67',\n",
              "                  style='width: 25%',\n",
              "              >\n",
              "                  67\n",
              "              </progress>\n",
              "\n",
              "    "
            ]
          },
          "metadata": {}
        },
        {
          "output_type": "stream",
          "name": "stdout",
          "text": [
            "\n",
            "*** Feature extraction finished ***\n",
            "*** Feature extraction started ***\n"
          ]
        },
        {
          "output_type": "stream",
          "name": "stderr",
          "text": [
            "<ipython-input-13-9dc92995cd83>:9: UserWarning: Using default sampling frequency set in configuration file.\n",
            "  f = tsfel.time_series_features_extractor(cfg, df)\n"
          ]
        },
        {
          "output_type": "display_data",
          "data": {
            "text/plain": [
              "<IPython.core.display.HTML object>"
            ],
            "text/html": [
              "\n",
              "              <p>\n",
              "                  Progress: 100% Complete\n",
              "              <p/>\n",
              "              <progress\n",
              "                  value='67'\n",
              "                  max='67',\n",
              "                  style='width: 25%',\n",
              "              >\n",
              "                  67\n",
              "              </progress>\n",
              "\n",
              "    "
            ]
          },
          "metadata": {}
        },
        {
          "output_type": "stream",
          "name": "stdout",
          "text": [
            "\n",
            "*** Feature extraction finished ***\n",
            "*** Feature extraction started ***\n"
          ]
        },
        {
          "output_type": "stream",
          "name": "stderr",
          "text": [
            "<ipython-input-13-9dc92995cd83>:9: UserWarning: Using default sampling frequency set in configuration file.\n",
            "  f = tsfel.time_series_features_extractor(cfg, df)\n"
          ]
        },
        {
          "output_type": "display_data",
          "data": {
            "text/plain": [
              "<IPython.core.display.HTML object>"
            ],
            "text/html": [
              "\n",
              "              <p>\n",
              "                  Progress: 100% Complete\n",
              "              <p/>\n",
              "              <progress\n",
              "                  value='67'\n",
              "                  max='67',\n",
              "                  style='width: 25%',\n",
              "              >\n",
              "                  67\n",
              "              </progress>\n",
              "\n",
              "    "
            ]
          },
          "metadata": {}
        },
        {
          "output_type": "stream",
          "name": "stdout",
          "text": [
            "\n",
            "*** Feature extraction finished ***\n",
            "*** Feature extraction started ***\n"
          ]
        },
        {
          "output_type": "stream",
          "name": "stderr",
          "text": [
            "<ipython-input-13-9dc92995cd83>:9: UserWarning: Using default sampling frequency set in configuration file.\n",
            "  f = tsfel.time_series_features_extractor(cfg, df)\n"
          ]
        },
        {
          "output_type": "display_data",
          "data": {
            "text/plain": [
              "<IPython.core.display.HTML object>"
            ],
            "text/html": [
              "\n",
              "              <p>\n",
              "                  Progress: 100% Complete\n",
              "              <p/>\n",
              "              <progress\n",
              "                  value='67'\n",
              "                  max='67',\n",
              "                  style='width: 25%',\n",
              "              >\n",
              "                  67\n",
              "              </progress>\n",
              "\n",
              "    "
            ]
          },
          "metadata": {}
        },
        {
          "output_type": "stream",
          "name": "stdout",
          "text": [
            "\n",
            "*** Feature extraction finished ***\n",
            "*** Feature extraction started ***\n"
          ]
        },
        {
          "output_type": "stream",
          "name": "stderr",
          "text": [
            "<ipython-input-13-9dc92995cd83>:9: UserWarning: Using default sampling frequency set in configuration file.\n",
            "  f = tsfel.time_series_features_extractor(cfg, df)\n"
          ]
        },
        {
          "output_type": "display_data",
          "data": {
            "text/plain": [
              "<IPython.core.display.HTML object>"
            ],
            "text/html": [
              "\n",
              "              <p>\n",
              "                  Progress: 100% Complete\n",
              "              <p/>\n",
              "              <progress\n",
              "                  value='67'\n",
              "                  max='67',\n",
              "                  style='width: 25%',\n",
              "              >\n",
              "                  67\n",
              "              </progress>\n",
              "\n",
              "    "
            ]
          },
          "metadata": {}
        },
        {
          "output_type": "stream",
          "name": "stdout",
          "text": [
            "\n",
            "*** Feature extraction finished ***\n",
            "*** Feature extraction started ***\n"
          ]
        },
        {
          "output_type": "stream",
          "name": "stderr",
          "text": [
            "<ipython-input-13-9dc92995cd83>:9: UserWarning: Using default sampling frequency set in configuration file.\n",
            "  f = tsfel.time_series_features_extractor(cfg, df)\n"
          ]
        },
        {
          "output_type": "display_data",
          "data": {
            "text/plain": [
              "<IPython.core.display.HTML object>"
            ],
            "text/html": [
              "\n",
              "              <p>\n",
              "                  Progress: 100% Complete\n",
              "              <p/>\n",
              "              <progress\n",
              "                  value='67'\n",
              "                  max='67',\n",
              "                  style='width: 25%',\n",
              "              >\n",
              "                  67\n",
              "              </progress>\n",
              "\n",
              "    "
            ]
          },
          "metadata": {}
        },
        {
          "output_type": "stream",
          "name": "stdout",
          "text": [
            "\n",
            "*** Feature extraction finished ***\n",
            "*** Feature extraction started ***\n"
          ]
        },
        {
          "output_type": "stream",
          "name": "stderr",
          "text": [
            "<ipython-input-13-9dc92995cd83>:9: UserWarning: Using default sampling frequency set in configuration file.\n",
            "  f = tsfel.time_series_features_extractor(cfg, df)\n"
          ]
        },
        {
          "output_type": "display_data",
          "data": {
            "text/plain": [
              "<IPython.core.display.HTML object>"
            ],
            "text/html": [
              "\n",
              "              <p>\n",
              "                  Progress: 100% Complete\n",
              "              <p/>\n",
              "              <progress\n",
              "                  value='67'\n",
              "                  max='67',\n",
              "                  style='width: 25%',\n",
              "              >\n",
              "                  67\n",
              "              </progress>\n",
              "\n",
              "    "
            ]
          },
          "metadata": {}
        },
        {
          "output_type": "stream",
          "name": "stdout",
          "text": [
            "\n",
            "*** Feature extraction finished ***\n",
            "*** Feature extraction started ***\n"
          ]
        },
        {
          "output_type": "stream",
          "name": "stderr",
          "text": [
            "<ipython-input-13-9dc92995cd83>:9: UserWarning: Using default sampling frequency set in configuration file.\n",
            "  f = tsfel.time_series_features_extractor(cfg, df)\n"
          ]
        },
        {
          "output_type": "display_data",
          "data": {
            "text/plain": [
              "<IPython.core.display.HTML object>"
            ],
            "text/html": [
              "\n",
              "              <p>\n",
              "                  Progress: 100% Complete\n",
              "              <p/>\n",
              "              <progress\n",
              "                  value='67'\n",
              "                  max='67',\n",
              "                  style='width: 25%',\n",
              "              >\n",
              "                  67\n",
              "              </progress>\n",
              "\n",
              "    "
            ]
          },
          "metadata": {}
        },
        {
          "output_type": "stream",
          "name": "stdout",
          "text": [
            "\n",
            "*** Feature extraction finished ***\n",
            "*** Feature extraction started ***\n"
          ]
        },
        {
          "output_type": "stream",
          "name": "stderr",
          "text": [
            "<ipython-input-13-9dc92995cd83>:9: UserWarning: Using default sampling frequency set in configuration file.\n",
            "  f = tsfel.time_series_features_extractor(cfg, df)\n"
          ]
        },
        {
          "output_type": "display_data",
          "data": {
            "text/plain": [
              "<IPython.core.display.HTML object>"
            ],
            "text/html": [
              "\n",
              "              <p>\n",
              "                  Progress: 100% Complete\n",
              "              <p/>\n",
              "              <progress\n",
              "                  value='67'\n",
              "                  max='67',\n",
              "                  style='width: 25%',\n",
              "              >\n",
              "                  67\n",
              "              </progress>\n",
              "\n",
              "    "
            ]
          },
          "metadata": {}
        },
        {
          "output_type": "stream",
          "name": "stdout",
          "text": [
            "\n",
            "*** Feature extraction finished ***\n",
            "*** Feature extraction started ***\n"
          ]
        },
        {
          "output_type": "stream",
          "name": "stderr",
          "text": [
            "<ipython-input-13-9dc92995cd83>:9: UserWarning: Using default sampling frequency set in configuration file.\n",
            "  f = tsfel.time_series_features_extractor(cfg, df)\n"
          ]
        },
        {
          "output_type": "display_data",
          "data": {
            "text/plain": [
              "<IPython.core.display.HTML object>"
            ],
            "text/html": [
              "\n",
              "              <p>\n",
              "                  Progress: 100% Complete\n",
              "              <p/>\n",
              "              <progress\n",
              "                  value='67'\n",
              "                  max='67',\n",
              "                  style='width: 25%',\n",
              "              >\n",
              "                  67\n",
              "              </progress>\n",
              "\n",
              "    "
            ]
          },
          "metadata": {}
        },
        {
          "output_type": "stream",
          "name": "stdout",
          "text": [
            "\n",
            "*** Feature extraction finished ***\n",
            "*** Feature extraction started ***\n"
          ]
        },
        {
          "output_type": "stream",
          "name": "stderr",
          "text": [
            "<ipython-input-13-9dc92995cd83>:9: UserWarning: Using default sampling frequency set in configuration file.\n",
            "  f = tsfel.time_series_features_extractor(cfg, df)\n"
          ]
        },
        {
          "output_type": "display_data",
          "data": {
            "text/plain": [
              "<IPython.core.display.HTML object>"
            ],
            "text/html": [
              "\n",
              "              <p>\n",
              "                  Progress: 100% Complete\n",
              "              <p/>\n",
              "              <progress\n",
              "                  value='67'\n",
              "                  max='67',\n",
              "                  style='width: 25%',\n",
              "              >\n",
              "                  67\n",
              "              </progress>\n",
              "\n",
              "    "
            ]
          },
          "metadata": {}
        },
        {
          "output_type": "stream",
          "name": "stdout",
          "text": [
            "\n",
            "*** Feature extraction finished ***\n",
            "*** Feature extraction started ***\n"
          ]
        },
        {
          "output_type": "stream",
          "name": "stderr",
          "text": [
            "<ipython-input-13-9dc92995cd83>:9: UserWarning: Using default sampling frequency set in configuration file.\n",
            "  f = tsfel.time_series_features_extractor(cfg, df)\n"
          ]
        },
        {
          "output_type": "display_data",
          "data": {
            "text/plain": [
              "<IPython.core.display.HTML object>"
            ],
            "text/html": [
              "\n",
              "              <p>\n",
              "                  Progress: 100% Complete\n",
              "              <p/>\n",
              "              <progress\n",
              "                  value='67'\n",
              "                  max='67',\n",
              "                  style='width: 25%',\n",
              "              >\n",
              "                  67\n",
              "              </progress>\n",
              "\n",
              "    "
            ]
          },
          "metadata": {}
        },
        {
          "output_type": "stream",
          "name": "stdout",
          "text": [
            "\n",
            "*** Feature extraction finished ***\n",
            "*** Feature extraction started ***\n"
          ]
        },
        {
          "output_type": "stream",
          "name": "stderr",
          "text": [
            "<ipython-input-13-9dc92995cd83>:9: UserWarning: Using default sampling frequency set in configuration file.\n",
            "  f = tsfel.time_series_features_extractor(cfg, df)\n"
          ]
        },
        {
          "output_type": "display_data",
          "data": {
            "text/plain": [
              "<IPython.core.display.HTML object>"
            ],
            "text/html": [
              "\n",
              "              <p>\n",
              "                  Progress: 100% Complete\n",
              "              <p/>\n",
              "              <progress\n",
              "                  value='67'\n",
              "                  max='67',\n",
              "                  style='width: 25%',\n",
              "              >\n",
              "                  67\n",
              "              </progress>\n",
              "\n",
              "    "
            ]
          },
          "metadata": {}
        },
        {
          "output_type": "stream",
          "name": "stdout",
          "text": [
            "\n",
            "*** Feature extraction finished ***\n",
            "*** Feature extraction started ***\n"
          ]
        },
        {
          "output_type": "stream",
          "name": "stderr",
          "text": [
            "<ipython-input-13-9dc92995cd83>:9: UserWarning: Using default sampling frequency set in configuration file.\n",
            "  f = tsfel.time_series_features_extractor(cfg, df)\n"
          ]
        },
        {
          "output_type": "display_data",
          "data": {
            "text/plain": [
              "<IPython.core.display.HTML object>"
            ],
            "text/html": [
              "\n",
              "              <p>\n",
              "                  Progress: 100% Complete\n",
              "              <p/>\n",
              "              <progress\n",
              "                  value='67'\n",
              "                  max='67',\n",
              "                  style='width: 25%',\n",
              "              >\n",
              "                  67\n",
              "              </progress>\n",
              "\n",
              "    "
            ]
          },
          "metadata": {}
        },
        {
          "output_type": "stream",
          "name": "stdout",
          "text": [
            "\n",
            "*** Feature extraction finished ***\n",
            "*** Feature extraction started ***\n"
          ]
        },
        {
          "output_type": "stream",
          "name": "stderr",
          "text": [
            "<ipython-input-13-9dc92995cd83>:9: UserWarning: Using default sampling frequency set in configuration file.\n",
            "  f = tsfel.time_series_features_extractor(cfg, df)\n"
          ]
        },
        {
          "output_type": "display_data",
          "data": {
            "text/plain": [
              "<IPython.core.display.HTML object>"
            ],
            "text/html": [
              "\n",
              "              <p>\n",
              "                  Progress: 100% Complete\n",
              "              <p/>\n",
              "              <progress\n",
              "                  value='67'\n",
              "                  max='67',\n",
              "                  style='width: 25%',\n",
              "              >\n",
              "                  67\n",
              "              </progress>\n",
              "\n",
              "    "
            ]
          },
          "metadata": {}
        },
        {
          "output_type": "stream",
          "name": "stdout",
          "text": [
            "\n",
            "*** Feature extraction finished ***\n",
            "*** Feature extraction started ***\n"
          ]
        },
        {
          "output_type": "stream",
          "name": "stderr",
          "text": [
            "<ipython-input-13-9dc92995cd83>:9: UserWarning: Using default sampling frequency set in configuration file.\n",
            "  f = tsfel.time_series_features_extractor(cfg, df)\n"
          ]
        },
        {
          "output_type": "display_data",
          "data": {
            "text/plain": [
              "<IPython.core.display.HTML object>"
            ],
            "text/html": [
              "\n",
              "              <p>\n",
              "                  Progress: 100% Complete\n",
              "              <p/>\n",
              "              <progress\n",
              "                  value='67'\n",
              "                  max='67',\n",
              "                  style='width: 25%',\n",
              "              >\n",
              "                  67\n",
              "              </progress>\n",
              "\n",
              "    "
            ]
          },
          "metadata": {}
        },
        {
          "output_type": "stream",
          "name": "stdout",
          "text": [
            "\n",
            "*** Feature extraction finished ***\n",
            "*** Feature extraction started ***\n"
          ]
        },
        {
          "output_type": "stream",
          "name": "stderr",
          "text": [
            "<ipython-input-13-9dc92995cd83>:9: UserWarning: Using default sampling frequency set in configuration file.\n",
            "  f = tsfel.time_series_features_extractor(cfg, df)\n"
          ]
        },
        {
          "output_type": "display_data",
          "data": {
            "text/plain": [
              "<IPython.core.display.HTML object>"
            ],
            "text/html": [
              "\n",
              "              <p>\n",
              "                  Progress: 100% Complete\n",
              "              <p/>\n",
              "              <progress\n",
              "                  value='67'\n",
              "                  max='67',\n",
              "                  style='width: 25%',\n",
              "              >\n",
              "                  67\n",
              "              </progress>\n",
              "\n",
              "    "
            ]
          },
          "metadata": {}
        },
        {
          "output_type": "stream",
          "name": "stdout",
          "text": [
            "\n",
            "*** Feature extraction finished ***\n",
            "*** Feature extraction started ***\n"
          ]
        },
        {
          "output_type": "stream",
          "name": "stderr",
          "text": [
            "<ipython-input-13-9dc92995cd83>:9: UserWarning: Using default sampling frequency set in configuration file.\n",
            "  f = tsfel.time_series_features_extractor(cfg, df)\n"
          ]
        },
        {
          "output_type": "display_data",
          "data": {
            "text/plain": [
              "<IPython.core.display.HTML object>"
            ],
            "text/html": [
              "\n",
              "              <p>\n",
              "                  Progress: 100% Complete\n",
              "              <p/>\n",
              "              <progress\n",
              "                  value='67'\n",
              "                  max='67',\n",
              "                  style='width: 25%',\n",
              "              >\n",
              "                  67\n",
              "              </progress>\n",
              "\n",
              "    "
            ]
          },
          "metadata": {}
        },
        {
          "output_type": "stream",
          "name": "stdout",
          "text": [
            "\n",
            "*** Feature extraction finished ***\n",
            "*** Feature extraction started ***\n"
          ]
        },
        {
          "output_type": "stream",
          "name": "stderr",
          "text": [
            "<ipython-input-13-9dc92995cd83>:9: UserWarning: Using default sampling frequency set in configuration file.\n",
            "  f = tsfel.time_series_features_extractor(cfg, df)\n"
          ]
        },
        {
          "output_type": "display_data",
          "data": {
            "text/plain": [
              "<IPython.core.display.HTML object>"
            ],
            "text/html": [
              "\n",
              "              <p>\n",
              "                  Progress: 100% Complete\n",
              "              <p/>\n",
              "              <progress\n",
              "                  value='67'\n",
              "                  max='67',\n",
              "                  style='width: 25%',\n",
              "              >\n",
              "                  67\n",
              "              </progress>\n",
              "\n",
              "    "
            ]
          },
          "metadata": {}
        },
        {
          "output_type": "stream",
          "name": "stdout",
          "text": [
            "\n",
            "*** Feature extraction finished ***\n",
            "*** Feature extraction started ***\n"
          ]
        },
        {
          "output_type": "stream",
          "name": "stderr",
          "text": [
            "<ipython-input-13-9dc92995cd83>:9: UserWarning: Using default sampling frequency set in configuration file.\n",
            "  f = tsfel.time_series_features_extractor(cfg, df)\n"
          ]
        },
        {
          "output_type": "display_data",
          "data": {
            "text/plain": [
              "<IPython.core.display.HTML object>"
            ],
            "text/html": [
              "\n",
              "              <p>\n",
              "                  Progress: 100% Complete\n",
              "              <p/>\n",
              "              <progress\n",
              "                  value='67'\n",
              "                  max='67',\n",
              "                  style='width: 25%',\n",
              "              >\n",
              "                  67\n",
              "              </progress>\n",
              "\n",
              "    "
            ]
          },
          "metadata": {}
        },
        {
          "output_type": "stream",
          "name": "stdout",
          "text": [
            "\n",
            "*** Feature extraction finished ***\n",
            "*** Feature extraction started ***\n"
          ]
        },
        {
          "output_type": "stream",
          "name": "stderr",
          "text": [
            "<ipython-input-13-9dc92995cd83>:9: UserWarning: Using default sampling frequency set in configuration file.\n",
            "  f = tsfel.time_series_features_extractor(cfg, df)\n"
          ]
        },
        {
          "output_type": "display_data",
          "data": {
            "text/plain": [
              "<IPython.core.display.HTML object>"
            ],
            "text/html": [
              "\n",
              "              <p>\n",
              "                  Progress: 100% Complete\n",
              "              <p/>\n",
              "              <progress\n",
              "                  value='67'\n",
              "                  max='67',\n",
              "                  style='width: 25%',\n",
              "              >\n",
              "                  67\n",
              "              </progress>\n",
              "\n",
              "    "
            ]
          },
          "metadata": {}
        },
        {
          "output_type": "stream",
          "name": "stdout",
          "text": [
            "\n",
            "*** Feature extraction finished ***\n",
            "*** Feature extraction started ***\n"
          ]
        },
        {
          "output_type": "stream",
          "name": "stderr",
          "text": [
            "<ipython-input-13-9dc92995cd83>:9: UserWarning: Using default sampling frequency set in configuration file.\n",
            "  f = tsfel.time_series_features_extractor(cfg, df)\n"
          ]
        },
        {
          "output_type": "display_data",
          "data": {
            "text/plain": [
              "<IPython.core.display.HTML object>"
            ],
            "text/html": [
              "\n",
              "              <p>\n",
              "                  Progress: 100% Complete\n",
              "              <p/>\n",
              "              <progress\n",
              "                  value='67'\n",
              "                  max='67',\n",
              "                  style='width: 25%',\n",
              "              >\n",
              "                  67\n",
              "              </progress>\n",
              "\n",
              "    "
            ]
          },
          "metadata": {}
        },
        {
          "output_type": "stream",
          "name": "stdout",
          "text": [
            "\n",
            "*** Feature extraction finished ***\n",
            "*** Feature extraction started ***\n"
          ]
        },
        {
          "output_type": "stream",
          "name": "stderr",
          "text": [
            "<ipython-input-13-9dc92995cd83>:9: UserWarning: Using default sampling frequency set in configuration file.\n",
            "  f = tsfel.time_series_features_extractor(cfg, df)\n"
          ]
        },
        {
          "output_type": "display_data",
          "data": {
            "text/plain": [
              "<IPython.core.display.HTML object>"
            ],
            "text/html": [
              "\n",
              "              <p>\n",
              "                  Progress: 100% Complete\n",
              "              <p/>\n",
              "              <progress\n",
              "                  value='67'\n",
              "                  max='67',\n",
              "                  style='width: 25%',\n",
              "              >\n",
              "                  67\n",
              "              </progress>\n",
              "\n",
              "    "
            ]
          },
          "metadata": {}
        },
        {
          "output_type": "stream",
          "name": "stdout",
          "text": [
            "\n",
            "*** Feature extraction finished ***\n",
            "*** Feature extraction started ***\n"
          ]
        },
        {
          "output_type": "stream",
          "name": "stderr",
          "text": [
            "<ipython-input-13-9dc92995cd83>:9: UserWarning: Using default sampling frequency set in configuration file.\n",
            "  f = tsfel.time_series_features_extractor(cfg, df)\n"
          ]
        },
        {
          "output_type": "display_data",
          "data": {
            "text/plain": [
              "<IPython.core.display.HTML object>"
            ],
            "text/html": [
              "\n",
              "              <p>\n",
              "                  Progress: 100% Complete\n",
              "              <p/>\n",
              "              <progress\n",
              "                  value='67'\n",
              "                  max='67',\n",
              "                  style='width: 25%',\n",
              "              >\n",
              "                  67\n",
              "              </progress>\n",
              "\n",
              "    "
            ]
          },
          "metadata": {}
        },
        {
          "output_type": "stream",
          "name": "stdout",
          "text": [
            "\n",
            "*** Feature extraction finished ***\n",
            "*** Feature extraction started ***\n"
          ]
        },
        {
          "output_type": "stream",
          "name": "stderr",
          "text": [
            "<ipython-input-13-9dc92995cd83>:9: UserWarning: Using default sampling frequency set in configuration file.\n",
            "  f = tsfel.time_series_features_extractor(cfg, df)\n"
          ]
        },
        {
          "output_type": "display_data",
          "data": {
            "text/plain": [
              "<IPython.core.display.HTML object>"
            ],
            "text/html": [
              "\n",
              "              <p>\n",
              "                  Progress: 100% Complete\n",
              "              <p/>\n",
              "              <progress\n",
              "                  value='67'\n",
              "                  max='67',\n",
              "                  style='width: 25%',\n",
              "              >\n",
              "                  67\n",
              "              </progress>\n",
              "\n",
              "    "
            ]
          },
          "metadata": {}
        },
        {
          "output_type": "stream",
          "name": "stdout",
          "text": [
            "\n",
            "*** Feature extraction finished ***\n",
            "*** Feature extraction started ***\n"
          ]
        },
        {
          "output_type": "stream",
          "name": "stderr",
          "text": [
            "<ipython-input-13-9dc92995cd83>:9: UserWarning: Using default sampling frequency set in configuration file.\n",
            "  f = tsfel.time_series_features_extractor(cfg, df)\n"
          ]
        },
        {
          "output_type": "display_data",
          "data": {
            "text/plain": [
              "<IPython.core.display.HTML object>"
            ],
            "text/html": [
              "\n",
              "              <p>\n",
              "                  Progress: 100% Complete\n",
              "              <p/>\n",
              "              <progress\n",
              "                  value='67'\n",
              "                  max='67',\n",
              "                  style='width: 25%',\n",
              "              >\n",
              "                  67\n",
              "              </progress>\n",
              "\n",
              "    "
            ]
          },
          "metadata": {}
        },
        {
          "output_type": "stream",
          "name": "stdout",
          "text": [
            "\n",
            "*** Feature extraction finished ***\n",
            "*** Feature extraction started ***\n"
          ]
        },
        {
          "output_type": "stream",
          "name": "stderr",
          "text": [
            "<ipython-input-13-9dc92995cd83>:9: UserWarning: Using default sampling frequency set in configuration file.\n",
            "  f = tsfel.time_series_features_extractor(cfg, df)\n"
          ]
        },
        {
          "output_type": "display_data",
          "data": {
            "text/plain": [
              "<IPython.core.display.HTML object>"
            ],
            "text/html": [
              "\n",
              "              <p>\n",
              "                  Progress: 100% Complete\n",
              "              <p/>\n",
              "              <progress\n",
              "                  value='67'\n",
              "                  max='67',\n",
              "                  style='width: 25%',\n",
              "              >\n",
              "                  67\n",
              "              </progress>\n",
              "\n",
              "    "
            ]
          },
          "metadata": {}
        },
        {
          "output_type": "stream",
          "name": "stdout",
          "text": [
            "\n",
            "*** Feature extraction finished ***\n",
            "*** Feature extraction started ***\n"
          ]
        },
        {
          "output_type": "stream",
          "name": "stderr",
          "text": [
            "<ipython-input-13-9dc92995cd83>:9: UserWarning: Using default sampling frequency set in configuration file.\n",
            "  f = tsfel.time_series_features_extractor(cfg, df)\n"
          ]
        },
        {
          "output_type": "display_data",
          "data": {
            "text/plain": [
              "<IPython.core.display.HTML object>"
            ],
            "text/html": [
              "\n",
              "              <p>\n",
              "                  Progress: 100% Complete\n",
              "              <p/>\n",
              "              <progress\n",
              "                  value='67'\n",
              "                  max='67',\n",
              "                  style='width: 25%',\n",
              "              >\n",
              "                  67\n",
              "              </progress>\n",
              "\n",
              "    "
            ]
          },
          "metadata": {}
        },
        {
          "output_type": "stream",
          "name": "stdout",
          "text": [
            "\n",
            "*** Feature extraction finished ***\n",
            "*** Feature extraction started ***\n"
          ]
        },
        {
          "output_type": "stream",
          "name": "stderr",
          "text": [
            "<ipython-input-13-9dc92995cd83>:9: UserWarning: Using default sampling frequency set in configuration file.\n",
            "  f = tsfel.time_series_features_extractor(cfg, df)\n"
          ]
        },
        {
          "output_type": "display_data",
          "data": {
            "text/plain": [
              "<IPython.core.display.HTML object>"
            ],
            "text/html": [
              "\n",
              "              <p>\n",
              "                  Progress: 100% Complete\n",
              "              <p/>\n",
              "              <progress\n",
              "                  value='67'\n",
              "                  max='67',\n",
              "                  style='width: 25%',\n",
              "              >\n",
              "                  67\n",
              "              </progress>\n",
              "\n",
              "    "
            ]
          },
          "metadata": {}
        },
        {
          "output_type": "stream",
          "name": "stdout",
          "text": [
            "\n",
            "*** Feature extraction finished ***\n",
            "*** Feature extraction started ***\n"
          ]
        },
        {
          "output_type": "stream",
          "name": "stderr",
          "text": [
            "<ipython-input-13-9dc92995cd83>:9: UserWarning: Using default sampling frequency set in configuration file.\n",
            "  f = tsfel.time_series_features_extractor(cfg, df)\n"
          ]
        },
        {
          "output_type": "display_data",
          "data": {
            "text/plain": [
              "<IPython.core.display.HTML object>"
            ],
            "text/html": [
              "\n",
              "              <p>\n",
              "                  Progress: 100% Complete\n",
              "              <p/>\n",
              "              <progress\n",
              "                  value='67'\n",
              "                  max='67',\n",
              "                  style='width: 25%',\n",
              "              >\n",
              "                  67\n",
              "              </progress>\n",
              "\n",
              "    "
            ]
          },
          "metadata": {}
        },
        {
          "output_type": "stream",
          "name": "stdout",
          "text": [
            "\n",
            "*** Feature extraction finished ***\n",
            "*** Feature extraction started ***\n"
          ]
        },
        {
          "output_type": "stream",
          "name": "stderr",
          "text": [
            "<ipython-input-13-9dc92995cd83>:9: UserWarning: Using default sampling frequency set in configuration file.\n",
            "  f = tsfel.time_series_features_extractor(cfg, df)\n"
          ]
        },
        {
          "output_type": "display_data",
          "data": {
            "text/plain": [
              "<IPython.core.display.HTML object>"
            ],
            "text/html": [
              "\n",
              "              <p>\n",
              "                  Progress: 100% Complete\n",
              "              <p/>\n",
              "              <progress\n",
              "                  value='67'\n",
              "                  max='67',\n",
              "                  style='width: 25%',\n",
              "              >\n",
              "                  67\n",
              "              </progress>\n",
              "\n",
              "    "
            ]
          },
          "metadata": {}
        },
        {
          "output_type": "stream",
          "name": "stdout",
          "text": [
            "\n",
            "*** Feature extraction finished ***\n",
            "*** Feature extraction started ***\n"
          ]
        },
        {
          "output_type": "stream",
          "name": "stderr",
          "text": [
            "<ipython-input-13-9dc92995cd83>:9: UserWarning: Using default sampling frequency set in configuration file.\n",
            "  f = tsfel.time_series_features_extractor(cfg, df)\n"
          ]
        },
        {
          "output_type": "display_data",
          "data": {
            "text/plain": [
              "<IPython.core.display.HTML object>"
            ],
            "text/html": [
              "\n",
              "              <p>\n",
              "                  Progress: 100% Complete\n",
              "              <p/>\n",
              "              <progress\n",
              "                  value='67'\n",
              "                  max='67',\n",
              "                  style='width: 25%',\n",
              "              >\n",
              "                  67\n",
              "              </progress>\n",
              "\n",
              "    "
            ]
          },
          "metadata": {}
        },
        {
          "output_type": "stream",
          "name": "stdout",
          "text": [
            "\n",
            "*** Feature extraction finished ***\n",
            "*** Feature extraction started ***\n"
          ]
        },
        {
          "output_type": "stream",
          "name": "stderr",
          "text": [
            "<ipython-input-13-9dc92995cd83>:9: UserWarning: Using default sampling frequency set in configuration file.\n",
            "  f = tsfel.time_series_features_extractor(cfg, df)\n"
          ]
        },
        {
          "output_type": "display_data",
          "data": {
            "text/plain": [
              "<IPython.core.display.HTML object>"
            ],
            "text/html": [
              "\n",
              "              <p>\n",
              "                  Progress: 100% Complete\n",
              "              <p/>\n",
              "              <progress\n",
              "                  value='67'\n",
              "                  max='67',\n",
              "                  style='width: 25%',\n",
              "              >\n",
              "                  67\n",
              "              </progress>\n",
              "\n",
              "    "
            ]
          },
          "metadata": {}
        },
        {
          "output_type": "stream",
          "name": "stdout",
          "text": [
            "\n",
            "*** Feature extraction finished ***\n",
            "*** Feature extraction started ***\n"
          ]
        },
        {
          "output_type": "stream",
          "name": "stderr",
          "text": [
            "<ipython-input-13-9dc92995cd83>:9: UserWarning: Using default sampling frequency set in configuration file.\n",
            "  f = tsfel.time_series_features_extractor(cfg, df)\n"
          ]
        },
        {
          "output_type": "display_data",
          "data": {
            "text/plain": [
              "<IPython.core.display.HTML object>"
            ],
            "text/html": [
              "\n",
              "              <p>\n",
              "                  Progress: 100% Complete\n",
              "              <p/>\n",
              "              <progress\n",
              "                  value='67'\n",
              "                  max='67',\n",
              "                  style='width: 25%',\n",
              "              >\n",
              "                  67\n",
              "              </progress>\n",
              "\n",
              "    "
            ]
          },
          "metadata": {}
        },
        {
          "output_type": "stream",
          "name": "stdout",
          "text": [
            "\n",
            "*** Feature extraction finished ***\n",
            "*** Feature extraction started ***\n"
          ]
        },
        {
          "output_type": "stream",
          "name": "stderr",
          "text": [
            "<ipython-input-13-9dc92995cd83>:9: UserWarning: Using default sampling frequency set in configuration file.\n",
            "  f = tsfel.time_series_features_extractor(cfg, df)\n"
          ]
        },
        {
          "output_type": "display_data",
          "data": {
            "text/plain": [
              "<IPython.core.display.HTML object>"
            ],
            "text/html": [
              "\n",
              "              <p>\n",
              "                  Progress: 100% Complete\n",
              "              <p/>\n",
              "              <progress\n",
              "                  value='67'\n",
              "                  max='67',\n",
              "                  style='width: 25%',\n",
              "              >\n",
              "                  67\n",
              "              </progress>\n",
              "\n",
              "    "
            ]
          },
          "metadata": {}
        },
        {
          "output_type": "stream",
          "name": "stdout",
          "text": [
            "\n",
            "*** Feature extraction finished ***\n",
            "*** Feature extraction started ***\n"
          ]
        },
        {
          "output_type": "stream",
          "name": "stderr",
          "text": [
            "<ipython-input-13-9dc92995cd83>:9: UserWarning: Using default sampling frequency set in configuration file.\n",
            "  f = tsfel.time_series_features_extractor(cfg, df)\n"
          ]
        },
        {
          "output_type": "display_data",
          "data": {
            "text/plain": [
              "<IPython.core.display.HTML object>"
            ],
            "text/html": [
              "\n",
              "              <p>\n",
              "                  Progress: 100% Complete\n",
              "              <p/>\n",
              "              <progress\n",
              "                  value='67'\n",
              "                  max='67',\n",
              "                  style='width: 25%',\n",
              "              >\n",
              "                  67\n",
              "              </progress>\n",
              "\n",
              "    "
            ]
          },
          "metadata": {}
        },
        {
          "output_type": "stream",
          "name": "stdout",
          "text": [
            "\n",
            "*** Feature extraction finished ***\n",
            "*** Feature extraction started ***\n"
          ]
        },
        {
          "output_type": "stream",
          "name": "stderr",
          "text": [
            "<ipython-input-13-9dc92995cd83>:9: UserWarning: Using default sampling frequency set in configuration file.\n",
            "  f = tsfel.time_series_features_extractor(cfg, df)\n"
          ]
        },
        {
          "output_type": "display_data",
          "data": {
            "text/plain": [
              "<IPython.core.display.HTML object>"
            ],
            "text/html": [
              "\n",
              "              <p>\n",
              "                  Progress: 100% Complete\n",
              "              <p/>\n",
              "              <progress\n",
              "                  value='67'\n",
              "                  max='67',\n",
              "                  style='width: 25%',\n",
              "              >\n",
              "                  67\n",
              "              </progress>\n",
              "\n",
              "    "
            ]
          },
          "metadata": {}
        },
        {
          "output_type": "stream",
          "name": "stdout",
          "text": [
            "\n",
            "*** Feature extraction finished ***\n",
            "*** Feature extraction started ***\n"
          ]
        },
        {
          "output_type": "stream",
          "name": "stderr",
          "text": [
            "<ipython-input-13-9dc92995cd83>:9: UserWarning: Using default sampling frequency set in configuration file.\n",
            "  f = tsfel.time_series_features_extractor(cfg, df)\n"
          ]
        },
        {
          "output_type": "display_data",
          "data": {
            "text/plain": [
              "<IPython.core.display.HTML object>"
            ],
            "text/html": [
              "\n",
              "              <p>\n",
              "                  Progress: 100% Complete\n",
              "              <p/>\n",
              "              <progress\n",
              "                  value='67'\n",
              "                  max='67',\n",
              "                  style='width: 25%',\n",
              "              >\n",
              "                  67\n",
              "              </progress>\n",
              "\n",
              "    "
            ]
          },
          "metadata": {}
        },
        {
          "output_type": "stream",
          "name": "stdout",
          "text": [
            "\n",
            "*** Feature extraction finished ***\n",
            "*** Feature extraction started ***\n"
          ]
        },
        {
          "output_type": "stream",
          "name": "stderr",
          "text": [
            "<ipython-input-13-9dc92995cd83>:9: UserWarning: Using default sampling frequency set in configuration file.\n",
            "  f = tsfel.time_series_features_extractor(cfg, df)\n"
          ]
        },
        {
          "output_type": "display_data",
          "data": {
            "text/plain": [
              "<IPython.core.display.HTML object>"
            ],
            "text/html": [
              "\n",
              "              <p>\n",
              "                  Progress: 100% Complete\n",
              "              <p/>\n",
              "              <progress\n",
              "                  value='67'\n",
              "                  max='67',\n",
              "                  style='width: 25%',\n",
              "              >\n",
              "                  67\n",
              "              </progress>\n",
              "\n",
              "    "
            ]
          },
          "metadata": {}
        },
        {
          "output_type": "stream",
          "name": "stdout",
          "text": [
            "\n",
            "*** Feature extraction finished ***\n",
            "*** Feature extraction started ***\n"
          ]
        },
        {
          "output_type": "stream",
          "name": "stderr",
          "text": [
            "<ipython-input-13-9dc92995cd83>:9: UserWarning: Using default sampling frequency set in configuration file.\n",
            "  f = tsfel.time_series_features_extractor(cfg, df)\n"
          ]
        },
        {
          "output_type": "display_data",
          "data": {
            "text/plain": [
              "<IPython.core.display.HTML object>"
            ],
            "text/html": [
              "\n",
              "              <p>\n",
              "                  Progress: 100% Complete\n",
              "              <p/>\n",
              "              <progress\n",
              "                  value='67'\n",
              "                  max='67',\n",
              "                  style='width: 25%',\n",
              "              >\n",
              "                  67\n",
              "              </progress>\n",
              "\n",
              "    "
            ]
          },
          "metadata": {}
        },
        {
          "output_type": "stream",
          "name": "stdout",
          "text": [
            "\n",
            "*** Feature extraction finished ***\n",
            "*** Feature extraction started ***\n"
          ]
        },
        {
          "output_type": "stream",
          "name": "stderr",
          "text": [
            "<ipython-input-13-9dc92995cd83>:9: UserWarning: Using default sampling frequency set in configuration file.\n",
            "  f = tsfel.time_series_features_extractor(cfg, df)\n"
          ]
        },
        {
          "output_type": "display_data",
          "data": {
            "text/plain": [
              "<IPython.core.display.HTML object>"
            ],
            "text/html": [
              "\n",
              "              <p>\n",
              "                  Progress: 100% Complete\n",
              "              <p/>\n",
              "              <progress\n",
              "                  value='67'\n",
              "                  max='67',\n",
              "                  style='width: 25%',\n",
              "              >\n",
              "                  67\n",
              "              </progress>\n",
              "\n",
              "    "
            ]
          },
          "metadata": {}
        },
        {
          "output_type": "stream",
          "name": "stdout",
          "text": [
            "\n",
            "*** Feature extraction finished ***\n",
            "*** Feature extraction started ***\n"
          ]
        },
        {
          "output_type": "stream",
          "name": "stderr",
          "text": [
            "<ipython-input-13-9dc92995cd83>:9: UserWarning: Using default sampling frequency set in configuration file.\n",
            "  f = tsfel.time_series_features_extractor(cfg, df)\n"
          ]
        },
        {
          "output_type": "display_data",
          "data": {
            "text/plain": [
              "<IPython.core.display.HTML object>"
            ],
            "text/html": [
              "\n",
              "              <p>\n",
              "                  Progress: 100% Complete\n",
              "              <p/>\n",
              "              <progress\n",
              "                  value='67'\n",
              "                  max='67',\n",
              "                  style='width: 25%',\n",
              "              >\n",
              "                  67\n",
              "              </progress>\n",
              "\n",
              "    "
            ]
          },
          "metadata": {}
        },
        {
          "output_type": "stream",
          "name": "stdout",
          "text": [
            "\n",
            "*** Feature extraction finished ***\n",
            "*** Feature extraction started ***\n"
          ]
        },
        {
          "output_type": "stream",
          "name": "stderr",
          "text": [
            "<ipython-input-13-9dc92995cd83>:9: UserWarning: Using default sampling frequency set in configuration file.\n",
            "  f = tsfel.time_series_features_extractor(cfg, df)\n"
          ]
        },
        {
          "output_type": "display_data",
          "data": {
            "text/plain": [
              "<IPython.core.display.HTML object>"
            ],
            "text/html": [
              "\n",
              "              <p>\n",
              "                  Progress: 100% Complete\n",
              "              <p/>\n",
              "              <progress\n",
              "                  value='67'\n",
              "                  max='67',\n",
              "                  style='width: 25%',\n",
              "              >\n",
              "                  67\n",
              "              </progress>\n",
              "\n",
              "    "
            ]
          },
          "metadata": {}
        },
        {
          "output_type": "stream",
          "name": "stdout",
          "text": [
            "\n",
            "*** Feature extraction finished ***\n",
            "*** Feature extraction started ***\n"
          ]
        },
        {
          "output_type": "stream",
          "name": "stderr",
          "text": [
            "<ipython-input-13-9dc92995cd83>:9: UserWarning: Using default sampling frequency set in configuration file.\n",
            "  f = tsfel.time_series_features_extractor(cfg, df)\n"
          ]
        },
        {
          "output_type": "display_data",
          "data": {
            "text/plain": [
              "<IPython.core.display.HTML object>"
            ],
            "text/html": [
              "\n",
              "              <p>\n",
              "                  Progress: 100% Complete\n",
              "              <p/>\n",
              "              <progress\n",
              "                  value='67'\n",
              "                  max='67',\n",
              "                  style='width: 25%',\n",
              "              >\n",
              "                  67\n",
              "              </progress>\n",
              "\n",
              "    "
            ]
          },
          "metadata": {}
        },
        {
          "output_type": "stream",
          "name": "stdout",
          "text": [
            "\n",
            "*** Feature extraction finished ***\n",
            "*** Feature extraction started ***\n"
          ]
        },
        {
          "output_type": "stream",
          "name": "stderr",
          "text": [
            "<ipython-input-13-9dc92995cd83>:9: UserWarning: Using default sampling frequency set in configuration file.\n",
            "  f = tsfel.time_series_features_extractor(cfg, df)\n"
          ]
        },
        {
          "output_type": "display_data",
          "data": {
            "text/plain": [
              "<IPython.core.display.HTML object>"
            ],
            "text/html": [
              "\n",
              "              <p>\n",
              "                  Progress: 100% Complete\n",
              "              <p/>\n",
              "              <progress\n",
              "                  value='67'\n",
              "                  max='67',\n",
              "                  style='width: 25%',\n",
              "              >\n",
              "                  67\n",
              "              </progress>\n",
              "\n",
              "    "
            ]
          },
          "metadata": {}
        },
        {
          "output_type": "stream",
          "name": "stdout",
          "text": [
            "\n",
            "*** Feature extraction finished ***\n",
            "*** Feature extraction started ***\n"
          ]
        },
        {
          "output_type": "stream",
          "name": "stderr",
          "text": [
            "<ipython-input-13-9dc92995cd83>:9: UserWarning: Using default sampling frequency set in configuration file.\n",
            "  f = tsfel.time_series_features_extractor(cfg, df)\n"
          ]
        },
        {
          "output_type": "display_data",
          "data": {
            "text/plain": [
              "<IPython.core.display.HTML object>"
            ],
            "text/html": [
              "\n",
              "              <p>\n",
              "                  Progress: 100% Complete\n",
              "              <p/>\n",
              "              <progress\n",
              "                  value='67'\n",
              "                  max='67',\n",
              "                  style='width: 25%',\n",
              "              >\n",
              "                  67\n",
              "              </progress>\n",
              "\n",
              "    "
            ]
          },
          "metadata": {}
        },
        {
          "output_type": "stream",
          "name": "stdout",
          "text": [
            "\n",
            "*** Feature extraction finished ***\n",
            "*** Feature extraction started ***\n"
          ]
        },
        {
          "output_type": "stream",
          "name": "stderr",
          "text": [
            "<ipython-input-13-9dc92995cd83>:9: UserWarning: Using default sampling frequency set in configuration file.\n",
            "  f = tsfel.time_series_features_extractor(cfg, df)\n"
          ]
        },
        {
          "output_type": "display_data",
          "data": {
            "text/plain": [
              "<IPython.core.display.HTML object>"
            ],
            "text/html": [
              "\n",
              "              <p>\n",
              "                  Progress: 100% Complete\n",
              "              <p/>\n",
              "              <progress\n",
              "                  value='67'\n",
              "                  max='67',\n",
              "                  style='width: 25%',\n",
              "              >\n",
              "                  67\n",
              "              </progress>\n",
              "\n",
              "    "
            ]
          },
          "metadata": {}
        },
        {
          "output_type": "stream",
          "name": "stdout",
          "text": [
            "\n",
            "*** Feature extraction finished ***\n",
            "*** Feature extraction started ***\n"
          ]
        },
        {
          "output_type": "stream",
          "name": "stderr",
          "text": [
            "<ipython-input-13-9dc92995cd83>:9: UserWarning: Using default sampling frequency set in configuration file.\n",
            "  f = tsfel.time_series_features_extractor(cfg, df)\n"
          ]
        },
        {
          "output_type": "display_data",
          "data": {
            "text/plain": [
              "<IPython.core.display.HTML object>"
            ],
            "text/html": [
              "\n",
              "              <p>\n",
              "                  Progress: 100% Complete\n",
              "              <p/>\n",
              "              <progress\n",
              "                  value='67'\n",
              "                  max='67',\n",
              "                  style='width: 25%',\n",
              "              >\n",
              "                  67\n",
              "              </progress>\n",
              "\n",
              "    "
            ]
          },
          "metadata": {}
        },
        {
          "output_type": "stream",
          "name": "stdout",
          "text": [
            "\n",
            "*** Feature extraction finished ***\n",
            "*** Feature extraction started ***\n"
          ]
        },
        {
          "output_type": "stream",
          "name": "stderr",
          "text": [
            "<ipython-input-13-9dc92995cd83>:9: UserWarning: Using default sampling frequency set in configuration file.\n",
            "  f = tsfel.time_series_features_extractor(cfg, df)\n"
          ]
        },
        {
          "output_type": "display_data",
          "data": {
            "text/plain": [
              "<IPython.core.display.HTML object>"
            ],
            "text/html": [
              "\n",
              "              <p>\n",
              "                  Progress: 100% Complete\n",
              "              <p/>\n",
              "              <progress\n",
              "                  value='67'\n",
              "                  max='67',\n",
              "                  style='width: 25%',\n",
              "              >\n",
              "                  67\n",
              "              </progress>\n",
              "\n",
              "    "
            ]
          },
          "metadata": {}
        },
        {
          "output_type": "stream",
          "name": "stdout",
          "text": [
            "\n",
            "*** Feature extraction finished ***\n",
            "*** Feature extraction started ***\n"
          ]
        },
        {
          "output_type": "stream",
          "name": "stderr",
          "text": [
            "<ipython-input-13-9dc92995cd83>:9: UserWarning: Using default sampling frequency set in configuration file.\n",
            "  f = tsfel.time_series_features_extractor(cfg, df)\n"
          ]
        },
        {
          "output_type": "display_data",
          "data": {
            "text/plain": [
              "<IPython.core.display.HTML object>"
            ],
            "text/html": [
              "\n",
              "              <p>\n",
              "                  Progress: 100% Complete\n",
              "              <p/>\n",
              "              <progress\n",
              "                  value='67'\n",
              "                  max='67',\n",
              "                  style='width: 25%',\n",
              "              >\n",
              "                  67\n",
              "              </progress>\n",
              "\n",
              "    "
            ]
          },
          "metadata": {}
        },
        {
          "output_type": "stream",
          "name": "stdout",
          "text": [
            "\n",
            "*** Feature extraction finished ***\n",
            "*** Feature extraction started ***\n"
          ]
        },
        {
          "output_type": "stream",
          "name": "stderr",
          "text": [
            "<ipython-input-13-9dc92995cd83>:9: UserWarning: Using default sampling frequency set in configuration file.\n",
            "  f = tsfel.time_series_features_extractor(cfg, df)\n"
          ]
        },
        {
          "output_type": "display_data",
          "data": {
            "text/plain": [
              "<IPython.core.display.HTML object>"
            ],
            "text/html": [
              "\n",
              "              <p>\n",
              "                  Progress: 100% Complete\n",
              "              <p/>\n",
              "              <progress\n",
              "                  value='67'\n",
              "                  max='67',\n",
              "                  style='width: 25%',\n",
              "              >\n",
              "                  67\n",
              "              </progress>\n",
              "\n",
              "    "
            ]
          },
          "metadata": {}
        },
        {
          "output_type": "stream",
          "name": "stdout",
          "text": [
            "\n",
            "*** Feature extraction finished ***\n",
            "*** Feature extraction started ***\n"
          ]
        },
        {
          "output_type": "stream",
          "name": "stderr",
          "text": [
            "<ipython-input-13-9dc92995cd83>:9: UserWarning: Using default sampling frequency set in configuration file.\n",
            "  f = tsfel.time_series_features_extractor(cfg, df)\n"
          ]
        },
        {
          "output_type": "display_data",
          "data": {
            "text/plain": [
              "<IPython.core.display.HTML object>"
            ],
            "text/html": [
              "\n",
              "              <p>\n",
              "                  Progress: 100% Complete\n",
              "              <p/>\n",
              "              <progress\n",
              "                  value='67'\n",
              "                  max='67',\n",
              "                  style='width: 25%',\n",
              "              >\n",
              "                  67\n",
              "              </progress>\n",
              "\n",
              "    "
            ]
          },
          "metadata": {}
        },
        {
          "output_type": "stream",
          "name": "stdout",
          "text": [
            "\n",
            "*** Feature extraction finished ***\n",
            "*** Feature extraction started ***\n"
          ]
        },
        {
          "output_type": "stream",
          "name": "stderr",
          "text": [
            "<ipython-input-13-9dc92995cd83>:9: UserWarning: Using default sampling frequency set in configuration file.\n",
            "  f = tsfel.time_series_features_extractor(cfg, df)\n"
          ]
        },
        {
          "output_type": "display_data",
          "data": {
            "text/plain": [
              "<IPython.core.display.HTML object>"
            ],
            "text/html": [
              "\n",
              "              <p>\n",
              "                  Progress: 100% Complete\n",
              "              <p/>\n",
              "              <progress\n",
              "                  value='67'\n",
              "                  max='67',\n",
              "                  style='width: 25%',\n",
              "              >\n",
              "                  67\n",
              "              </progress>\n",
              "\n",
              "    "
            ]
          },
          "metadata": {}
        },
        {
          "output_type": "stream",
          "name": "stdout",
          "text": [
            "\n",
            "*** Feature extraction finished ***\n",
            "*** Feature extraction started ***\n"
          ]
        },
        {
          "output_type": "stream",
          "name": "stderr",
          "text": [
            "<ipython-input-13-9dc92995cd83>:9: UserWarning: Using default sampling frequency set in configuration file.\n",
            "  f = tsfel.time_series_features_extractor(cfg, df)\n"
          ]
        },
        {
          "output_type": "display_data",
          "data": {
            "text/plain": [
              "<IPython.core.display.HTML object>"
            ],
            "text/html": [
              "\n",
              "              <p>\n",
              "                  Progress: 100% Complete\n",
              "              <p/>\n",
              "              <progress\n",
              "                  value='67'\n",
              "                  max='67',\n",
              "                  style='width: 25%',\n",
              "              >\n",
              "                  67\n",
              "              </progress>\n",
              "\n",
              "    "
            ]
          },
          "metadata": {}
        },
        {
          "output_type": "stream",
          "name": "stdout",
          "text": [
            "\n",
            "*** Feature extraction finished ***\n",
            "*** Feature extraction started ***\n"
          ]
        },
        {
          "output_type": "stream",
          "name": "stderr",
          "text": [
            "<ipython-input-13-9dc92995cd83>:9: UserWarning: Using default sampling frequency set in configuration file.\n",
            "  f = tsfel.time_series_features_extractor(cfg, df)\n"
          ]
        },
        {
          "output_type": "display_data",
          "data": {
            "text/plain": [
              "<IPython.core.display.HTML object>"
            ],
            "text/html": [
              "\n",
              "              <p>\n",
              "                  Progress: 100% Complete\n",
              "              <p/>\n",
              "              <progress\n",
              "                  value='67'\n",
              "                  max='67',\n",
              "                  style='width: 25%',\n",
              "              >\n",
              "                  67\n",
              "              </progress>\n",
              "\n",
              "    "
            ]
          },
          "metadata": {}
        },
        {
          "output_type": "stream",
          "name": "stdout",
          "text": [
            "\n",
            "*** Feature extraction finished ***\n",
            "*** Feature extraction started ***\n"
          ]
        },
        {
          "output_type": "stream",
          "name": "stderr",
          "text": [
            "<ipython-input-13-9dc92995cd83>:9: UserWarning: Using default sampling frequency set in configuration file.\n",
            "  f = tsfel.time_series_features_extractor(cfg, df)\n"
          ]
        },
        {
          "output_type": "display_data",
          "data": {
            "text/plain": [
              "<IPython.core.display.HTML object>"
            ],
            "text/html": [
              "\n",
              "              <p>\n",
              "                  Progress: 100% Complete\n",
              "              <p/>\n",
              "              <progress\n",
              "                  value='67'\n",
              "                  max='67',\n",
              "                  style='width: 25%',\n",
              "              >\n",
              "                  67\n",
              "              </progress>\n",
              "\n",
              "    "
            ]
          },
          "metadata": {}
        },
        {
          "output_type": "stream",
          "name": "stdout",
          "text": [
            "\n",
            "*** Feature extraction finished ***\n",
            "*** Feature extraction started ***\n"
          ]
        },
        {
          "output_type": "stream",
          "name": "stderr",
          "text": [
            "<ipython-input-13-9dc92995cd83>:9: UserWarning: Using default sampling frequency set in configuration file.\n",
            "  f = tsfel.time_series_features_extractor(cfg, df)\n"
          ]
        },
        {
          "output_type": "display_data",
          "data": {
            "text/plain": [
              "<IPython.core.display.HTML object>"
            ],
            "text/html": [
              "\n",
              "              <p>\n",
              "                  Progress: 100% Complete\n",
              "              <p/>\n",
              "              <progress\n",
              "                  value='67'\n",
              "                  max='67',\n",
              "                  style='width: 25%',\n",
              "              >\n",
              "                  67\n",
              "              </progress>\n",
              "\n",
              "    "
            ]
          },
          "metadata": {}
        },
        {
          "output_type": "stream",
          "name": "stdout",
          "text": [
            "\n",
            "*** Feature extraction finished ***\n",
            "*** Feature extraction started ***\n"
          ]
        },
        {
          "output_type": "stream",
          "name": "stderr",
          "text": [
            "<ipython-input-13-9dc92995cd83>:9: UserWarning: Using default sampling frequency set in configuration file.\n",
            "  f = tsfel.time_series_features_extractor(cfg, df)\n"
          ]
        },
        {
          "output_type": "display_data",
          "data": {
            "text/plain": [
              "<IPython.core.display.HTML object>"
            ],
            "text/html": [
              "\n",
              "              <p>\n",
              "                  Progress: 100% Complete\n",
              "              <p/>\n",
              "              <progress\n",
              "                  value='67'\n",
              "                  max='67',\n",
              "                  style='width: 25%',\n",
              "              >\n",
              "                  67\n",
              "              </progress>\n",
              "\n",
              "    "
            ]
          },
          "metadata": {}
        },
        {
          "output_type": "stream",
          "name": "stdout",
          "text": [
            "\n",
            "*** Feature extraction finished ***\n",
            "*** Feature extraction started ***\n"
          ]
        },
        {
          "output_type": "stream",
          "name": "stderr",
          "text": [
            "<ipython-input-13-9dc92995cd83>:9: UserWarning: Using default sampling frequency set in configuration file.\n",
            "  f = tsfel.time_series_features_extractor(cfg, df)\n"
          ]
        },
        {
          "output_type": "display_data",
          "data": {
            "text/plain": [
              "<IPython.core.display.HTML object>"
            ],
            "text/html": [
              "\n",
              "              <p>\n",
              "                  Progress: 100% Complete\n",
              "              <p/>\n",
              "              <progress\n",
              "                  value='67'\n",
              "                  max='67',\n",
              "                  style='width: 25%',\n",
              "              >\n",
              "                  67\n",
              "              </progress>\n",
              "\n",
              "    "
            ]
          },
          "metadata": {}
        },
        {
          "output_type": "stream",
          "name": "stdout",
          "text": [
            "\n",
            "*** Feature extraction finished ***\n",
            "*** Feature extraction started ***\n"
          ]
        },
        {
          "output_type": "stream",
          "name": "stderr",
          "text": [
            "<ipython-input-13-9dc92995cd83>:9: UserWarning: Using default sampling frequency set in configuration file.\n",
            "  f = tsfel.time_series_features_extractor(cfg, df)\n"
          ]
        },
        {
          "output_type": "display_data",
          "data": {
            "text/plain": [
              "<IPython.core.display.HTML object>"
            ],
            "text/html": [
              "\n",
              "              <p>\n",
              "                  Progress: 100% Complete\n",
              "              <p/>\n",
              "              <progress\n",
              "                  value='67'\n",
              "                  max='67',\n",
              "                  style='width: 25%',\n",
              "              >\n",
              "                  67\n",
              "              </progress>\n",
              "\n",
              "    "
            ]
          },
          "metadata": {}
        },
        {
          "output_type": "stream",
          "name": "stdout",
          "text": [
            "\n",
            "*** Feature extraction finished ***\n",
            "*** Feature extraction started ***\n"
          ]
        },
        {
          "output_type": "stream",
          "name": "stderr",
          "text": [
            "<ipython-input-13-9dc92995cd83>:9: UserWarning: Using default sampling frequency set in configuration file.\n",
            "  f = tsfel.time_series_features_extractor(cfg, df)\n"
          ]
        },
        {
          "output_type": "display_data",
          "data": {
            "text/plain": [
              "<IPython.core.display.HTML object>"
            ],
            "text/html": [
              "\n",
              "              <p>\n",
              "                  Progress: 100% Complete\n",
              "              <p/>\n",
              "              <progress\n",
              "                  value='67'\n",
              "                  max='67',\n",
              "                  style='width: 25%',\n",
              "              >\n",
              "                  67\n",
              "              </progress>\n",
              "\n",
              "    "
            ]
          },
          "metadata": {}
        },
        {
          "output_type": "stream",
          "name": "stdout",
          "text": [
            "\n",
            "*** Feature extraction finished ***\n",
            "*** Feature extraction started ***\n"
          ]
        },
        {
          "output_type": "stream",
          "name": "stderr",
          "text": [
            "<ipython-input-13-9dc92995cd83>:9: UserWarning: Using default sampling frequency set in configuration file.\n",
            "  f = tsfel.time_series_features_extractor(cfg, df)\n"
          ]
        },
        {
          "output_type": "display_data",
          "data": {
            "text/plain": [
              "<IPython.core.display.HTML object>"
            ],
            "text/html": [
              "\n",
              "              <p>\n",
              "                  Progress: 100% Complete\n",
              "              <p/>\n",
              "              <progress\n",
              "                  value='67'\n",
              "                  max='67',\n",
              "                  style='width: 25%',\n",
              "              >\n",
              "                  67\n",
              "              </progress>\n",
              "\n",
              "    "
            ]
          },
          "metadata": {}
        },
        {
          "output_type": "stream",
          "name": "stdout",
          "text": [
            "\n",
            "*** Feature extraction finished ***\n"
          ]
        },
        {
          "output_type": "display_data",
          "data": {
            "text/plain": [
              "<Figure size 640x480 with 2 Axes>"
            ],
            "image/png": "[encoded data removed]"
          },
          "metadata": {}
        }
      ],
      "source": [
        "import tsfel\n",
        "\n",
        "cfg = tsfel.get_features_by_domain()\n",
        "\n",
        "flist = []\n",
        "for i in range(126):\n",
        "  s = X_train[i]\n",
        "  df = pd.DataFrame(s,columns=['x','y','z'])\n",
        "  f = tsfel.time_series_features_extractor(cfg, df)\n",
        "  flist.append(f)\n",
        "\n",
        "features = pd.concat(flist,ignore_index=True)\n",
        "features[\"Activity\"] = y_train\n",
        "\n",
        "\n",
        "\n",
        "pca = PCA(n_components=2)\n",
        "dpca = pca.fit_transform(features)\n",
        "scatter = plt.scatter(dpca[:, 0], dpca[:, 1], c=y_train, cmap='viridis', alpha=0.7)\n",
        "plt.xlabel('PCA1')\n",
        "plt.ylabel('PCA2')\n",
        "plt.title('Scatter Plot of Principal Components')\n",
        "plt.colorbar(scatter)\n",
        "plt.show()\n",
        "\n"
      ]
    },
    {
      "cell_type": "code",
      "source": [
        "corr = features.corr()\n",
        "corrd = pd.DataFrame(corr)\n",
        "condition = (corrd > 0.998) & (corrd < 1)\n",
        "\n",
        "# Iterate through DataFrame\n",
        "for column in corrd.columns:\n",
        "    indices = corrd.index[condition[column]]  # Get indices where condition is True\n",
        "    for index in indices:\n",
        "        print(f\"Feature 1: {column}, Feature 2: {index}\")"
      ],
      "metadata": {
        "colab": {
          "base_uri": "https://localhost:8080/"
        },
        "id": "n3c0NJNA47WG",
        "outputId": "47f56379-dfc7-4744-d3e5-eb396f792b7d"
      },
      "execution_count": 16,
      "outputs": [
        {
          "output_type": "stream",
          "name": "stdout",
          "text": [
            "Feature 1: x_FFT mean coefficient_215, Feature 2: x_FFT mean coefficient_219\n",
            "Feature 1: x_FFT mean coefficient_215, Feature 2: x_FFT mean coefficient_223\n",
            "Feature 1: x_FFT mean coefficient_215, Feature 2: x_FFT mean coefficient_226\n",
            "Feature 1: x_FFT mean coefficient_215, Feature 2: x_FFT mean coefficient_227\n",
            "Feature 1: x_FFT mean coefficient_215, Feature 2: x_FFT mean coefficient_230\n",
            "Feature 1: x_FFT mean coefficient_215, Feature 2: x_FFT mean coefficient_234\n",
            "Feature 1: x_FFT mean coefficient_215, Feature 2: x_FFT mean coefficient_238\n",
            "Feature 1: x_FFT mean coefficient_215, Feature 2: x_FFT mean coefficient_242\n",
            "Feature 1: x_FFT mean coefficient_215, Feature 2: x_FFT mean coefficient_246\n",
            "Feature 1: x_FFT mean coefficient_217, Feature 2: x_FFT mean coefficient_236\n",
            "Feature 1: x_FFT mean coefficient_218, Feature 2: x_FFT mean coefficient_222\n",
            "Feature 1: x_FFT mean coefficient_218, Feature 2: x_FFT mean coefficient_226\n",
            "Feature 1: x_FFT mean coefficient_218, Feature 2: x_FFT mean coefficient_227\n",
            "Feature 1: x_FFT mean coefficient_218, Feature 2: x_FFT mean coefficient_235\n",
            "Feature 1: x_FFT mean coefficient_218, Feature 2: x_FFT mean coefficient_239\n",
            "Feature 1: x_FFT mean coefficient_218, Feature 2: x_FFT mean coefficient_243\n",
            "Feature 1: x_FFT mean coefficient_219, Feature 2: x_FFT mean coefficient_215\n",
            "Feature 1: x_FFT mean coefficient_219, Feature 2: x_FFT mean coefficient_222\n",
            "Feature 1: x_FFT mean coefficient_219, Feature 2: x_FFT mean coefficient_223\n",
            "Feature 1: x_FFT mean coefficient_219, Feature 2: x_FFT mean coefficient_227\n",
            "Feature 1: x_FFT mean coefficient_219, Feature 2: x_FFT mean coefficient_230\n",
            "Feature 1: x_FFT mean coefficient_219, Feature 2: x_FFT mean coefficient_231\n",
            "Feature 1: x_FFT mean coefficient_219, Feature 2: x_FFT mean coefficient_234\n",
            "Feature 1: x_FFT mean coefficient_219, Feature 2: x_FFT mean coefficient_238\n",
            "Feature 1: x_FFT mean coefficient_219, Feature 2: x_FFT mean coefficient_242\n",
            "Feature 1: x_FFT mean coefficient_219, Feature 2: x_FFT mean coefficient_246\n",
            "Feature 1: x_FFT mean coefficient_219, Feature 2: x_FFT mean coefficient_250\n",
            "Feature 1: x_FFT mean coefficient_221, Feature 2: x_FFT mean coefficient_232\n",
            "Feature 1: x_FFT mean coefficient_222, Feature 2: x_FFT mean coefficient_218\n",
            "Feature 1: x_FFT mean coefficient_222, Feature 2: x_FFT mean coefficient_219\n",
            "Feature 1: x_FFT mean coefficient_222, Feature 2: x_FFT mean coefficient_223\n",
            "Feature 1: x_FFT mean coefficient_222, Feature 2: x_FFT mean coefficient_226\n",
            "Feature 1: x_FFT mean coefficient_222, Feature 2: x_FFT mean coefficient_227\n",
            "Feature 1: x_FFT mean coefficient_222, Feature 2: x_FFT mean coefficient_230\n",
            "Feature 1: x_FFT mean coefficient_222, Feature 2: x_FFT mean coefficient_231\n",
            "Feature 1: x_FFT mean coefficient_222, Feature 2: x_FFT mean coefficient_234\n",
            "Feature 1: x_FFT mean coefficient_222, Feature 2: x_FFT mean coefficient_235\n",
            "Feature 1: x_FFT mean coefficient_222, Feature 2: x_FFT mean coefficient_238\n",
            "Feature 1: x_FFT mean coefficient_222, Feature 2: x_FFT mean coefficient_239\n",
            "Feature 1: x_FFT mean coefficient_222, Feature 2: x_FFT mean coefficient_242\n",
            "Feature 1: x_FFT mean coefficient_223, Feature 2: x_FFT mean coefficient_215\n",
            "Feature 1: x_FFT mean coefficient_223, Feature 2: x_FFT mean coefficient_219\n",
            "Feature 1: x_FFT mean coefficient_223, Feature 2: x_FFT mean coefficient_222\n",
            "Feature 1: x_FFT mean coefficient_223, Feature 2: x_FFT mean coefficient_227\n",
            "Feature 1: x_FFT mean coefficient_223, Feature 2: x_FFT mean coefficient_230\n",
            "Feature 1: x_FFT mean coefficient_223, Feature 2: x_FFT mean coefficient_231\n",
            "Feature 1: x_FFT mean coefficient_223, Feature 2: x_FFT mean coefficient_234\n",
            "Feature 1: x_FFT mean coefficient_223, Feature 2: x_FFT mean coefficient_238\n",
            "Feature 1: x_FFT mean coefficient_223, Feature 2: x_FFT mean coefficient_242\n",
            "Feature 1: x_FFT mean coefficient_223, Feature 2: x_FFT mean coefficient_246\n",
            "Feature 1: x_FFT mean coefficient_223, Feature 2: x_FFT mean coefficient_250\n",
            "Feature 1: x_FFT mean coefficient_224, Feature 2: x_FFT mean coefficient_228\n",
            "Feature 1: x_FFT mean coefficient_224, Feature 2: x_FFT mean coefficient_233\n",
            "Feature 1: x_FFT mean coefficient_224, Feature 2: x_FFT mean coefficient_237\n",
            "Feature 1: x_FFT mean coefficient_226, Feature 2: x_FFT mean coefficient_215\n",
            "Feature 1: x_FFT mean coefficient_226, Feature 2: x_FFT mean coefficient_218\n",
            "Feature 1: x_FFT mean coefficient_226, Feature 2: x_FFT mean coefficient_222\n",
            "Feature 1: x_FFT mean coefficient_226, Feature 2: x_FFT mean coefficient_227\n",
            "Feature 1: x_FFT mean coefficient_226, Feature 2: x_FFT mean coefficient_234\n",
            "Feature 1: x_FFT mean coefficient_226, Feature 2: x_FFT mean coefficient_235\n",
            "Feature 1: x_FFT mean coefficient_226, Feature 2: x_FFT mean coefficient_246\n",
            "Feature 1: x_FFT mean coefficient_227, Feature 2: x_FFT mean coefficient_215\n",
            "Feature 1: x_FFT mean coefficient_227, Feature 2: x_FFT mean coefficient_218\n",
            "Feature 1: x_FFT mean coefficient_227, Feature 2: x_FFT mean coefficient_219\n",
            "Feature 1: x_FFT mean coefficient_227, Feature 2: x_FFT mean coefficient_222\n",
            "Feature 1: x_FFT mean coefficient_227, Feature 2: x_FFT mean coefficient_223\n",
            "Feature 1: x_FFT mean coefficient_227, Feature 2: x_FFT mean coefficient_226\n",
            "Feature 1: x_FFT mean coefficient_227, Feature 2: x_FFT mean coefficient_230\n",
            "Feature 1: x_FFT mean coefficient_227, Feature 2: x_FFT mean coefficient_231\n",
            "Feature 1: x_FFT mean coefficient_227, Feature 2: x_FFT mean coefficient_234\n",
            "Feature 1: x_FFT mean coefficient_227, Feature 2: x_FFT mean coefficient_235\n",
            "Feature 1: x_FFT mean coefficient_227, Feature 2: x_FFT mean coefficient_238\n",
            "Feature 1: x_FFT mean coefficient_227, Feature 2: x_FFT mean coefficient_242\n",
            "Feature 1: x_FFT mean coefficient_227, Feature 2: x_FFT mean coefficient_246\n",
            "Feature 1: x_FFT mean coefficient_228, Feature 2: x_FFT mean coefficient_224\n",
            "Feature 1: x_FFT mean coefficient_228, Feature 2: x_FFT mean coefficient_229\n",
            "Feature 1: x_FFT mean coefficient_228, Feature 2: x_FFT mean coefficient_233\n",
            "Feature 1: x_FFT mean coefficient_229, Feature 2: x_FFT mean coefficient_228\n",
            "Feature 1: x_FFT mean coefficient_229, Feature 2: x_FFT mean coefficient_232\n",
            "Feature 1: x_FFT mean coefficient_229, Feature 2: x_FFT mean coefficient_233\n",
            "Feature 1: x_FFT mean coefficient_230, Feature 2: x_FFT mean coefficient_215\n",
            "Feature 1: x_FFT mean coefficient_230, Feature 2: x_FFT mean coefficient_219\n",
            "Feature 1: x_FFT mean coefficient_230, Feature 2: x_FFT mean coefficient_222\n",
            "Feature 1: x_FFT mean coefficient_230, Feature 2: x_FFT mean coefficient_223\n",
            "Feature 1: x_FFT mean coefficient_230, Feature 2: x_FFT mean coefficient_227\n",
            "Feature 1: x_FFT mean coefficient_230, Feature 2: x_FFT mean coefficient_231\n",
            "Feature 1: x_FFT mean coefficient_230, Feature 2: x_FFT mean coefficient_234\n",
            "Feature 1: x_FFT mean coefficient_230, Feature 2: x_FFT mean coefficient_238\n",
            "Feature 1: x_FFT mean coefficient_230, Feature 2: x_FFT mean coefficient_242\n",
            "Feature 1: x_FFT mean coefficient_230, Feature 2: x_FFT mean coefficient_250\n",
            "Feature 1: x_FFT mean coefficient_231, Feature 2: x_FFT mean coefficient_219\n",
            "Feature 1: x_FFT mean coefficient_231, Feature 2: x_FFT mean coefficient_222\n",
            "Feature 1: x_FFT mean coefficient_231, Feature 2: x_FFT mean coefficient_223\n",
            "Feature 1: x_FFT mean coefficient_231, Feature 2: x_FFT mean coefficient_227\n",
            "Feature 1: x_FFT mean coefficient_231, Feature 2: x_FFT mean coefficient_230\n",
            "Feature 1: x_FFT mean coefficient_231, Feature 2: x_FFT mean coefficient_238\n",
            "Feature 1: x_FFT mean coefficient_231, Feature 2: x_FFT mean coefficient_239\n",
            "Feature 1: x_FFT mean coefficient_231, Feature 2: x_FFT mean coefficient_242\n",
            "Feature 1: x_FFT mean coefficient_231, Feature 2: x_FFT mean coefficient_250\n",
            "Feature 1: x_FFT mean coefficient_232, Feature 2: x_FFT mean coefficient_221\n",
            "Feature 1: x_FFT mean coefficient_232, Feature 2: x_FFT mean coefficient_229\n",
            "Feature 1: x_FFT mean coefficient_233, Feature 2: x_FFT mean coefficient_224\n",
            "Feature 1: x_FFT mean coefficient_233, Feature 2: x_FFT mean coefficient_228\n",
            "Feature 1: x_FFT mean coefficient_233, Feature 2: x_FFT mean coefficient_229\n",
            "Feature 1: x_FFT mean coefficient_233, Feature 2: x_FFT mean coefficient_237\n",
            "Feature 1: x_FFT mean coefficient_234, Feature 2: x_FFT mean coefficient_215\n",
            "Feature 1: x_FFT mean coefficient_234, Feature 2: x_FFT mean coefficient_219\n",
            "Feature 1: x_FFT mean coefficient_234, Feature 2: x_FFT mean coefficient_222\n",
            "Feature 1: x_FFT mean coefficient_234, Feature 2: x_FFT mean coefficient_223\n",
            "Feature 1: x_FFT mean coefficient_234, Feature 2: x_FFT mean coefficient_226\n",
            "Feature 1: x_FFT mean coefficient_234, Feature 2: x_FFT mean coefficient_227\n",
            "Feature 1: x_FFT mean coefficient_234, Feature 2: x_FFT mean coefficient_230\n",
            "Feature 1: x_FFT mean coefficient_234, Feature 2: x_FFT mean coefficient_235\n",
            "Feature 1: x_FFT mean coefficient_234, Feature 2: x_FFT mean coefficient_238\n",
            "Feature 1: x_FFT mean coefficient_234, Feature 2: x_FFT mean coefficient_242\n",
            "Feature 1: x_FFT mean coefficient_234, Feature 2: x_FFT mean coefficient_246\n",
            "Feature 1: x_FFT mean coefficient_235, Feature 2: x_FFT mean coefficient_218\n",
            "Feature 1: x_FFT mean coefficient_235, Feature 2: x_FFT mean coefficient_222\n",
            "Feature 1: x_FFT mean coefficient_235, Feature 2: x_FFT mean coefficient_226\n",
            "Feature 1: x_FFT mean coefficient_235, Feature 2: x_FFT mean coefficient_227\n",
            "Feature 1: x_FFT mean coefficient_235, Feature 2: x_FFT mean coefficient_234\n",
            "Feature 1: x_FFT mean coefficient_235, Feature 2: x_FFT mean coefficient_239\n",
            "Feature 1: x_FFT mean coefficient_235, Feature 2: x_FFT mean coefficient_243\n",
            "Feature 1: x_FFT mean coefficient_236, Feature 2: x_FFT mean coefficient_217\n",
            "Feature 1: x_FFT mean coefficient_237, Feature 2: x_FFT mean coefficient_224\n",
            "Feature 1: x_FFT mean coefficient_237, Feature 2: x_FFT mean coefficient_233\n",
            "Feature 1: x_FFT mean coefficient_238, Feature 2: x_FFT mean coefficient_215\n",
            "Feature 1: x_FFT mean coefficient_238, Feature 2: x_FFT mean coefficient_219\n",
            "Feature 1: x_FFT mean coefficient_238, Feature 2: x_FFT mean coefficient_222\n",
            "Feature 1: x_FFT mean coefficient_238, Feature 2: x_FFT mean coefficient_223\n",
            "Feature 1: x_FFT mean coefficient_238, Feature 2: x_FFT mean coefficient_227\n",
            "Feature 1: x_FFT mean coefficient_238, Feature 2: x_FFT mean coefficient_230\n",
            "Feature 1: x_FFT mean coefficient_238, Feature 2: x_FFT mean coefficient_231\n",
            "Feature 1: x_FFT mean coefficient_238, Feature 2: x_FFT mean coefficient_234\n",
            "Feature 1: x_FFT mean coefficient_238, Feature 2: x_FFT mean coefficient_242\n",
            "Feature 1: x_FFT mean coefficient_238, Feature 2: x_FFT mean coefficient_246\n",
            "Feature 1: x_FFT mean coefficient_238, Feature 2: x_FFT mean coefficient_250\n",
            "Feature 1: x_FFT mean coefficient_239, Feature 2: x_FFT mean coefficient_218\n",
            "Feature 1: x_FFT mean coefficient_239, Feature 2: x_FFT mean coefficient_222\n",
            "Feature 1: x_FFT mean coefficient_239, Feature 2: x_FFT mean coefficient_231\n",
            "Feature 1: x_FFT mean coefficient_239, Feature 2: x_FFT mean coefficient_235\n",
            "Feature 1: x_FFT mean coefficient_239, Feature 2: x_FFT mean coefficient_243\n",
            "Feature 1: x_FFT mean coefficient_242, Feature 2: x_FFT mean coefficient_215\n",
            "Feature 1: x_FFT mean coefficient_242, Feature 2: x_FFT mean coefficient_219\n",
            "Feature 1: x_FFT mean coefficient_242, Feature 2: x_FFT mean coefficient_222\n",
            "Feature 1: x_FFT mean coefficient_242, Feature 2: x_FFT mean coefficient_223\n",
            "Feature 1: x_FFT mean coefficient_242, Feature 2: x_FFT mean coefficient_227\n",
            "Feature 1: x_FFT mean coefficient_242, Feature 2: x_FFT mean coefficient_230\n",
            "Feature 1: x_FFT mean coefficient_242, Feature 2: x_FFT mean coefficient_231\n",
            "Feature 1: x_FFT mean coefficient_242, Feature 2: x_FFT mean coefficient_234\n",
            "Feature 1: x_FFT mean coefficient_242, Feature 2: x_FFT mean coefficient_238\n",
            "Feature 1: x_FFT mean coefficient_242, Feature 2: x_FFT mean coefficient_246\n",
            "Feature 1: x_FFT mean coefficient_242, Feature 2: x_FFT mean coefficient_250\n",
            "Feature 1: x_FFT mean coefficient_243, Feature 2: x_FFT mean coefficient_218\n",
            "Feature 1: x_FFT mean coefficient_243, Feature 2: x_FFT mean coefficient_235\n",
            "Feature 1: x_FFT mean coefficient_243, Feature 2: x_FFT mean coefficient_239\n",
            "Feature 1: x_FFT mean coefficient_243, Feature 2: x_FFT mean coefficient_247\n",
            "Feature 1: x_FFT mean coefficient_246, Feature 2: x_FFT mean coefficient_215\n",
            "Feature 1: x_FFT mean coefficient_246, Feature 2: x_FFT mean coefficient_219\n",
            "Feature 1: x_FFT mean coefficient_246, Feature 2: x_FFT mean coefficient_223\n",
            "Feature 1: x_FFT mean coefficient_246, Feature 2: x_FFT mean coefficient_226\n",
            "Feature 1: x_FFT mean coefficient_246, Feature 2: x_FFT mean coefficient_227\n",
            "Feature 1: x_FFT mean coefficient_246, Feature 2: x_FFT mean coefficient_234\n",
            "Feature 1: x_FFT mean coefficient_246, Feature 2: x_FFT mean coefficient_238\n",
            "Feature 1: x_FFT mean coefficient_246, Feature 2: x_FFT mean coefficient_242\n",
            "Feature 1: x_FFT mean coefficient_246, Feature 2: x_FFT mean coefficient_250\n",
            "Feature 1: x_FFT mean coefficient_247, Feature 2: x_FFT mean coefficient_243\n",
            "Feature 1: x_FFT mean coefficient_250, Feature 2: x_FFT mean coefficient_219\n",
            "Feature 1: x_FFT mean coefficient_250, Feature 2: x_FFT mean coefficient_223\n",
            "Feature 1: x_FFT mean coefficient_250, Feature 2: x_FFT mean coefficient_230\n",
            "Feature 1: x_FFT mean coefficient_250, Feature 2: x_FFT mean coefficient_231\n",
            "Feature 1: x_FFT mean coefficient_250, Feature 2: x_FFT mean coefficient_238\n",
            "Feature 1: x_FFT mean coefficient_250, Feature 2: x_FFT mean coefficient_242\n",
            "Feature 1: x_FFT mean coefficient_250, Feature 2: x_FFT mean coefficient_246\n",
            "Feature 1: x_LPCC_1, Feature 2: x_LPCC_11\n",
            "Feature 1: x_LPCC_11, Feature 2: x_LPCC_1\n",
            "Feature 1: x_Mean absolute deviation, Feature 2: x_Standard deviation\n",
            "Feature 1: x_Mean absolute diff, Feature 2: x_Sum absolute diff\n",
            "Feature 1: x_Negative turning points, Feature 2: x_Positive turning points\n",
            "Feature 1: x_Positive turning points, Feature 2: x_Negative turning points\n",
            "Feature 1: x_Spectral centroid, Feature 2: x_Spectral slope\n",
            "Feature 1: x_Spectral slope, Feature 2: x_Spectral centroid\n",
            "Feature 1: x_Standard deviation, Feature 2: x_Mean absolute deviation\n",
            "Feature 1: x_Sum absolute diff, Feature 2: x_Mean absolute diff\n",
            "Feature 1: x_Wavelet absolute mean_6, Feature 2: x_Wavelet absolute mean_7\n",
            "Feature 1: x_Wavelet absolute mean_7, Feature 2: x_Wavelet absolute mean_6\n",
            "Feature 1: x_Wavelet absolute mean_7, Feature 2: x_Wavelet absolute mean_8\n",
            "Feature 1: x_Wavelet absolute mean_8, Feature 2: x_Wavelet absolute mean_7\n",
            "Feature 1: x_Wavelet energy_0, Feature 2: x_Wavelet standard deviation_0\n",
            "Feature 1: x_Wavelet energy_1, Feature 2: x_Wavelet standard deviation_1\n",
            "Feature 1: x_Wavelet energy_2, Feature 2: x_Wavelet standard deviation_2\n",
            "Feature 1: x_Wavelet energy_3, Feature 2: x_Wavelet standard deviation_3\n",
            "Feature 1: x_Wavelet energy_4, Feature 2: x_Wavelet standard deviation_4\n",
            "Feature 1: x_Wavelet energy_5, Feature 2: x_Wavelet standard deviation_5\n",
            "Feature 1: x_Wavelet energy_6, Feature 2: x_Wavelet standard deviation_6\n",
            "Feature 1: x_Wavelet energy_7, Feature 2: x_Wavelet standard deviation_7\n",
            "Feature 1: x_Wavelet energy_8, Feature 2: x_Wavelet standard deviation_8\n",
            "Feature 1: x_Wavelet standard deviation_0, Feature 2: x_Wavelet energy_0\n",
            "Feature 1: x_Wavelet standard deviation_1, Feature 2: x_Wavelet energy_1\n",
            "Feature 1: x_Wavelet standard deviation_2, Feature 2: x_Wavelet energy_2\n",
            "Feature 1: x_Wavelet standard deviation_3, Feature 2: x_Wavelet energy_3\n",
            "Feature 1: x_Wavelet standard deviation_4, Feature 2: x_Wavelet energy_4\n",
            "Feature 1: x_Wavelet standard deviation_5, Feature 2: x_Wavelet energy_5\n",
            "Feature 1: x_Wavelet standard deviation_6, Feature 2: x_Wavelet energy_6\n",
            "Feature 1: x_Wavelet standard deviation_7, Feature 2: x_Wavelet energy_7\n",
            "Feature 1: x_Wavelet standard deviation_8, Feature 2: x_Wavelet energy_8\n",
            "Feature 1: y_Absolute energy, Feature 2: y_Average power\n",
            "Feature 1: y_Average power, Feature 2: y_Absolute energy\n",
            "Feature 1: y_FFT mean coefficient_1, Feature 2: z_FFT mean coefficient_1\n",
            "Feature 1: y_FFT mean coefficient_215, Feature 2: y_FFT mean coefficient_227\n",
            "Feature 1: y_FFT mean coefficient_216, Feature 2: y_FFT mean coefficient_218\n",
            "Feature 1: y_FFT mean coefficient_216, Feature 2: y_FFT mean coefficient_219\n",
            "Feature 1: y_FFT mean coefficient_216, Feature 2: y_FFT mean coefficient_223\n",
            "Feature 1: y_FFT mean coefficient_216, Feature 2: y_FFT mean coefficient_226\n",
            "Feature 1: y_FFT mean coefficient_216, Feature 2: y_FFT mean coefficient_227\n",
            "Feature 1: y_FFT mean coefficient_216, Feature 2: y_FFT mean coefficient_234\n",
            "Feature 1: y_FFT mean coefficient_216, Feature 2: y_FFT mean coefficient_235\n",
            "Feature 1: y_FFT mean coefficient_216, Feature 2: y_FFT mean coefficient_238\n",
            "Feature 1: y_FFT mean coefficient_216, Feature 2: y_FFT mean coefficient_243\n",
            "Feature 1: y_FFT mean coefficient_217, Feature 2: y_FFT mean coefficient_220\n",
            "Feature 1: y_FFT mean coefficient_217, Feature 2: y_FFT mean coefficient_221\n",
            "Feature 1: y_FFT mean coefficient_217, Feature 2: y_FFT mean coefficient_222\n",
            "Feature 1: y_FFT mean coefficient_217, Feature 2: y_FFT mean coefficient_225\n",
            "Feature 1: y_FFT mean coefficient_217, Feature 2: y_FFT mean coefficient_228\n",
            "Feature 1: y_FFT mean coefficient_217, Feature 2: y_FFT mean coefficient_233\n",
            "Feature 1: y_FFT mean coefficient_217, Feature 2: y_FFT mean coefficient_236\n",
            "Feature 1: y_FFT mean coefficient_217, Feature 2: y_FFT mean coefficient_241\n",
            "Feature 1: y_FFT mean coefficient_218, Feature 2: y_FFT mean coefficient_216\n",
            "Feature 1: y_FFT mean coefficient_218, Feature 2: y_FFT mean coefficient_223\n",
            "Feature 1: y_FFT mean coefficient_218, Feature 2: y_FFT mean coefficient_226\n",
            "Feature 1: y_FFT mean coefficient_218, Feature 2: y_FFT mean coefficient_227\n",
            "Feature 1: y_FFT mean coefficient_218, Feature 2: y_FFT mean coefficient_234\n",
            "Feature 1: y_FFT mean coefficient_218, Feature 2: y_FFT mean coefficient_235\n",
            "Feature 1: y_FFT mean coefficient_218, Feature 2: y_FFT mean coefficient_238\n",
            "Feature 1: y_FFT mean coefficient_218, Feature 2: y_FFT mean coefficient_243\n",
            "Feature 1: y_FFT mean coefficient_219, Feature 2: y_FFT mean coefficient_216\n",
            "Feature 1: y_FFT mean coefficient_219, Feature 2: y_FFT mean coefficient_223\n",
            "Feature 1: y_FFT mean coefficient_219, Feature 2: y_FFT mean coefficient_227\n",
            "Feature 1: y_FFT mean coefficient_219, Feature 2: y_FFT mean coefficient_230\n",
            "Feature 1: y_FFT mean coefficient_219, Feature 2: y_FFT mean coefficient_231\n",
            "Feature 1: y_FFT mean coefficient_219, Feature 2: y_FFT mean coefficient_234\n",
            "Feature 1: y_FFT mean coefficient_219, Feature 2: y_FFT mean coefficient_238\n",
            "Feature 1: y_FFT mean coefficient_219, Feature 2: y_FFT mean coefficient_242\n",
            "Feature 1: y_FFT mean coefficient_220, Feature 2: y_FFT mean coefficient_217\n",
            "Feature 1: y_FFT mean coefficient_220, Feature 2: y_FFT mean coefficient_221\n",
            "Feature 1: y_FFT mean coefficient_220, Feature 2: y_FFT mean coefficient_222\n",
            "Feature 1: y_FFT mean coefficient_220, Feature 2: y_FFT mean coefficient_225\n",
            "Feature 1: y_FFT mean coefficient_220, Feature 2: y_FFT mean coefficient_228\n",
            "Feature 1: y_FFT mean coefficient_220, Feature 2: y_FFT mean coefficient_233\n",
            "Feature 1: y_FFT mean coefficient_220, Feature 2: y_FFT mean coefficient_239\n",
            "Feature 1: y_FFT mean coefficient_220, Feature 2: y_FFT mean coefficient_241\n",
            "Feature 1: y_FFT mean coefficient_220, Feature 2: y_FFT mean coefficient_247\n",
            "Feature 1: y_FFT mean coefficient_221, Feature 2: y_FFT mean coefficient_217\n",
            "Feature 1: y_FFT mean coefficient_221, Feature 2: y_FFT mean coefficient_220\n",
            "Feature 1: y_FFT mean coefficient_221, Feature 2: y_FFT mean coefficient_225\n",
            "Feature 1: y_FFT mean coefficient_221, Feature 2: y_FFT mean coefficient_228\n",
            "Feature 1: y_FFT mean coefficient_221, Feature 2: y_FFT mean coefficient_229\n",
            "Feature 1: y_FFT mean coefficient_221, Feature 2: y_FFT mean coefficient_232\n",
            "Feature 1: y_FFT mean coefficient_221, Feature 2: y_FFT mean coefficient_233\n",
            "Feature 1: y_FFT mean coefficient_221, Feature 2: y_FFT mean coefficient_236\n",
            "Feature 1: y_FFT mean coefficient_221, Feature 2: y_FFT mean coefficient_237\n",
            "Feature 1: y_FFT mean coefficient_221, Feature 2: y_FFT mean coefficient_240\n",
            "Feature 1: y_FFT mean coefficient_221, Feature 2: y_FFT mean coefficient_241\n",
            "Feature 1: y_FFT mean coefficient_221, Feature 2: y_FFT mean coefficient_244\n",
            "Feature 1: y_FFT mean coefficient_221, Feature 2: y_FFT mean coefficient_245\n",
            "Feature 1: y_FFT mean coefficient_221, Feature 2: y_FFT mean coefficient_247\n",
            "Feature 1: y_FFT mean coefficient_221, Feature 2: y_FFT mean coefficient_248\n",
            "Feature 1: y_FFT mean coefficient_221, Feature 2: y_FFT mean coefficient_249\n",
            "Feature 1: y_FFT mean coefficient_222, Feature 2: y_FFT mean coefficient_217\n",
            "Feature 1: y_FFT mean coefficient_222, Feature 2: y_FFT mean coefficient_220\n",
            "Feature 1: y_FFT mean coefficient_222, Feature 2: y_FFT mean coefficient_224\n",
            "Feature 1: y_FFT mean coefficient_222, Feature 2: y_FFT mean coefficient_230\n",
            "Feature 1: y_FFT mean coefficient_222, Feature 2: y_FFT mean coefficient_231\n",
            "Feature 1: y_FFT mean coefficient_222, Feature 2: y_FFT mean coefficient_239\n",
            "Feature 1: y_FFT mean coefficient_222, Feature 2: y_FFT mean coefficient_247\n",
            "Feature 1: y_FFT mean coefficient_222, Feature 2: y_FFT mean coefficient_249\n",
            "Feature 1: y_FFT mean coefficient_222, Feature 2: y_FFT mean coefficient_250\n",
            "Feature 1: y_FFT mean coefficient_223, Feature 2: y_FFT mean coefficient_216\n",
            "Feature 1: y_FFT mean coefficient_223, Feature 2: y_FFT mean coefficient_218\n",
            "Feature 1: y_FFT mean coefficient_223, Feature 2: y_FFT mean coefficient_219\n",
            "Feature 1: y_FFT mean coefficient_223, Feature 2: y_FFT mean coefficient_226\n",
            "Feature 1: y_FFT mean coefficient_223, Feature 2: y_FFT mean coefficient_227\n",
            "Feature 1: y_FFT mean coefficient_223, Feature 2: y_FFT mean coefficient_230\n",
            "Feature 1: y_FFT mean coefficient_223, Feature 2: y_FFT mean coefficient_234\n",
            "Feature 1: y_FFT mean coefficient_223, Feature 2: y_FFT mean coefficient_235\n",
            "Feature 1: y_FFT mean coefficient_223, Feature 2: y_FFT mean coefficient_238\n",
            "Feature 1: y_FFT mean coefficient_223, Feature 2: y_FFT mean coefficient_242\n",
            "Feature 1: y_FFT mean coefficient_223, Feature 2: y_FFT mean coefficient_243\n",
            "Feature 1: y_FFT mean coefficient_224, Feature 2: y_FFT mean coefficient_222\n",
            "Feature 1: y_FFT mean coefficient_224, Feature 2: y_FFT mean coefficient_229\n",
            "Feature 1: y_FFT mean coefficient_224, Feature 2: y_FFT mean coefficient_232\n",
            "Feature 1: y_FFT mean coefficient_224, Feature 2: y_FFT mean coefficient_237\n",
            "Feature 1: y_FFT mean coefficient_224, Feature 2: y_FFT mean coefficient_245\n",
            "Feature 1: y_FFT mean coefficient_224, Feature 2: y_FFT mean coefficient_247\n",
            "Feature 1: y_FFT mean coefficient_224, Feature 2: y_FFT mean coefficient_249\n",
            "Feature 1: y_FFT mean coefficient_225, Feature 2: y_FFT mean coefficient_217\n",
            "Feature 1: y_FFT mean coefficient_225, Feature 2: y_FFT mean coefficient_220\n",
            "Feature 1: y_FFT mean coefficient_225, Feature 2: y_FFT mean coefficient_221\n",
            "Feature 1: y_FFT mean coefficient_225, Feature 2: y_FFT mean coefficient_228\n",
            "Feature 1: y_FFT mean coefficient_225, Feature 2: y_FFT mean coefficient_229\n",
            "Feature 1: y_FFT mean coefficient_225, Feature 2: y_FFT mean coefficient_232\n",
            "Feature 1: y_FFT mean coefficient_225, Feature 2: y_FFT mean coefficient_233\n",
            "Feature 1: y_FFT mean coefficient_225, Feature 2: y_FFT mean coefficient_236\n",
            "Feature 1: y_FFT mean coefficient_225, Feature 2: y_FFT mean coefficient_240\n",
            "Feature 1: y_FFT mean coefficient_225, Feature 2: y_FFT mean coefficient_241\n",
            "Feature 1: y_FFT mean coefficient_225, Feature 2: y_FFT mean coefficient_244\n",
            "Feature 1: y_FFT mean coefficient_225, Feature 2: y_FFT mean coefficient_248\n",
            "Feature 1: y_FFT mean coefficient_226, Feature 2: y_FFT mean coefficient_216\n",
            "Feature 1: y_FFT mean coefficient_226, Feature 2: y_FFT mean coefficient_218\n",
            "Feature 1: y_FFT mean coefficient_226, Feature 2: y_FFT mean coefficient_223\n",
            "Feature 1: y_FFT mean coefficient_226, Feature 2: y_FFT mean coefficient_227\n",
            "Feature 1: y_FFT mean coefficient_226, Feature 2: y_FFT mean coefficient_234\n",
            "Feature 1: y_FFT mean coefficient_226, Feature 2: y_FFT mean coefficient_235\n",
            "Feature 1: y_FFT mean coefficient_226, Feature 2: y_FFT mean coefficient_238\n",
            "Feature 1: y_FFT mean coefficient_226, Feature 2: y_FFT mean coefficient_243\n",
            "Feature 1: y_FFT mean coefficient_226, Feature 2: y_FFT mean coefficient_246\n",
            "Feature 1: y_FFT mean coefficient_227, Feature 2: y_FFT mean coefficient_215\n",
            "Feature 1: y_FFT mean coefficient_227, Feature 2: y_FFT mean coefficient_216\n",
            "Feature 1: y_FFT mean coefficient_227, Feature 2: y_FFT mean coefficient_218\n",
            "Feature 1: y_FFT mean coefficient_227, Feature 2: y_FFT mean coefficient_219\n",
            "Feature 1: y_FFT mean coefficient_227, Feature 2: y_FFT mean coefficient_223\n",
            "Feature 1: y_FFT mean coefficient_227, Feature 2: y_FFT mean coefficient_226\n",
            "Feature 1: y_FFT mean coefficient_227, Feature 2: y_FFT mean coefficient_234\n",
            "Feature 1: y_FFT mean coefficient_227, Feature 2: y_FFT mean coefficient_235\n",
            "Feature 1: y_FFT mean coefficient_227, Feature 2: y_FFT mean coefficient_238\n",
            "Feature 1: y_FFT mean coefficient_227, Feature 2: y_FFT mean coefficient_243\n",
            "Feature 1: y_FFT mean coefficient_227, Feature 2: y_FFT mean coefficient_246\n",
            "Feature 1: y_FFT mean coefficient_228, Feature 2: y_FFT mean coefficient_217\n",
            "Feature 1: y_FFT mean coefficient_228, Feature 2: y_FFT mean coefficient_220\n",
            "Feature 1: y_FFT mean coefficient_228, Feature 2: y_FFT mean coefficient_221\n",
            "Feature 1: y_FFT mean coefficient_228, Feature 2: y_FFT mean coefficient_225\n",
            "Feature 1: y_FFT mean coefficient_228, Feature 2: y_FFT mean coefficient_229\n",
            "Feature 1: y_FFT mean coefficient_228, Feature 2: y_FFT mean coefficient_232\n",
            "Feature 1: y_FFT mean coefficient_228, Feature 2: y_FFT mean coefficient_233\n",
            "Feature 1: y_FFT mean coefficient_228, Feature 2: y_FFT mean coefficient_236\n",
            "Feature 1: y_FFT mean coefficient_228, Feature 2: y_FFT mean coefficient_240\n",
            "Feature 1: y_FFT mean coefficient_228, Feature 2: y_FFT mean coefficient_241\n",
            "Feature 1: y_FFT mean coefficient_228, Feature 2: y_FFT mean coefficient_244\n",
            "Feature 1: y_FFT mean coefficient_228, Feature 2: y_FFT mean coefficient_248\n",
            "Feature 1: y_FFT mean coefficient_229, Feature 2: y_FFT mean coefficient_221\n",
            "Feature 1: y_FFT mean coefficient_229, Feature 2: y_FFT mean coefficient_224\n",
            "Feature 1: y_FFT mean coefficient_229, Feature 2: y_FFT mean coefficient_225\n",
            "Feature 1: y_FFT mean coefficient_229, Feature 2: y_FFT mean coefficient_228\n",
            "Feature 1: y_FFT mean coefficient_229, Feature 2: y_FFT mean coefficient_232\n",
            "Feature 1: y_FFT mean coefficient_229, Feature 2: y_FFT mean coefficient_233\n",
            "Feature 1: y_FFT mean coefficient_229, Feature 2: y_FFT mean coefficient_236\n",
            "Feature 1: y_FFT mean coefficient_229, Feature 2: y_FFT mean coefficient_237\n",
            "Feature 1: y_FFT mean coefficient_229, Feature 2: y_FFT mean coefficient_240\n",
            "Feature 1: y_FFT mean coefficient_229, Feature 2: y_FFT mean coefficient_241\n",
            "Feature 1: y_FFT mean coefficient_229, Feature 2: y_FFT mean coefficient_244\n",
            "Feature 1: y_FFT mean coefficient_229, Feature 2: y_FFT mean coefficient_245\n",
            "Feature 1: y_FFT mean coefficient_229, Feature 2: y_FFT mean coefficient_247\n",
            "Feature 1: y_FFT mean coefficient_229, Feature 2: y_FFT mean coefficient_248\n",
            "Feature 1: y_FFT mean coefficient_229, Feature 2: y_FFT mean coefficient_249\n",
            "Feature 1: y_FFT mean coefficient_230, Feature 2: y_FFT mean coefficient_219\n",
            "Feature 1: y_FFT mean coefficient_230, Feature 2: y_FFT mean coefficient_222\n",
            "Feature 1: y_FFT mean coefficient_230, Feature 2: y_FFT mean coefficient_223\n",
            "Feature 1: y_FFT mean coefficient_230, Feature 2: y_FFT mean coefficient_231\n",
            "Feature 1: y_FFT mean coefficient_230, Feature 2: y_FFT mean coefficient_234\n",
            "Feature 1: y_FFT mean coefficient_230, Feature 2: y_FFT mean coefficient_239\n",
            "Feature 1: y_FFT mean coefficient_230, Feature 2: y_FFT mean coefficient_242\n",
            "Feature 1: y_FFT mean coefficient_230, Feature 2: y_FFT mean coefficient_247\n",
            "Feature 1: y_FFT mean coefficient_230, Feature 2: y_FFT mean coefficient_249\n",
            "Feature 1: y_FFT mean coefficient_230, Feature 2: y_FFT mean coefficient_250\n",
            "Feature 1: y_FFT mean coefficient_231, Feature 2: y_FFT mean coefficient_219\n",
            "Feature 1: y_FFT mean coefficient_231, Feature 2: y_FFT mean coefficient_222\n",
            "Feature 1: y_FFT mean coefficient_231, Feature 2: y_FFT mean coefficient_230\n",
            "Feature 1: y_FFT mean coefficient_231, Feature 2: y_FFT mean coefficient_239\n",
            "Feature 1: y_FFT mean coefficient_231, Feature 2: y_FFT mean coefficient_242\n",
            "Feature 1: y_FFT mean coefficient_231, Feature 2: y_FFT mean coefficient_247\n",
            "Feature 1: y_FFT mean coefficient_231, Feature 2: y_FFT mean coefficient_250\n",
            "Feature 1: y_FFT mean coefficient_232, Feature 2: y_FFT mean coefficient_221\n",
            "Feature 1: y_FFT mean coefficient_232, Feature 2: y_FFT mean coefficient_224\n",
            "Feature 1: y_FFT mean coefficient_232, Feature 2: y_FFT mean coefficient_225\n",
            "Feature 1: y_FFT mean coefficient_232, Feature 2: y_FFT mean coefficient_228\n",
            "Feature 1: y_FFT mean coefficient_232, Feature 2: y_FFT mean coefficient_229\n",
            "Feature 1: y_FFT mean coefficient_232, Feature 2: y_FFT mean coefficient_233\n",
            "Feature 1: y_FFT mean coefficient_232, Feature 2: y_FFT mean coefficient_236\n",
            "Feature 1: y_FFT mean coefficient_232, Feature 2: y_FFT mean coefficient_237\n",
            "Feature 1: y_FFT mean coefficient_232, Feature 2: y_FFT mean coefficient_240\n",
            "Feature 1: y_FFT mean coefficient_232, Feature 2: y_FFT mean coefficient_241\n",
            "Feature 1: y_FFT mean coefficient_232, Feature 2: y_FFT mean coefficient_244\n",
            "Feature 1: y_FFT mean coefficient_232, Feature 2: y_FFT mean coefficient_245\n",
            "Feature 1: y_FFT mean coefficient_232, Feature 2: y_FFT mean coefficient_247\n",
            "Feature 1: y_FFT mean coefficient_232, Feature 2: y_FFT mean coefficient_248\n",
            "Feature 1: y_FFT mean coefficient_232, Feature 2: y_FFT mean coefficient_249\n",
            "Feature 1: y_FFT mean coefficient_233, Feature 2: y_FFT mean coefficient_217\n",
            "Feature 1: y_FFT mean coefficient_233, Feature 2: y_FFT mean coefficient_220\n",
            "Feature 1: y_FFT mean coefficient_233, Feature 2: y_FFT mean coefficient_221\n",
            "Feature 1: y_FFT mean coefficient_233, Feature 2: y_FFT mean coefficient_225\n",
            "Feature 1: y_FFT mean coefficient_233, Feature 2: y_FFT mean coefficient_228\n",
            "Feature 1: y_FFT mean coefficient_233, Feature 2: y_FFT mean coefficient_229\n",
            "Feature 1: y_FFT mean coefficient_233, Feature 2: y_FFT mean coefficient_232\n",
            "Feature 1: y_FFT mean coefficient_233, Feature 2: y_FFT mean coefficient_236\n",
            "Feature 1: y_FFT mean coefficient_233, Feature 2: y_FFT mean coefficient_240\n",
            "Feature 1: y_FFT mean coefficient_233, Feature 2: y_FFT mean coefficient_241\n",
            "Feature 1: y_FFT mean coefficient_233, Feature 2: y_FFT mean coefficient_244\n",
            "Feature 1: y_FFT mean coefficient_233, Feature 2: y_FFT mean coefficient_248\n",
            "Feature 1: y_FFT mean coefficient_234, Feature 2: y_FFT mean coefficient_216\n",
            "Feature 1: y_FFT mean coefficient_234, Feature 2: y_FFT mean coefficient_218\n",
            "Feature 1: y_FFT mean coefficient_234, Feature 2: y_FFT mean coefficient_219\n",
            "Feature 1: y_FFT mean coefficient_234, Feature 2: y_FFT mean coefficient_223\n",
            "Feature 1: y_FFT mean coefficient_234, Feature 2: y_FFT mean coefficient_226\n",
            "Feature 1: y_FFT mean coefficient_234, Feature 2: y_FFT mean coefficient_227\n",
            "Feature 1: y_FFT mean coefficient_234, Feature 2: y_FFT mean coefficient_230\n",
            "Feature 1: y_FFT mean coefficient_234, Feature 2: y_FFT mean coefficient_235\n",
            "Feature 1: y_FFT mean coefficient_234, Feature 2: y_FFT mean coefficient_238\n",
            "Feature 1: y_FFT mean coefficient_234, Feature 2: y_FFT mean coefficient_242\n",
            "Feature 1: y_FFT mean coefficient_234, Feature 2: y_FFT mean coefficient_243\n",
            "Feature 1: y_FFT mean coefficient_235, Feature 2: y_FFT mean coefficient_216\n",
            "Feature 1: y_FFT mean coefficient_235, Feature 2: y_FFT mean coefficient_218\n",
            "Feature 1: y_FFT mean coefficient_235, Feature 2: y_FFT mean coefficient_223\n",
            "Feature 1: y_FFT mean coefficient_235, Feature 2: y_FFT mean coefficient_226\n",
            "Feature 1: y_FFT mean coefficient_235, Feature 2: y_FFT mean coefficient_227\n",
            "Feature 1: y_FFT mean coefficient_235, Feature 2: y_FFT mean coefficient_234\n",
            "Feature 1: y_FFT mean coefficient_235, Feature 2: y_FFT mean coefficient_238\n",
            "Feature 1: y_FFT mean coefficient_235, Feature 2: y_FFT mean coefficient_243\n",
            "Feature 1: y_FFT mean coefficient_235, Feature 2: y_FFT mean coefficient_246\n",
            "Feature 1: y_FFT mean coefficient_236, Feature 2: y_FFT mean coefficient_217\n",
            "Feature 1: y_FFT mean coefficient_236, Feature 2: y_FFT mean coefficient_221\n",
            "Feature 1: y_FFT mean coefficient_236, Feature 2: y_FFT mean coefficient_225\n",
            "Feature 1: y_FFT mean coefficient_236, Feature 2: y_FFT mean coefficient_228\n",
            "Feature 1: y_FFT mean coefficient_236, Feature 2: y_FFT mean coefficient_229\n",
            "Feature 1: y_FFT mean coefficient_236, Feature 2: y_FFT mean coefficient_232\n",
            "Feature 1: y_FFT mean coefficient_236, Feature 2: y_FFT mean coefficient_233\n",
            "Feature 1: y_FFT mean coefficient_236, Feature 2: y_FFT mean coefficient_240\n",
            "Feature 1: y_FFT mean coefficient_236, Feature 2: y_FFT mean coefficient_241\n",
            "Feature 1: y_FFT mean coefficient_236, Feature 2: y_FFT mean coefficient_244\n",
            "Feature 1: y_FFT mean coefficient_236, Feature 2: y_FFT mean coefficient_248\n",
            "Feature 1: y_FFT mean coefficient_237, Feature 2: y_FFT mean coefficient_221\n",
            "Feature 1: y_FFT mean coefficient_237, Feature 2: y_FFT mean coefficient_224\n",
            "Feature 1: y_FFT mean coefficient_237, Feature 2: y_FFT mean coefficient_229\n",
            "Feature 1: y_FFT mean coefficient_237, Feature 2: y_FFT mean coefficient_232\n",
            "Feature 1: y_FFT mean coefficient_237, Feature 2: y_FFT mean coefficient_241\n",
            "Feature 1: y_FFT mean coefficient_237, Feature 2: y_FFT mean coefficient_245\n",
            "Feature 1: y_FFT mean coefficient_237, Feature 2: y_FFT mean coefficient_247\n",
            "Feature 1: y_FFT mean coefficient_237, Feature 2: y_FFT mean coefficient_249\n",
            "Feature 1: y_FFT mean coefficient_238, Feature 2: y_FFT mean coefficient_216\n",
            "Feature 1: y_FFT mean coefficient_238, Feature 2: y_FFT mean coefficient_218\n",
            "Feature 1: y_FFT mean coefficient_238, Feature 2: y_FFT mean coefficient_219\n",
            "Feature 1: y_FFT mean coefficient_238, Feature 2: y_FFT mean coefficient_223\n",
            "Feature 1: y_FFT mean coefficient_238, Feature 2: y_FFT mean coefficient_226\n",
            "Feature 1: y_FFT mean coefficient_238, Feature 2: y_FFT mean coefficient_227\n",
            "Feature 1: y_FFT mean coefficient_238, Feature 2: y_FFT mean coefficient_234\n",
            "Feature 1: y_FFT mean coefficient_238, Feature 2: y_FFT mean coefficient_235\n",
            "Feature 1: y_FFT mean coefficient_238, Feature 2: y_FFT mean coefficient_242\n",
            "Feature 1: y_FFT mean coefficient_238, Feature 2: y_FFT mean coefficient_243\n",
            "Feature 1: y_FFT mean coefficient_238, Feature 2: y_FFT mean coefficient_246\n",
            "Feature 1: y_FFT mean coefficient_239, Feature 2: y_FFT mean coefficient_220\n",
            "Feature 1: y_FFT mean coefficient_239, Feature 2: y_FFT mean coefficient_222\n",
            "Feature 1: y_FFT mean coefficient_239, Feature 2: y_FFT mean coefficient_230\n",
            "Feature 1: y_FFT mean coefficient_239, Feature 2: y_FFT mean coefficient_231\n",
            "Feature 1: y_FFT mean coefficient_239, Feature 2: y_FFT mean coefficient_242\n",
            "Feature 1: y_FFT mean coefficient_239, Feature 2: y_FFT mean coefficient_247\n",
            "Feature 1: y_FFT mean coefficient_239, Feature 2: y_FFT mean coefficient_249\n",
            "Feature 1: y_FFT mean coefficient_239, Feature 2: y_FFT mean coefficient_250\n",
            "Feature 1: y_FFT mean coefficient_240, Feature 2: y_FFT mean coefficient_221\n",
            "Feature 1: y_FFT mean coefficient_240, Feature 2: y_FFT mean coefficient_225\n",
            "Feature 1: y_FFT mean coefficient_240, Feature 2: y_FFT mean coefficient_228\n",
            "Feature 1: y_FFT mean coefficient_240, Feature 2: y_FFT mean coefficient_229\n",
            "Feature 1: y_FFT mean coefficient_240, Feature 2: y_FFT mean coefficient_232\n",
            "Feature 1: y_FFT mean coefficient_240, Feature 2: y_FFT mean coefficient_233\n",
            "Feature 1: y_FFT mean coefficient_240, Feature 2: y_FFT mean coefficient_236\n",
            "Feature 1: y_FFT mean coefficient_240, Feature 2: y_FFT mean coefficient_241\n",
            "Feature 1: y_FFT mean coefficient_240, Feature 2: y_FFT mean coefficient_244\n",
            "Feature 1: y_FFT mean coefficient_240, Feature 2: y_FFT mean coefficient_248\n",
            "Feature 1: y_FFT mean coefficient_241, Feature 2: y_FFT mean coefficient_217\n",
            "Feature 1: y_FFT mean coefficient_241, Feature 2: y_FFT mean coefficient_220\n",
            "Feature 1: y_FFT mean coefficient_241, Feature 2: y_FFT mean coefficient_221\n",
            "Feature 1: y_FFT mean coefficient_241, Feature 2: y_FFT mean coefficient_225\n",
            "Feature 1: y_FFT mean coefficient_241, Feature 2: y_FFT mean coefficient_228\n",
            "Feature 1: y_FFT mean coefficient_241, Feature 2: y_FFT mean coefficient_229\n",
            "Feature 1: y_FFT mean coefficient_241, Feature 2: y_FFT mean coefficient_232\n",
            "Feature 1: y_FFT mean coefficient_241, Feature 2: y_FFT mean coefficient_233\n",
            "Feature 1: y_FFT mean coefficient_241, Feature 2: y_FFT mean coefficient_236\n",
            "Feature 1: y_FFT mean coefficient_241, Feature 2: y_FFT mean coefficient_237\n",
            "Feature 1: y_FFT mean coefficient_241, Feature 2: y_FFT mean coefficient_240\n",
            "Feature 1: y_FFT mean coefficient_241, Feature 2: y_FFT mean coefficient_244\n",
            "Feature 1: y_FFT mean coefficient_241, Feature 2: y_FFT mean coefficient_245\n",
            "Feature 1: y_FFT mean coefficient_241, Feature 2: y_FFT mean coefficient_247\n",
            "Feature 1: y_FFT mean coefficient_241, Feature 2: y_FFT mean coefficient_248\n",
            "Feature 1: y_FFT mean coefficient_241, Feature 2: y_FFT mean coefficient_249\n",
            "Feature 1: y_FFT mean coefficient_242, Feature 2: y_FFT mean coefficient_219\n",
            "Feature 1: y_FFT mean coefficient_242, Feature 2: y_FFT mean coefficient_223\n",
            "Feature 1: y_FFT mean coefficient_242, Feature 2: y_FFT mean coefficient_230\n",
            "Feature 1: y_FFT mean coefficient_242, Feature 2: y_FFT mean coefficient_231\n",
            "Feature 1: y_FFT mean coefficient_242, Feature 2: y_FFT mean coefficient_234\n",
            "Feature 1: y_FFT mean coefficient_242, Feature 2: y_FFT mean coefficient_238\n",
            "Feature 1: y_FFT mean coefficient_242, Feature 2: y_FFT mean coefficient_239\n",
            "Feature 1: y_FFT mean coefficient_242, Feature 2: y_FFT mean coefficient_250\n",
            "Feature 1: y_FFT mean coefficient_243, Feature 2: y_FFT mean coefficient_216\n",
            "Feature 1: y_FFT mean coefficient_243, Feature 2: y_FFT mean coefficient_218\n",
            "Feature 1: y_FFT mean coefficient_243, Feature 2: y_FFT mean coefficient_223\n",
            "Feature 1: y_FFT mean coefficient_243, Feature 2: y_FFT mean coefficient_226\n",
            "Feature 1: y_FFT mean coefficient_243, Feature 2: y_FFT mean coefficient_227\n",
            "Feature 1: y_FFT mean coefficient_243, Feature 2: y_FFT mean coefficient_234\n",
            "Feature 1: y_FFT mean coefficient_243, Feature 2: y_FFT mean coefficient_235\n",
            "Feature 1: y_FFT mean coefficient_243, Feature 2: y_FFT mean coefficient_238\n",
            "Feature 1: y_FFT mean coefficient_244, Feature 2: y_FFT mean coefficient_221\n",
            "Feature 1: y_FFT mean coefficient_244, Feature 2: y_FFT mean coefficient_225\n",
            "Feature 1: y_FFT mean coefficient_244, Feature 2: y_FFT mean coefficient_228\n",
            "Feature 1: y_FFT mean coefficient_244, Feature 2: y_FFT mean coefficient_229\n",
            "Feature 1: y_FFT mean coefficient_244, Feature 2: y_FFT mean coefficient_232\n",
            "Feature 1: y_FFT mean coefficient_244, Feature 2: y_FFT mean coefficient_233\n",
            "Feature 1: y_FFT mean coefficient_244, Feature 2: y_FFT mean coefficient_236\n",
            "Feature 1: y_FFT mean coefficient_244, Feature 2: y_FFT mean coefficient_240\n",
            "Feature 1: y_FFT mean coefficient_244, Feature 2: y_FFT mean coefficient_241\n",
            "Feature 1: y_FFT mean coefficient_244, Feature 2: y_FFT mean coefficient_248\n",
            "Feature 1: y_FFT mean coefficient_245, Feature 2: y_FFT mean coefficient_221\n",
            "Feature 1: y_FFT mean coefficient_245, Feature 2: y_FFT mean coefficient_224\n",
            "Feature 1: y_FFT mean coefficient_245, Feature 2: y_FFT mean coefficient_229\n",
            "Feature 1: y_FFT mean coefficient_245, Feature 2: y_FFT mean coefficient_232\n",
            "Feature 1: y_FFT mean coefficient_245, Feature 2: y_FFT mean coefficient_237\n",
            "Feature 1: y_FFT mean coefficient_245, Feature 2: y_FFT mean coefficient_241\n",
            "Feature 1: y_FFT mean coefficient_245, Feature 2: y_FFT mean coefficient_247\n",
            "Feature 1: y_FFT mean coefficient_245, Feature 2: y_FFT mean coefficient_249\n",
            "Feature 1: y_FFT mean coefficient_246, Feature 2: y_FFT mean coefficient_226\n",
            "Feature 1: y_FFT mean coefficient_246, Feature 2: y_FFT mean coefficient_227\n",
            "Feature 1: y_FFT mean coefficient_246, Feature 2: y_FFT mean coefficient_235\n",
            "Feature 1: y_FFT mean coefficient_246, Feature 2: y_FFT mean coefficient_238\n",
            "Feature 1: y_FFT mean coefficient_247, Feature 2: y_FFT mean coefficient_220\n",
            "Feature 1: y_FFT mean coefficient_247, Feature 2: y_FFT mean coefficient_221\n",
            "Feature 1: y_FFT mean coefficient_247, Feature 2: y_FFT mean coefficient_222\n",
            "Feature 1: y_FFT mean coefficient_247, Feature 2: y_FFT mean coefficient_224\n",
            "Feature 1: y_FFT mean coefficient_247, Feature 2: y_FFT mean coefficient_229\n",
            "Feature 1: y_FFT mean coefficient_247, Feature 2: y_FFT mean coefficient_230\n",
            "Feature 1: y_FFT mean coefficient_247, Feature 2: y_FFT mean coefficient_231\n",
            "Feature 1: y_FFT mean coefficient_247, Feature 2: y_FFT mean coefficient_232\n",
            "Feature 1: y_FFT mean coefficient_247, Feature 2: y_FFT mean coefficient_237\n",
            "Feature 1: y_FFT mean coefficient_247, Feature 2: y_FFT mean coefficient_239\n",
            "Feature 1: y_FFT mean coefficient_247, Feature 2: y_FFT mean coefficient_241\n",
            "Feature 1: y_FFT mean coefficient_247, Feature 2: y_FFT mean coefficient_245\n",
            "Feature 1: y_FFT mean coefficient_247, Feature 2: y_FFT mean coefficient_249\n",
            "Feature 1: y_FFT mean coefficient_248, Feature 2: y_FFT mean coefficient_221\n",
            "Feature 1: y_FFT mean coefficient_248, Feature 2: y_FFT mean coefficient_225\n",
            "Feature 1: y_FFT mean coefficient_248, Feature 2: y_FFT mean coefficient_228\n",
            "Feature 1: y_FFT mean coefficient_248, Feature 2: y_FFT mean coefficient_229\n",
            "Feature 1: y_FFT mean coefficient_248, Feature 2: y_FFT mean coefficient_232\n",
            "Feature 1: y_FFT mean coefficient_248, Feature 2: y_FFT mean coefficient_233\n",
            "Feature 1: y_FFT mean coefficient_248, Feature 2: y_FFT mean coefficient_236\n",
            "Feature 1: y_FFT mean coefficient_248, Feature 2: y_FFT mean coefficient_240\n",
            "Feature 1: y_FFT mean coefficient_248, Feature 2: y_FFT mean coefficient_241\n",
            "Feature 1: y_FFT mean coefficient_248, Feature 2: y_FFT mean coefficient_244\n",
            "Feature 1: y_FFT mean coefficient_249, Feature 2: y_FFT mean coefficient_221\n",
            "Feature 1: y_FFT mean coefficient_249, Feature 2: y_FFT mean coefficient_222\n",
            "Feature 1: y_FFT mean coefficient_249, Feature 2: y_FFT mean coefficient_224\n",
            "Feature 1: y_FFT mean coefficient_249, Feature 2: y_FFT mean coefficient_229\n",
            "Feature 1: y_FFT mean coefficient_249, Feature 2: y_FFT mean coefficient_230\n",
            "Feature 1: y_FFT mean coefficient_249, Feature 2: y_FFT mean coefficient_232\n",
            "Feature 1: y_FFT mean coefficient_249, Feature 2: y_FFT mean coefficient_237\n",
            "Feature 1: y_FFT mean coefficient_249, Feature 2: y_FFT mean coefficient_239\n",
            "Feature 1: y_FFT mean coefficient_249, Feature 2: y_FFT mean coefficient_241\n",
            "Feature 1: y_FFT mean coefficient_249, Feature 2: y_FFT mean coefficient_245\n",
            "Feature 1: y_FFT mean coefficient_249, Feature 2: y_FFT mean coefficient_247\n",
            "Feature 1: y_FFT mean coefficient_250, Feature 2: y_FFT mean coefficient_222\n",
            "Feature 1: y_FFT mean coefficient_250, Feature 2: y_FFT mean coefficient_230\n",
            "Feature 1: y_FFT mean coefficient_250, Feature 2: y_FFT mean coefficient_231\n",
            "Feature 1: y_FFT mean coefficient_250, Feature 2: y_FFT mean coefficient_239\n",
            "Feature 1: y_FFT mean coefficient_250, Feature 2: y_FFT mean coefficient_242\n",
            "Feature 1: y_LPCC_1, Feature 2: y_LPCC_11\n",
            "Feature 1: y_LPCC_11, Feature 2: y_LPCC_1\n",
            "Feature 1: y_LPCC_3, Feature 2: y_LPCC_9\n",
            "Feature 1: y_LPCC_9, Feature 2: y_LPCC_3\n",
            "Feature 1: y_Negative turning points, Feature 2: y_Positive turning points\n",
            "Feature 1: y_Positive turning points, Feature 2: y_Negative turning points\n",
            "Feature 1: y_Wavelet absolute mean_4, Feature 2: y_Wavelet absolute mean_5\n",
            "Feature 1: y_Wavelet absolute mean_5, Feature 2: y_Wavelet absolute mean_4\n",
            "Feature 1: y_Wavelet absolute mean_5, Feature 2: y_Wavelet absolute mean_6\n",
            "Feature 1: y_Wavelet absolute mean_6, Feature 2: y_Wavelet absolute mean_5\n",
            "Feature 1: y_Wavelet absolute mean_6, Feature 2: y_Wavelet absolute mean_7\n",
            "Feature 1: y_Wavelet absolute mean_6, Feature 2: y_Wavelet absolute mean_8\n",
            "Feature 1: y_Wavelet absolute mean_7, Feature 2: y_Wavelet absolute mean_6\n",
            "Feature 1: y_Wavelet absolute mean_7, Feature 2: y_Wavelet absolute mean_8\n",
            "Feature 1: y_Wavelet absolute mean_8, Feature 2: y_Wavelet absolute mean_6\n",
            "Feature 1: y_Wavelet absolute mean_8, Feature 2: y_Wavelet absolute mean_7\n",
            "Feature 1: y_Wavelet energy_0, Feature 2: y_Wavelet standard deviation_0\n",
            "Feature 1: y_Wavelet energy_1, Feature 2: y_Wavelet standard deviation_1\n",
            "Feature 1: y_Wavelet energy_2, Feature 2: y_Wavelet standard deviation_2\n",
            "Feature 1: y_Wavelet energy_3, Feature 2: y_Wavelet standard deviation_3\n",
            "Feature 1: y_Wavelet energy_4, Feature 2: y_Wavelet standard deviation_4\n",
            "Feature 1: y_Wavelet energy_5, Feature 2: y_Wavelet standard deviation_5\n",
            "Feature 1: y_Wavelet energy_6, Feature 2: y_Wavelet standard deviation_6\n",
            "Feature 1: y_Wavelet energy_7, Feature 2: y_Wavelet standard deviation_7\n",
            "Feature 1: y_Wavelet energy_8, Feature 2: y_Wavelet standard deviation_8\n",
            "Feature 1: y_Wavelet standard deviation_0, Feature 2: y_Wavelet energy_0\n",
            "Feature 1: y_Wavelet standard deviation_1, Feature 2: y_Wavelet energy_1\n",
            "Feature 1: y_Wavelet standard deviation_2, Feature 2: y_Wavelet energy_2\n",
            "Feature 1: y_Wavelet standard deviation_3, Feature 2: y_Wavelet energy_3\n",
            "Feature 1: y_Wavelet standard deviation_4, Feature 2: y_Wavelet energy_4\n",
            "Feature 1: y_Wavelet standard deviation_5, Feature 2: y_Wavelet energy_5\n",
            "Feature 1: y_Wavelet standard deviation_6, Feature 2: y_Wavelet energy_6\n",
            "Feature 1: y_Wavelet standard deviation_7, Feature 2: y_Wavelet energy_7\n",
            "Feature 1: y_Wavelet standard deviation_8, Feature 2: y_Wavelet energy_8\n",
            "Feature 1: z_FFT mean coefficient_1, Feature 2: y_FFT mean coefficient_1\n",
            "Feature 1: z_FFT mean coefficient_220, Feature 2: z_FFT mean coefficient_224\n",
            "Feature 1: z_FFT mean coefficient_222, Feature 2: z_FFT mean coefficient_226\n",
            "Feature 1: z_FFT mean coefficient_224, Feature 2: z_FFT mean coefficient_220\n",
            "Feature 1: z_FFT mean coefficient_224, Feature 2: z_FFT mean coefficient_228\n",
            "Feature 1: z_FFT mean coefficient_224, Feature 2: z_FFT mean coefficient_232\n",
            "Feature 1: z_FFT mean coefficient_226, Feature 2: z_FFT mean coefficient_222\n",
            "Feature 1: z_FFT mean coefficient_226, Feature 2: z_FFT mean coefficient_230\n",
            "Feature 1: z_FFT mean coefficient_227, Feature 2: z_FFT mean coefficient_231\n",
            "Feature 1: z_FFT mean coefficient_228, Feature 2: z_FFT mean coefficient_224\n",
            "Feature 1: z_FFT mean coefficient_228, Feature 2: z_FFT mean coefficient_236\n",
            "Feature 1: z_FFT mean coefficient_228, Feature 2: z_FFT mean coefficient_244\n",
            "Feature 1: z_FFT mean coefficient_228, Feature 2: z_FFT mean coefficient_248\n",
            "Feature 1: z_FFT mean coefficient_229, Feature 2: z_FFT mean coefficient_233\n",
            "Feature 1: z_FFT mean coefficient_230, Feature 2: z_FFT mean coefficient_226\n",
            "Feature 1: z_FFT mean coefficient_230, Feature 2: z_FFT mean coefficient_234\n",
            "Feature 1: z_FFT mean coefficient_230, Feature 2: z_FFT mean coefficient_238\n",
            "Feature 1: z_FFT mean coefficient_231, Feature 2: z_FFT mean coefficient_227\n",
            "Feature 1: z_FFT mean coefficient_231, Feature 2: z_FFT mean coefficient_235\n",
            "Feature 1: z_FFT mean coefficient_232, Feature 2: z_FFT mean coefficient_224\n",
            "Feature 1: z_FFT mean coefficient_232, Feature 2: z_FFT mean coefficient_240\n",
            "Feature 1: z_FFT mean coefficient_232, Feature 2: z_FFT mean coefficient_248\n",
            "Feature 1: z_FFT mean coefficient_233, Feature 2: z_FFT mean coefficient_229\n",
            "Feature 1: z_FFT mean coefficient_233, Feature 2: z_FFT mean coefficient_237\n",
            "Feature 1: z_FFT mean coefficient_234, Feature 2: z_FFT mean coefficient_230\n",
            "Feature 1: z_FFT mean coefficient_234, Feature 2: z_FFT mean coefficient_238\n",
            "Feature 1: z_FFT mean coefficient_234, Feature 2: z_FFT mean coefficient_242\n",
            "Feature 1: z_FFT mean coefficient_234, Feature 2: z_FFT mean coefficient_246\n",
            "Feature 1: z_FFT mean coefficient_234, Feature 2: z_FFT mean coefficient_250\n",
            "Feature 1: z_FFT mean coefficient_235, Feature 2: z_FFT mean coefficient_231\n",
            "Feature 1: z_FFT mean coefficient_235, Feature 2: z_FFT mean coefficient_239\n",
            "Feature 1: z_FFT mean coefficient_236, Feature 2: z_FFT mean coefficient_228\n",
            "Feature 1: z_FFT mean coefficient_236, Feature 2: z_FFT mean coefficient_244\n",
            "Feature 1: z_FFT mean coefficient_236, Feature 2: z_FFT mean coefficient_248\n",
            "Feature 1: z_FFT mean coefficient_237, Feature 2: z_FFT mean coefficient_233\n",
            "Feature 1: z_FFT mean coefficient_237, Feature 2: z_FFT mean coefficient_241\n",
            "Feature 1: z_FFT mean coefficient_238, Feature 2: z_FFT mean coefficient_230\n",
            "Feature 1: z_FFT mean coefficient_238, Feature 2: z_FFT mean coefficient_234\n",
            "Feature 1: z_FFT mean coefficient_238, Feature 2: z_FFT mean coefficient_242\n",
            "Feature 1: z_FFT mean coefficient_238, Feature 2: z_FFT mean coefficient_246\n",
            "Feature 1: z_FFT mean coefficient_238, Feature 2: z_FFT mean coefficient_250\n",
            "Feature 1: z_FFT mean coefficient_239, Feature 2: z_FFT mean coefficient_235\n",
            "Feature 1: z_FFT mean coefficient_239, Feature 2: z_FFT mean coefficient_243\n",
            "Feature 1: z_FFT mean coefficient_240, Feature 2: z_FFT mean coefficient_232\n",
            "Feature 1: z_FFT mean coefficient_240, Feature 2: z_FFT mean coefficient_244\n",
            "Feature 1: z_FFT mean coefficient_240, Feature 2: z_FFT mean coefficient_248\n",
            "Feature 1: z_FFT mean coefficient_241, Feature 2: z_FFT mean coefficient_237\n",
            "Feature 1: z_FFT mean coefficient_242, Feature 2: z_FFT mean coefficient_234\n",
            "Feature 1: z_FFT mean coefficient_242, Feature 2: z_FFT mean coefficient_238\n",
            "Feature 1: z_FFT mean coefficient_242, Feature 2: z_FFT mean coefficient_246\n",
            "Feature 1: z_FFT mean coefficient_242, Feature 2: z_FFT mean coefficient_250\n",
            "Feature 1: z_FFT mean coefficient_243, Feature 2: z_FFT mean coefficient_239\n",
            "Feature 1: z_FFT mean coefficient_244, Feature 2: z_FFT mean coefficient_228\n",
            "Feature 1: z_FFT mean coefficient_244, Feature 2: z_FFT mean coefficient_236\n",
            "Feature 1: z_FFT mean coefficient_244, Feature 2: z_FFT mean coefficient_240\n",
            "Feature 1: z_FFT mean coefficient_244, Feature 2: z_FFT mean coefficient_248\n",
            "Feature 1: z_FFT mean coefficient_246, Feature 2: z_FFT mean coefficient_234\n",
            "Feature 1: z_FFT mean coefficient_246, Feature 2: z_FFT mean coefficient_238\n",
            "Feature 1: z_FFT mean coefficient_246, Feature 2: z_FFT mean coefficient_242\n",
            "Feature 1: z_FFT mean coefficient_246, Feature 2: z_FFT mean coefficient_250\n",
            "Feature 1: z_FFT mean coefficient_248, Feature 2: z_FFT mean coefficient_228\n",
            "Feature 1: z_FFT mean coefficient_248, Feature 2: z_FFT mean coefficient_232\n",
            "Feature 1: z_FFT mean coefficient_248, Feature 2: z_FFT mean coefficient_236\n",
            "Feature 1: z_FFT mean coefficient_248, Feature 2: z_FFT mean coefficient_240\n",
            "Feature 1: z_FFT mean coefficient_248, Feature 2: z_FFT mean coefficient_244\n",
            "Feature 1: z_FFT mean coefficient_250, Feature 2: z_FFT mean coefficient_234\n",
            "Feature 1: z_FFT mean coefficient_250, Feature 2: z_FFT mean coefficient_238\n",
            "Feature 1: z_FFT mean coefficient_250, Feature 2: z_FFT mean coefficient_242\n",
            "Feature 1: z_FFT mean coefficient_250, Feature 2: z_FFT mean coefficient_246\n",
            "Feature 1: z_Negative turning points, Feature 2: z_Positive turning points\n",
            "Feature 1: z_Positive turning points, Feature 2: z_Negative turning points\n",
            "Feature 1: z_Spectral centroid, Feature 2: z_Spectral slope\n",
            "Feature 1: z_Spectral slope, Feature 2: z_Spectral centroid\n",
            "Feature 1: z_Wavelet absolute mean_4, Feature 2: z_Wavelet absolute mean_5\n",
            "Feature 1: z_Wavelet absolute mean_5, Feature 2: z_Wavelet absolute mean_4\n",
            "Feature 1: z_Wavelet absolute mean_5, Feature 2: z_Wavelet absolute mean_6\n",
            "Feature 1: z_Wavelet absolute mean_6, Feature 2: z_Wavelet absolute mean_5\n",
            "Feature 1: z_Wavelet absolute mean_6, Feature 2: z_Wavelet absolute mean_7\n",
            "Feature 1: z_Wavelet absolute mean_7, Feature 2: z_Wavelet absolute mean_6\n",
            "Feature 1: z_Wavelet absolute mean_7, Feature 2: z_Wavelet absolute mean_8\n",
            "Feature 1: z_Wavelet absolute mean_8, Feature 2: z_Wavelet absolute mean_7\n",
            "Feature 1: z_Wavelet energy_0, Feature 2: z_Wavelet standard deviation_0\n",
            "Feature 1: z_Wavelet energy_1, Feature 2: z_Wavelet standard deviation_1\n",
            "Feature 1: z_Wavelet energy_2, Feature 2: z_Wavelet standard deviation_2\n",
            "Feature 1: z_Wavelet energy_3, Feature 2: z_Wavelet standard deviation_3\n",
            "Feature 1: z_Wavelet energy_4, Feature 2: z_Wavelet standard deviation_4\n",
            "Feature 1: z_Wavelet energy_5, Feature 2: z_Wavelet standard deviation_5\n",
            "Feature 1: z_Wavelet energy_6, Feature 2: z_Wavelet standard deviation_6\n",
            "Feature 1: z_Wavelet energy_7, Feature 2: z_Wavelet standard deviation_7\n",
            "Feature 1: z_Wavelet energy_8, Feature 2: z_Wavelet standard deviation_8\n",
            "Feature 1: z_Wavelet standard deviation_0, Feature 2: z_Wavelet energy_0\n",
            "Feature 1: z_Wavelet standard deviation_1, Feature 2: z_Wavelet energy_1\n",
            "Feature 1: z_Wavelet standard deviation_2, Feature 2: z_Wavelet energy_2\n",
            "Feature 1: z_Wavelet standard deviation_3, Feature 2: z_Wavelet energy_3\n",
            "Feature 1: z_Wavelet standard deviation_4, Feature 2: z_Wavelet energy_4\n",
            "Feature 1: z_Wavelet standard deviation_5, Feature 2: z_Wavelet energy_5\n",
            "Feature 1: z_Wavelet standard deviation_6, Feature 2: z_Wavelet energy_6\n",
            "Feature 1: z_Wavelet standard deviation_7, Feature 2: z_Wavelet energy_7\n",
            "Feature 1: z_Wavelet standard deviation_8, Feature 2: z_Wavelet energy_8\n"
          ]
        }
      ]
    },
    {
      "cell_type": "code",
      "source": [
        "from sklearn.tree import DecisionTreeClassifier\n",
        "from sklearn.metrics import accuracy_score, precision_score, recall_score, confusion_matrix, classification_report\n",
        "from sklearn.tree import export_graphviz\n",
        "import graphviz\n",
        "\n",
        "clf = DecisionTreeClassifier(random_state=42)"
      ],
      "metadata": {
        "colab": {
          "base_uri": "https://localhost:8080/"
        },
        "id": "PXCjSTdwXOmT",
        "outputId": "0637eb36-041d-4af7-c2a0-d6ddb912ce20"
      },
      "execution_count": 17,
      "outputs": [
        {
          "output_type": "stream",
          "name": "stdout",
          "text": [
            "[1 2 3 4 5 6]\n"
          ]
        }
      ]
    }
  ],
  "metadata": {
    "colab": {
      "provenance": []
    },
    "kernelspec": {
      "display_name": "Python 3",
      "name": "python3"
    },
    "language_info": {
      "name": "python"
    }
  },
  "nbformat": 4,
  "nbformat_minor": 0
}